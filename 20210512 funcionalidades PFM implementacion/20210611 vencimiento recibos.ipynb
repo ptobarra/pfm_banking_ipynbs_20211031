{
 "cells": [
  {
   "cell_type": "code",
   "execution_count": 458,
   "id": "2467238f",
   "metadata": {},
   "outputs": [],
   "source": [
    "import pandas\n",
    "from pandas import read_excel, to_datetime, DataFrame, concat\n",
    "from pandas.plotting import lag_plot, autocorrelation_plot\n",
    "from datetime import datetime, timedelta\n",
    "import dateutil.relativedelta\n",
    "import statistics\n",
    "from matplotlib import pyplot\n",
    "from numpy import logical_not"
   ]
  },
  {
   "cell_type": "code",
   "execution_count": 242,
   "id": "968432e6",
   "metadata": {},
   "outputs": [],
   "source": [
    "# cambiamos el valor de estos 4 parametros para que nos muestre dataframes sin truncarlos\n",
    "# pandas.set_option('display.max_rows', 75)\n",
    "pandas.set_option('display.max_columns', None)\n",
    "pandas.set_option('display.width', None)\n",
    "pandas.set_option('display.max_colwidth', None)"
   ]
  },
  {
   "cell_type": "code",
   "execution_count": 243,
   "id": "6127277d",
   "metadata": {},
   "outputs": [],
   "source": [
    "# vamos a estudiar vencimiento recibos 1o seguro_salud_90 q esta en 5o lugar en numero observaciones y en 10o lugar en cuantia\n",
    "# de las mismas."
   ]
  },
  {
   "cell_type": "code",
   "execution_count": 244,
   "id": "bd7a0b99",
   "metadata": {},
   "outputs": [
    {
     "data": {
      "text/html": [
       "<div>\n",
       "<style scoped>\n",
       "    .dataframe tbody tr th:only-of-type {\n",
       "        vertical-align: middle;\n",
       "    }\n",
       "\n",
       "    .dataframe tbody tr th {\n",
       "        vertical-align: top;\n",
       "    }\n",
       "\n",
       "    .dataframe thead th {\n",
       "        text-align: right;\n",
       "    }\n",
       "</style>\n",
       "<table border=\"1\" class=\"dataframe\">\n",
       "  <thead>\n",
       "    <tr style=\"text-align: right;\">\n",
       "      <th></th>\n",
       "      <th>Fecha transacción</th>\n",
       "      <th>Importe</th>\n",
       "      <th>ID Categoría</th>\n",
       "      <th>Nombre categoría</th>\n",
       "      <th>Nivel categoría</th>\n",
       "      <th>iD categoría padre</th>\n",
       "      <th>Nombre categoría padre</th>\n",
       "      <th>Proveedor</th>\n",
       "      <th>Marca</th>\n",
       "      <th>Sector</th>\n",
       "      <th>Financiero</th>\n",
       "      <th>Transferencia</th>\n",
       "      <th>Unnamed: 12</th>\n",
       "      <th>Unnamed: 13</th>\n",
       "      <th>ID</th>\n",
       "      <th>BALANCE</th>\n",
       "      <th>BALANCE_DATE</th>\n",
       "    </tr>\n",
       "  </thead>\n",
       "  <tbody>\n",
       "    <tr>\n",
       "      <th>0</th>\n",
       "      <td>2020-07-24</td>\n",
       "      <td>-1.20</td>\n",
       "      <td>84.0</td>\n",
       "      <td>parking_84</td>\n",
       "      <td>2.0</td>\n",
       "      <td>5.0</td>\n",
       "      <td>vehiculos_5</td>\n",
       "      <td>NaN</td>\n",
       "      <td>NaN</td>\n",
       "      <td>NaN</td>\n",
       "      <td>False</td>\n",
       "      <td>False</td>\n",
       "      <td>NaN</td>\n",
       "      <td>NaN</td>\n",
       "      <td>249236.0</td>\n",
       "      <td>1478.98</td>\n",
       "      <td>2020-07-26</td>\n",
       "    </tr>\n",
       "    <tr>\n",
       "      <th>1</th>\n",
       "      <td>2020-07-23</td>\n",
       "      <td>-4.50</td>\n",
       "      <td>117.0</td>\n",
       "      <td>regalos_celebraciones_117</td>\n",
       "      <td>2.0</td>\n",
       "      <td>8.0</td>\n",
       "      <td>gastos_personales_8</td>\n",
       "      <td>NaN</td>\n",
       "      <td>NaN</td>\n",
       "      <td>NaN</td>\n",
       "      <td>False</td>\n",
       "      <td>False</td>\n",
       "      <td>NaN</td>\n",
       "      <td>NaN</td>\n",
       "      <td>NaN</td>\n",
       "      <td>NaN</td>\n",
       "      <td>NaT</td>\n",
       "    </tr>\n",
       "    <tr>\n",
       "      <th>2</th>\n",
       "      <td>2020-07-23</td>\n",
       "      <td>-13.53</td>\n",
       "      <td>70.0</td>\n",
       "      <td>supermercados_70</td>\n",
       "      <td>2.0</td>\n",
       "      <td>4.0</td>\n",
       "      <td>alimentacion_4</td>\n",
       "      <td>SPAR</td>\n",
       "      <td>SPAR</td>\n",
       "      <td>Supermercados</td>\n",
       "      <td>False</td>\n",
       "      <td>False</td>\n",
       "      <td>NaN</td>\n",
       "      <td>NaN</td>\n",
       "      <td>NaN</td>\n",
       "      <td>NaN</td>\n",
       "      <td>NaT</td>\n",
       "    </tr>\n",
       "    <tr>\n",
       "      <th>3</th>\n",
       "      <td>2020-07-22</td>\n",
       "      <td>-51.40</td>\n",
       "      <td>222.0</td>\n",
       "      <td>adsl_222</td>\n",
       "      <td>3.0</td>\n",
       "      <td>521.0</td>\n",
       "      <td>Comunicaciones y TV</td>\n",
       "      <td>Jazz Telecom</td>\n",
       "      <td>Jazztel</td>\n",
       "      <td>Compañías telecomunicaciones</td>\n",
       "      <td>False</td>\n",
       "      <td>False</td>\n",
       "      <td>NaN</td>\n",
       "      <td>NaN</td>\n",
       "      <td>NaN</td>\n",
       "      <td>NaN</td>\n",
       "      <td>NaT</td>\n",
       "    </tr>\n",
       "    <tr>\n",
       "      <th>4</th>\n",
       "      <td>2020-07-22</td>\n",
       "      <td>-11.00</td>\n",
       "      <td>70.0</td>\n",
       "      <td>supermercados_70</td>\n",
       "      <td>2.0</td>\n",
       "      <td>4.0</td>\n",
       "      <td>alimentacion_4</td>\n",
       "      <td>Mercadona</td>\n",
       "      <td>Mercadona</td>\n",
       "      <td>Supermercados</td>\n",
       "      <td>False</td>\n",
       "      <td>False</td>\n",
       "      <td>NaN</td>\n",
       "      <td>NaN</td>\n",
       "      <td>NaN</td>\n",
       "      <td>NaN</td>\n",
       "      <td>NaT</td>\n",
       "    </tr>\n",
       "    <tr>\n",
       "      <th>...</th>\n",
       "      <td>...</td>\n",
       "      <td>...</td>\n",
       "      <td>...</td>\n",
       "      <td>...</td>\n",
       "      <td>...</td>\n",
       "      <td>...</td>\n",
       "      <td>...</td>\n",
       "      <td>...</td>\n",
       "      <td>...</td>\n",
       "      <td>...</td>\n",
       "      <td>...</td>\n",
       "      <td>...</td>\n",
       "      <td>...</td>\n",
       "      <td>...</td>\n",
       "      <td>...</td>\n",
       "      <td>...</td>\n",
       "      <td>...</td>\n",
       "    </tr>\n",
       "    <tr>\n",
       "      <th>1482</th>\n",
       "      <td>2016-09-05</td>\n",
       "      <td>1533.02</td>\n",
       "      <td>18.0</td>\n",
       "      <td>retribucion_liquida_18</td>\n",
       "      <td>3.0</td>\n",
       "      <td>576.0</td>\n",
       "      <td>Nómina</td>\n",
       "      <td>NaN</td>\n",
       "      <td>NaN</td>\n",
       "      <td>NaN</td>\n",
       "      <td>False</td>\n",
       "      <td>False</td>\n",
       "      <td>NaN</td>\n",
       "      <td>NaN</td>\n",
       "      <td>NaN</td>\n",
       "      <td>NaN</td>\n",
       "      <td>NaT</td>\n",
       "    </tr>\n",
       "    <tr>\n",
       "      <th>1483</th>\n",
       "      <td>2016-09-05</td>\n",
       "      <td>-617.47</td>\n",
       "      <td>126.0</td>\n",
       "      <td>liquidacion_tarjeta_126</td>\n",
       "      <td>3.0</td>\n",
       "      <td>478.0</td>\n",
       "      <td>tarjetas_credito_478</td>\n",
       "      <td>NaN</td>\n",
       "      <td>NaN</td>\n",
       "      <td>NaN</td>\n",
       "      <td>True</td>\n",
       "      <td>True</td>\n",
       "      <td>NaN</td>\n",
       "      <td>NaN</td>\n",
       "      <td>NaN</td>\n",
       "      <td>NaN</td>\n",
       "      <td>NaT</td>\n",
       "    </tr>\n",
       "    <tr>\n",
       "      <th>1484</th>\n",
       "      <td>2016-09-05</td>\n",
       "      <td>-138.08</td>\n",
       "      <td>125.0</td>\n",
       "      <td>cuotas_125</td>\n",
       "      <td>3.0</td>\n",
       "      <td>127.0</td>\n",
       "      <td>otros_pasivos_127</td>\n",
       "      <td>NaN</td>\n",
       "      <td>NaN</td>\n",
       "      <td>NaN</td>\n",
       "      <td>True</td>\n",
       "      <td>False</td>\n",
       "      <td>NaN</td>\n",
       "      <td>NaN</td>\n",
       "      <td>NaN</td>\n",
       "      <td>NaN</td>\n",
       "      <td>NaT</td>\n",
       "    </tr>\n",
       "    <tr>\n",
       "      <th>1485</th>\n",
       "      <td>2016-09-01</td>\n",
       "      <td>-32.22</td>\n",
       "      <td>90.0</td>\n",
       "      <td>seguro_salud_90</td>\n",
       "      <td>2.0</td>\n",
       "      <td>6.0</td>\n",
       "      <td>salud_6</td>\n",
       "      <td>Sanitas S.A. de Seguros</td>\n",
       "      <td>Sanitas</td>\n",
       "      <td>Seguros de salud</td>\n",
       "      <td>True</td>\n",
       "      <td>False</td>\n",
       "      <td>NaN</td>\n",
       "      <td>NaN</td>\n",
       "      <td>NaN</td>\n",
       "      <td>NaN</td>\n",
       "      <td>NaT</td>\n",
       "    </tr>\n",
       "    <tr>\n",
       "      <th>1486</th>\n",
       "      <td>2016-09-01</td>\n",
       "      <td>-33.00</td>\n",
       "      <td>434.0</td>\n",
       "      <td>cuotas_434</td>\n",
       "      <td>3.0</td>\n",
       "      <td>115.0</td>\n",
       "      <td>deportes_115</td>\n",
       "      <td>Royal Sport Center</td>\n",
       "      <td>Royal Sport Center</td>\n",
       "      <td>Clubs deportivos</td>\n",
       "      <td>False</td>\n",
       "      <td>False</td>\n",
       "      <td>NaN</td>\n",
       "      <td>NaN</td>\n",
       "      <td>NaN</td>\n",
       "      <td>NaN</td>\n",
       "      <td>NaT</td>\n",
       "    </tr>\n",
       "  </tbody>\n",
       "</table>\n",
       "<p>1487 rows × 17 columns</p>\n",
       "</div>"
      ],
      "text/plain": [
       "     Fecha transacción  Importe  ID Categoría           Nombre categoría  \\\n",
       "0           2020-07-24    -1.20          84.0                 parking_84   \n",
       "1           2020-07-23    -4.50         117.0  regalos_celebraciones_117   \n",
       "2           2020-07-23   -13.53          70.0           supermercados_70   \n",
       "3           2020-07-22   -51.40         222.0                   adsl_222   \n",
       "4           2020-07-22   -11.00          70.0           supermercados_70   \n",
       "...                ...      ...           ...                        ...   \n",
       "1482        2016-09-05  1533.02          18.0     retribucion_liquida_18   \n",
       "1483        2016-09-05  -617.47         126.0    liquidacion_tarjeta_126   \n",
       "1484        2016-09-05  -138.08         125.0                 cuotas_125   \n",
       "1485        2016-09-01   -32.22          90.0            seguro_salud_90   \n",
       "1486        2016-09-01   -33.00         434.0                 cuotas_434   \n",
       "\n",
       "      Nivel categoría  iD categoría padre Nombre categoría padre  \\\n",
       "0                 2.0                 5.0            vehiculos_5   \n",
       "1                 2.0                 8.0    gastos_personales_8   \n",
       "2                 2.0                 4.0         alimentacion_4   \n",
       "3                 3.0               521.0    Comunicaciones y TV   \n",
       "4                 2.0                 4.0         alimentacion_4   \n",
       "...               ...                 ...                    ...   \n",
       "1482              3.0               576.0                 Nómina   \n",
       "1483              3.0               478.0   tarjetas_credito_478   \n",
       "1484              3.0               127.0      otros_pasivos_127   \n",
       "1485              2.0                 6.0                salud_6   \n",
       "1486              3.0               115.0           deportes_115   \n",
       "\n",
       "                    Proveedor               Marca  \\\n",
       "0                         NaN                 NaN   \n",
       "1                         NaN                 NaN   \n",
       "2                        SPAR                SPAR   \n",
       "3                Jazz Telecom             Jazztel   \n",
       "4                   Mercadona           Mercadona   \n",
       "...                       ...                 ...   \n",
       "1482                      NaN                 NaN   \n",
       "1483                      NaN                 NaN   \n",
       "1484                      NaN                 NaN   \n",
       "1485  Sanitas S.A. de Seguros             Sanitas   \n",
       "1486       Royal Sport Center  Royal Sport Center   \n",
       "\n",
       "                            Sector  Financiero  Transferencia  Unnamed: 12  \\\n",
       "0                              NaN       False          False          NaN   \n",
       "1                              NaN       False          False          NaN   \n",
       "2                    Supermercados       False          False          NaN   \n",
       "3     Compañías telecomunicaciones       False          False          NaN   \n",
       "4                    Supermercados       False          False          NaN   \n",
       "...                            ...         ...            ...          ...   \n",
       "1482                           NaN       False          False          NaN   \n",
       "1483                           NaN        True           True          NaN   \n",
       "1484                           NaN        True          False          NaN   \n",
       "1485              Seguros de salud        True          False          NaN   \n",
       "1486              Clubs deportivos       False          False          NaN   \n",
       "\n",
       "      Unnamed: 13        ID  BALANCE BALANCE_DATE  \n",
       "0             NaN  249236.0  1478.98   2020-07-26  \n",
       "1             NaN       NaN      NaN          NaT  \n",
       "2             NaN       NaN      NaN          NaT  \n",
       "3             NaN       NaN      NaN          NaT  \n",
       "4             NaN       NaN      NaN          NaT  \n",
       "...           ...       ...      ...          ...  \n",
       "1482          NaN       NaN      NaN          NaT  \n",
       "1483          NaN       NaN      NaN          NaT  \n",
       "1484          NaN       NaN      NaN          NaT  \n",
       "1485          NaN       NaN      NaN          NaT  \n",
       "1486          NaN       NaN      NaN          NaT  \n",
       "\n",
       "[1487 rows x 17 columns]"
      ]
     },
     "execution_count": 244,
     "metadata": {},
     "output_type": "execute_result"
    }
   ],
   "source": [
    "# Load data using read_excel\n",
    "transacciones_df = read_excel('20210513 mmelero (249236).xlsx', sheet_name='Hoja1')\n",
    "transacciones_df"
   ]
  },
  {
   "cell_type": "code",
   "execution_count": 245,
   "id": "10450518",
   "metadata": {},
   "outputs": [
    {
     "data": {
      "text/html": [
       "<div>\n",
       "<style scoped>\n",
       "    .dataframe tbody tr th:only-of-type {\n",
       "        vertical-align: middle;\n",
       "    }\n",
       "\n",
       "    .dataframe tbody tr th {\n",
       "        vertical-align: top;\n",
       "    }\n",
       "\n",
       "    .dataframe thead th {\n",
       "        text-align: right;\n",
       "    }\n",
       "</style>\n",
       "<table border=\"1\" class=\"dataframe\">\n",
       "  <thead>\n",
       "    <tr style=\"text-align: right;\">\n",
       "      <th></th>\n",
       "      <th>Fecha transacción</th>\n",
       "      <th>Importe</th>\n",
       "      <th>ID Categoría</th>\n",
       "      <th>Nombre categoría</th>\n",
       "    </tr>\n",
       "  </thead>\n",
       "  <tbody>\n",
       "    <tr>\n",
       "      <th>0</th>\n",
       "      <td>2020-07-24</td>\n",
       "      <td>-1.20</td>\n",
       "      <td>84.0</td>\n",
       "      <td>parking_84</td>\n",
       "    </tr>\n",
       "    <tr>\n",
       "      <th>1</th>\n",
       "      <td>2020-07-23</td>\n",
       "      <td>-4.50</td>\n",
       "      <td>117.0</td>\n",
       "      <td>regalos_celebraciones_117</td>\n",
       "    </tr>\n",
       "    <tr>\n",
       "      <th>2</th>\n",
       "      <td>2020-07-23</td>\n",
       "      <td>-13.53</td>\n",
       "      <td>70.0</td>\n",
       "      <td>supermercados_70</td>\n",
       "    </tr>\n",
       "    <tr>\n",
       "      <th>3</th>\n",
       "      <td>2020-07-22</td>\n",
       "      <td>-51.40</td>\n",
       "      <td>222.0</td>\n",
       "      <td>adsl_222</td>\n",
       "    </tr>\n",
       "    <tr>\n",
       "      <th>4</th>\n",
       "      <td>2020-07-22</td>\n",
       "      <td>-11.00</td>\n",
       "      <td>70.0</td>\n",
       "      <td>supermercados_70</td>\n",
       "    </tr>\n",
       "    <tr>\n",
       "      <th>...</th>\n",
       "      <td>...</td>\n",
       "      <td>...</td>\n",
       "      <td>...</td>\n",
       "      <td>...</td>\n",
       "    </tr>\n",
       "    <tr>\n",
       "      <th>1482</th>\n",
       "      <td>2016-09-05</td>\n",
       "      <td>1533.02</td>\n",
       "      <td>18.0</td>\n",
       "      <td>retribucion_liquida_18</td>\n",
       "    </tr>\n",
       "    <tr>\n",
       "      <th>1483</th>\n",
       "      <td>2016-09-05</td>\n",
       "      <td>-617.47</td>\n",
       "      <td>126.0</td>\n",
       "      <td>liquidacion_tarjeta_126</td>\n",
       "    </tr>\n",
       "    <tr>\n",
       "      <th>1484</th>\n",
       "      <td>2016-09-05</td>\n",
       "      <td>-138.08</td>\n",
       "      <td>125.0</td>\n",
       "      <td>cuotas_125</td>\n",
       "    </tr>\n",
       "    <tr>\n",
       "      <th>1485</th>\n",
       "      <td>2016-09-01</td>\n",
       "      <td>-32.22</td>\n",
       "      <td>90.0</td>\n",
       "      <td>seguro_salud_90</td>\n",
       "    </tr>\n",
       "    <tr>\n",
       "      <th>1486</th>\n",
       "      <td>2016-09-01</td>\n",
       "      <td>-33.00</td>\n",
       "      <td>434.0</td>\n",
       "      <td>cuotas_434</td>\n",
       "    </tr>\n",
       "  </tbody>\n",
       "</table>\n",
       "<p>1487 rows × 4 columns</p>\n",
       "</div>"
      ],
      "text/plain": [
       "     Fecha transacción  Importe  ID Categoría           Nombre categoría\n",
       "0           2020-07-24    -1.20          84.0                 parking_84\n",
       "1           2020-07-23    -4.50         117.0  regalos_celebraciones_117\n",
       "2           2020-07-23   -13.53          70.0           supermercados_70\n",
       "3           2020-07-22   -51.40         222.0                   adsl_222\n",
       "4           2020-07-22   -11.00          70.0           supermercados_70\n",
       "...                ...      ...           ...                        ...\n",
       "1482        2016-09-05  1533.02          18.0     retribucion_liquida_18\n",
       "1483        2016-09-05  -617.47         126.0    liquidacion_tarjeta_126\n",
       "1484        2016-09-05  -138.08         125.0                 cuotas_125\n",
       "1485        2016-09-01   -32.22          90.0            seguro_salud_90\n",
       "1486        2016-09-01   -33.00         434.0                 cuotas_434\n",
       "\n",
       "[1487 rows x 4 columns]"
      ]
     },
     "execution_count": 245,
     "metadata": {},
     "output_type": "execute_result"
    }
   ],
   "source": [
    "# nos quedamos con categoria desde 'Fecha transacción' hasta 'Nombre Categoría'\n",
    "transacciones_df=transacciones_df.iloc[:,0:4]\n",
    "transacciones_df"
   ]
  },
  {
   "cell_type": "code",
   "execution_count": 246,
   "id": "f4020653",
   "metadata": {},
   "outputs": [],
   "source": [
    "# vemos que la categoria '90' de 'seguro_salud_90' es la 5a en numero de transacciones y la 10a en cuantia de las mismas así que\n",
    "# vamos a quedarnos sólo como las transacciones de esta categoria y hacer un estudio estadistico temporal de las mismas"
   ]
  },
  {
   "cell_type": "code",
   "execution_count": 247,
   "id": "b6125f9b",
   "metadata": {},
   "outputs": [
    {
     "data": {
      "text/html": [
       "<div>\n",
       "<style scoped>\n",
       "    .dataframe tbody tr th:only-of-type {\n",
       "        vertical-align: middle;\n",
       "    }\n",
       "\n",
       "    .dataframe tbody tr th {\n",
       "        vertical-align: top;\n",
       "    }\n",
       "\n",
       "    .dataframe thead th {\n",
       "        text-align: right;\n",
       "    }\n",
       "</style>\n",
       "<table border=\"1\" class=\"dataframe\">\n",
       "  <thead>\n",
       "    <tr style=\"text-align: right;\">\n",
       "      <th></th>\n",
       "      <th>Fecha transacción</th>\n",
       "      <th>Importe</th>\n",
       "      <th>ID Categoría</th>\n",
       "      <th>Nombre categoría</th>\n",
       "    </tr>\n",
       "  </thead>\n",
       "  <tbody>\n",
       "    <tr>\n",
       "      <th>303</th>\n",
       "      <td>2019-04-10</td>\n",
       "      <td>72.38</td>\n",
       "      <td>90.0</td>\n",
       "      <td>seguro_salud_90</td>\n",
       "    </tr>\n",
       "    <tr>\n",
       "      <th>338</th>\n",
       "      <td>2019-03-01</td>\n",
       "      <td>-71.10</td>\n",
       "      <td>90.0</td>\n",
       "      <td>seguro_salud_90</td>\n",
       "    </tr>\n",
       "    <tr>\n",
       "      <th>339</th>\n",
       "      <td>2019-03-01</td>\n",
       "      <td>-37.07</td>\n",
       "      <td>90.0</td>\n",
       "      <td>seguro_salud_90</td>\n",
       "    </tr>\n",
       "    <tr>\n",
       "      <th>352</th>\n",
       "      <td>2019-02-14</td>\n",
       "      <td>-71.10</td>\n",
       "      <td>90.0</td>\n",
       "      <td>seguro_salud_90</td>\n",
       "    </tr>\n",
       "    <tr>\n",
       "      <th>374</th>\n",
       "      <td>2019-02-01</td>\n",
       "      <td>-37.07</td>\n",
       "      <td>90.0</td>\n",
       "      <td>seguro_salud_90</td>\n",
       "    </tr>\n",
       "    <tr>\n",
       "      <th>375</th>\n",
       "      <td>2019-02-01</td>\n",
       "      <td>-71.10</td>\n",
       "      <td>90.0</td>\n",
       "      <td>seguro_salud_90</td>\n",
       "    </tr>\n",
       "    <tr>\n",
       "      <th>401</th>\n",
       "      <td>2019-01-02</td>\n",
       "      <td>-37.07</td>\n",
       "      <td>90.0</td>\n",
       "      <td>seguro_salud_90</td>\n",
       "    </tr>\n",
       "    <tr>\n",
       "      <th>403</th>\n",
       "      <td>2019-01-02</td>\n",
       "      <td>-72.38</td>\n",
       "      <td>90.0</td>\n",
       "      <td>seguro_salud_90</td>\n",
       "    </tr>\n",
       "    <tr>\n",
       "      <th>404</th>\n",
       "      <td>2019-01-02</td>\n",
       "      <td>-5.00</td>\n",
       "      <td>90.0</td>\n",
       "      <td>seguro_salud_90</td>\n",
       "    </tr>\n",
       "    <tr>\n",
       "      <th>440</th>\n",
       "      <td>2018-12-03</td>\n",
       "      <td>-66.85</td>\n",
       "      <td>90.0</td>\n",
       "      <td>seguro_salud_90</td>\n",
       "    </tr>\n",
       "    <tr>\n",
       "      <th>441</th>\n",
       "      <td>2018-12-03</td>\n",
       "      <td>-37.07</td>\n",
       "      <td>90.0</td>\n",
       "      <td>seguro_salud_90</td>\n",
       "    </tr>\n",
       "    <tr>\n",
       "      <th>442</th>\n",
       "      <td>2018-12-03</td>\n",
       "      <td>-35.00</td>\n",
       "      <td>90.0</td>\n",
       "      <td>seguro_salud_90</td>\n",
       "    </tr>\n",
       "    <tr>\n",
       "      <th>489</th>\n",
       "      <td>2018-11-02</td>\n",
       "      <td>-66.85</td>\n",
       "      <td>90.0</td>\n",
       "      <td>seguro_salud_90</td>\n",
       "    </tr>\n",
       "    <tr>\n",
       "      <th>490</th>\n",
       "      <td>2018-11-02</td>\n",
       "      <td>-37.07</td>\n",
       "      <td>90.0</td>\n",
       "      <td>seguro_salud_90</td>\n",
       "    </tr>\n",
       "    <tr>\n",
       "      <th>520</th>\n",
       "      <td>2018-10-01</td>\n",
       "      <td>-66.85</td>\n",
       "      <td>90.0</td>\n",
       "      <td>seguro_salud_90</td>\n",
       "    </tr>\n",
       "    <tr>\n",
       "      <th>521</th>\n",
       "      <td>2018-10-01</td>\n",
       "      <td>-37.07</td>\n",
       "      <td>90.0</td>\n",
       "      <td>seguro_salud_90</td>\n",
       "    </tr>\n",
       "    <tr>\n",
       "      <th>546</th>\n",
       "      <td>2018-09-03</td>\n",
       "      <td>-37.07</td>\n",
       "      <td>90.0</td>\n",
       "      <td>seguro_salud_90</td>\n",
       "    </tr>\n",
       "    <tr>\n",
       "      <th>547</th>\n",
       "      <td>2018-09-03</td>\n",
       "      <td>-66.85</td>\n",
       "      <td>90.0</td>\n",
       "      <td>seguro_salud_90</td>\n",
       "    </tr>\n",
       "    <tr>\n",
       "      <th>607</th>\n",
       "      <td>2018-08-01</td>\n",
       "      <td>-66.85</td>\n",
       "      <td>90.0</td>\n",
       "      <td>seguro_salud_90</td>\n",
       "    </tr>\n",
       "    <tr>\n",
       "      <th>608</th>\n",
       "      <td>2018-08-01</td>\n",
       "      <td>-37.07</td>\n",
       "      <td>90.0</td>\n",
       "      <td>seguro_salud_90</td>\n",
       "    </tr>\n",
       "    <tr>\n",
       "      <th>645</th>\n",
       "      <td>2018-07-02</td>\n",
       "      <td>-37.07</td>\n",
       "      <td>90.0</td>\n",
       "      <td>seguro_salud_90</td>\n",
       "    </tr>\n",
       "    <tr>\n",
       "      <th>647</th>\n",
       "      <td>2018-07-02</td>\n",
       "      <td>-66.85</td>\n",
       "      <td>90.0</td>\n",
       "      <td>seguro_salud_90</td>\n",
       "    </tr>\n",
       "    <tr>\n",
       "      <th>649</th>\n",
       "      <td>2018-07-02</td>\n",
       "      <td>-10.00</td>\n",
       "      <td>90.0</td>\n",
       "      <td>seguro_salud_90</td>\n",
       "    </tr>\n",
       "    <tr>\n",
       "      <th>698</th>\n",
       "      <td>2018-06-01</td>\n",
       "      <td>-66.85</td>\n",
       "      <td>90.0</td>\n",
       "      <td>seguro_salud_90</td>\n",
       "    </tr>\n",
       "    <tr>\n",
       "      <th>699</th>\n",
       "      <td>2018-06-01</td>\n",
       "      <td>-37.07</td>\n",
       "      <td>90.0</td>\n",
       "      <td>seguro_salud_90</td>\n",
       "    </tr>\n",
       "    <tr>\n",
       "      <th>700</th>\n",
       "      <td>2018-06-01</td>\n",
       "      <td>-25.00</td>\n",
       "      <td>90.0</td>\n",
       "      <td>seguro_salud_90</td>\n",
       "    </tr>\n",
       "    <tr>\n",
       "      <th>748</th>\n",
       "      <td>2018-05-03</td>\n",
       "      <td>-66.85</td>\n",
       "      <td>90.0</td>\n",
       "      <td>seguro_salud_90</td>\n",
       "    </tr>\n",
       "    <tr>\n",
       "      <th>749</th>\n",
       "      <td>2018-05-03</td>\n",
       "      <td>-37.07</td>\n",
       "      <td>90.0</td>\n",
       "      <td>seguro_salud_90</td>\n",
       "    </tr>\n",
       "    <tr>\n",
       "      <th>799</th>\n",
       "      <td>2018-04-03</td>\n",
       "      <td>-37.74</td>\n",
       "      <td>90.0</td>\n",
       "      <td>seguro_salud_90</td>\n",
       "    </tr>\n",
       "    <tr>\n",
       "      <th>801</th>\n",
       "      <td>2018-04-03</td>\n",
       "      <td>-66.85</td>\n",
       "      <td>90.0</td>\n",
       "      <td>seguro_salud_90</td>\n",
       "    </tr>\n",
       "    <tr>\n",
       "      <th>832</th>\n",
       "      <td>2018-03-14</td>\n",
       "      <td>-66.85</td>\n",
       "      <td>90.0</td>\n",
       "      <td>seguro_salud_90</td>\n",
       "    </tr>\n",
       "    <tr>\n",
       "      <th>833</th>\n",
       "      <td>2018-03-14</td>\n",
       "      <td>-66.85</td>\n",
       "      <td>90.0</td>\n",
       "      <td>seguro_salud_90</td>\n",
       "    </tr>\n",
       "    <tr>\n",
       "      <th>834</th>\n",
       "      <td>2018-03-14</td>\n",
       "      <td>-68.05</td>\n",
       "      <td>90.0</td>\n",
       "      <td>seguro_salud_90</td>\n",
       "    </tr>\n",
       "    <tr>\n",
       "      <th>864</th>\n",
       "      <td>2018-03-01</td>\n",
       "      <td>-34.48</td>\n",
       "      <td>90.0</td>\n",
       "      <td>seguro_salud_90</td>\n",
       "    </tr>\n",
       "    <tr>\n",
       "      <th>867</th>\n",
       "      <td>2018-03-01</td>\n",
       "      <td>-15.00</td>\n",
       "      <td>90.0</td>\n",
       "      <td>seguro_salud_90</td>\n",
       "    </tr>\n",
       "    <tr>\n",
       "      <th>907</th>\n",
       "      <td>2018-02-01</td>\n",
       "      <td>-34.48</td>\n",
       "      <td>90.0</td>\n",
       "      <td>seguro_salud_90</td>\n",
       "    </tr>\n",
       "    <tr>\n",
       "      <th>908</th>\n",
       "      <td>2018-02-01</td>\n",
       "      <td>-15.00</td>\n",
       "      <td>90.0</td>\n",
       "      <td>seguro_salud_90</td>\n",
       "    </tr>\n",
       "    <tr>\n",
       "      <th>938</th>\n",
       "      <td>2017-12-01</td>\n",
       "      <td>-15.00</td>\n",
       "      <td>90.0</td>\n",
       "      <td>seguro_salud_90</td>\n",
       "    </tr>\n",
       "    <tr>\n",
       "      <th>939</th>\n",
       "      <td>2017-12-01</td>\n",
       "      <td>-34.48</td>\n",
       "      <td>90.0</td>\n",
       "      <td>seguro_salud_90</td>\n",
       "    </tr>\n",
       "    <tr>\n",
       "      <th>955</th>\n",
       "      <td>2017-11-02</td>\n",
       "      <td>-34.48</td>\n",
       "      <td>90.0</td>\n",
       "      <td>seguro_salud_90</td>\n",
       "    </tr>\n",
       "    <tr>\n",
       "      <th>956</th>\n",
       "      <td>2017-11-02</td>\n",
       "      <td>-10.00</td>\n",
       "      <td>90.0</td>\n",
       "      <td>seguro_salud_90</td>\n",
       "    </tr>\n",
       "    <tr>\n",
       "      <th>985</th>\n",
       "      <td>2017-10-02</td>\n",
       "      <td>-34.48</td>\n",
       "      <td>90.0</td>\n",
       "      <td>seguro_salud_90</td>\n",
       "    </tr>\n",
       "    <tr>\n",
       "      <th>986</th>\n",
       "      <td>2017-10-02</td>\n",
       "      <td>-10.00</td>\n",
       "      <td>90.0</td>\n",
       "      <td>seguro_salud_90</td>\n",
       "    </tr>\n",
       "    <tr>\n",
       "      <th>1007</th>\n",
       "      <td>2017-09-01</td>\n",
       "      <td>-34.48</td>\n",
       "      <td>90.0</td>\n",
       "      <td>seguro_salud_90</td>\n",
       "    </tr>\n",
       "    <tr>\n",
       "      <th>1009</th>\n",
       "      <td>2017-09-01</td>\n",
       "      <td>-10.00</td>\n",
       "      <td>90.0</td>\n",
       "      <td>seguro_salud_90</td>\n",
       "    </tr>\n",
       "    <tr>\n",
       "      <th>1075</th>\n",
       "      <td>2017-08-01</td>\n",
       "      <td>-34.48</td>\n",
       "      <td>90.0</td>\n",
       "      <td>seguro_salud_90</td>\n",
       "    </tr>\n",
       "    <tr>\n",
       "      <th>1119</th>\n",
       "      <td>2017-07-03</td>\n",
       "      <td>-10.00</td>\n",
       "      <td>90.0</td>\n",
       "      <td>seguro_salud_90</td>\n",
       "    </tr>\n",
       "    <tr>\n",
       "      <th>1120</th>\n",
       "      <td>2017-07-03</td>\n",
       "      <td>-34.48</td>\n",
       "      <td>90.0</td>\n",
       "      <td>seguro_salud_90</td>\n",
       "    </tr>\n",
       "    <tr>\n",
       "      <th>1158</th>\n",
       "      <td>2017-06-01</td>\n",
       "      <td>-34.48</td>\n",
       "      <td>90.0</td>\n",
       "      <td>seguro_salud_90</td>\n",
       "    </tr>\n",
       "    <tr>\n",
       "      <th>1190</th>\n",
       "      <td>2017-05-03</td>\n",
       "      <td>-34.48</td>\n",
       "      <td>90.0</td>\n",
       "      <td>seguro_salud_90</td>\n",
       "    </tr>\n",
       "    <tr>\n",
       "      <th>1212</th>\n",
       "      <td>2017-04-03</td>\n",
       "      <td>-35.10</td>\n",
       "      <td>90.0</td>\n",
       "      <td>seguro_salud_90</td>\n",
       "    </tr>\n",
       "    <tr>\n",
       "      <th>1214</th>\n",
       "      <td>2017-04-03</td>\n",
       "      <td>-25.00</td>\n",
       "      <td>90.0</td>\n",
       "      <td>seguro_salud_90</td>\n",
       "    </tr>\n",
       "    <tr>\n",
       "      <th>1252</th>\n",
       "      <td>2017-03-01</td>\n",
       "      <td>-32.22</td>\n",
       "      <td>90.0</td>\n",
       "      <td>seguro_salud_90</td>\n",
       "    </tr>\n",
       "    <tr>\n",
       "      <th>1288</th>\n",
       "      <td>2017-02-01</td>\n",
       "      <td>-32.22</td>\n",
       "      <td>90.0</td>\n",
       "      <td>seguro_salud_90</td>\n",
       "    </tr>\n",
       "    <tr>\n",
       "      <th>1335</th>\n",
       "      <td>2017-01-02</td>\n",
       "      <td>-47.22</td>\n",
       "      <td>90.0</td>\n",
       "      <td>seguro_salud_90</td>\n",
       "    </tr>\n",
       "    <tr>\n",
       "      <th>1385</th>\n",
       "      <td>2016-12-01</td>\n",
       "      <td>-32.22</td>\n",
       "      <td>90.0</td>\n",
       "      <td>seguro_salud_90</td>\n",
       "    </tr>\n",
       "    <tr>\n",
       "      <th>1431</th>\n",
       "      <td>2016-11-02</td>\n",
       "      <td>-32.22</td>\n",
       "      <td>90.0</td>\n",
       "      <td>seguro_salud_90</td>\n",
       "    </tr>\n",
       "    <tr>\n",
       "      <th>1471</th>\n",
       "      <td>2016-10-03</td>\n",
       "      <td>-37.22</td>\n",
       "      <td>90.0</td>\n",
       "      <td>seguro_salud_90</td>\n",
       "    </tr>\n",
       "    <tr>\n",
       "      <th>1485</th>\n",
       "      <td>2016-09-01</td>\n",
       "      <td>-32.22</td>\n",
       "      <td>90.0</td>\n",
       "      <td>seguro_salud_90</td>\n",
       "    </tr>\n",
       "  </tbody>\n",
       "</table>\n",
       "</div>"
      ],
      "text/plain": [
       "     Fecha transacción  Importe  ID Categoría Nombre categoría\n",
       "303         2019-04-10    72.38          90.0  seguro_salud_90\n",
       "338         2019-03-01   -71.10          90.0  seguro_salud_90\n",
       "339         2019-03-01   -37.07          90.0  seguro_salud_90\n",
       "352         2019-02-14   -71.10          90.0  seguro_salud_90\n",
       "374         2019-02-01   -37.07          90.0  seguro_salud_90\n",
       "375         2019-02-01   -71.10          90.0  seguro_salud_90\n",
       "401         2019-01-02   -37.07          90.0  seguro_salud_90\n",
       "403         2019-01-02   -72.38          90.0  seguro_salud_90\n",
       "404         2019-01-02    -5.00          90.0  seguro_salud_90\n",
       "440         2018-12-03   -66.85          90.0  seguro_salud_90\n",
       "441         2018-12-03   -37.07          90.0  seguro_salud_90\n",
       "442         2018-12-03   -35.00          90.0  seguro_salud_90\n",
       "489         2018-11-02   -66.85          90.0  seguro_salud_90\n",
       "490         2018-11-02   -37.07          90.0  seguro_salud_90\n",
       "520         2018-10-01   -66.85          90.0  seguro_salud_90\n",
       "521         2018-10-01   -37.07          90.0  seguro_salud_90\n",
       "546         2018-09-03   -37.07          90.0  seguro_salud_90\n",
       "547         2018-09-03   -66.85          90.0  seguro_salud_90\n",
       "607         2018-08-01   -66.85          90.0  seguro_salud_90\n",
       "608         2018-08-01   -37.07          90.0  seguro_salud_90\n",
       "645         2018-07-02   -37.07          90.0  seguro_salud_90\n",
       "647         2018-07-02   -66.85          90.0  seguro_salud_90\n",
       "649         2018-07-02   -10.00          90.0  seguro_salud_90\n",
       "698         2018-06-01   -66.85          90.0  seguro_salud_90\n",
       "699         2018-06-01   -37.07          90.0  seguro_salud_90\n",
       "700         2018-06-01   -25.00          90.0  seguro_salud_90\n",
       "748         2018-05-03   -66.85          90.0  seguro_salud_90\n",
       "749         2018-05-03   -37.07          90.0  seguro_salud_90\n",
       "799         2018-04-03   -37.74          90.0  seguro_salud_90\n",
       "801         2018-04-03   -66.85          90.0  seguro_salud_90\n",
       "832         2018-03-14   -66.85          90.0  seguro_salud_90\n",
       "833         2018-03-14   -66.85          90.0  seguro_salud_90\n",
       "834         2018-03-14   -68.05          90.0  seguro_salud_90\n",
       "864         2018-03-01   -34.48          90.0  seguro_salud_90\n",
       "867         2018-03-01   -15.00          90.0  seguro_salud_90\n",
       "907         2018-02-01   -34.48          90.0  seguro_salud_90\n",
       "908         2018-02-01   -15.00          90.0  seguro_salud_90\n",
       "938         2017-12-01   -15.00          90.0  seguro_salud_90\n",
       "939         2017-12-01   -34.48          90.0  seguro_salud_90\n",
       "955         2017-11-02   -34.48          90.0  seguro_salud_90\n",
       "956         2017-11-02   -10.00          90.0  seguro_salud_90\n",
       "985         2017-10-02   -34.48          90.0  seguro_salud_90\n",
       "986         2017-10-02   -10.00          90.0  seguro_salud_90\n",
       "1007        2017-09-01   -34.48          90.0  seguro_salud_90\n",
       "1009        2017-09-01   -10.00          90.0  seguro_salud_90\n",
       "1075        2017-08-01   -34.48          90.0  seguro_salud_90\n",
       "1119        2017-07-03   -10.00          90.0  seguro_salud_90\n",
       "1120        2017-07-03   -34.48          90.0  seguro_salud_90\n",
       "1158        2017-06-01   -34.48          90.0  seguro_salud_90\n",
       "1190        2017-05-03   -34.48          90.0  seguro_salud_90\n",
       "1212        2017-04-03   -35.10          90.0  seguro_salud_90\n",
       "1214        2017-04-03   -25.00          90.0  seguro_salud_90\n",
       "1252        2017-03-01   -32.22          90.0  seguro_salud_90\n",
       "1288        2017-02-01   -32.22          90.0  seguro_salud_90\n",
       "1335        2017-01-02   -47.22          90.0  seguro_salud_90\n",
       "1385        2016-12-01   -32.22          90.0  seguro_salud_90\n",
       "1431        2016-11-02   -32.22          90.0  seguro_salud_90\n",
       "1471        2016-10-03   -37.22          90.0  seguro_salud_90\n",
       "1485        2016-09-01   -32.22          90.0  seguro_salud_90"
      ]
     },
     "execution_count": 247,
     "metadata": {},
     "output_type": "execute_result"
    }
   ],
   "source": [
    "# nos quedamos con las transacciones de la categoria 'seguro_salud_90'\n",
    "transacciones_90_df=transacciones_df[transacciones_df['ID Categoría'] == 90.0]\n",
    "transacciones_90_df"
   ]
  },
  {
   "cell_type": "code",
   "execution_count": 248,
   "id": "c12b5ca9",
   "metadata": {},
   "outputs": [
    {
     "name": "stderr",
     "output_type": "stream",
     "text": [
      "C:\\ProgramData\\Anaconda3\\lib\\site-packages\\pandas\\core\\frame.py:4308: SettingWithCopyWarning: \n",
      "A value is trying to be set on a copy of a slice from a DataFrame\n",
      "\n",
      "See the caveats in the documentation: https://pandas.pydata.org/pandas-docs/stable/user_guide/indexing.html#returning-a-view-versus-a-copy\n",
      "  return super().drop(\n"
     ]
    },
    {
     "data": {
      "text/html": [
       "<div>\n",
       "<style scoped>\n",
       "    .dataframe tbody tr th:only-of-type {\n",
       "        vertical-align: middle;\n",
       "    }\n",
       "\n",
       "    .dataframe tbody tr th {\n",
       "        vertical-align: top;\n",
       "    }\n",
       "\n",
       "    .dataframe thead th {\n",
       "        text-align: right;\n",
       "    }\n",
       "</style>\n",
       "<table border=\"1\" class=\"dataframe\">\n",
       "  <thead>\n",
       "    <tr style=\"text-align: right;\">\n",
       "      <th></th>\n",
       "      <th>Fecha transacción</th>\n",
       "      <th>Importe</th>\n",
       "    </tr>\n",
       "  </thead>\n",
       "  <tbody>\n",
       "    <tr>\n",
       "      <th>303</th>\n",
       "      <td>2019-04-10</td>\n",
       "      <td>72.38</td>\n",
       "    </tr>\n",
       "    <tr>\n",
       "      <th>338</th>\n",
       "      <td>2019-03-01</td>\n",
       "      <td>-71.10</td>\n",
       "    </tr>\n",
       "    <tr>\n",
       "      <th>339</th>\n",
       "      <td>2019-03-01</td>\n",
       "      <td>-37.07</td>\n",
       "    </tr>\n",
       "    <tr>\n",
       "      <th>352</th>\n",
       "      <td>2019-02-14</td>\n",
       "      <td>-71.10</td>\n",
       "    </tr>\n",
       "    <tr>\n",
       "      <th>374</th>\n",
       "      <td>2019-02-01</td>\n",
       "      <td>-37.07</td>\n",
       "    </tr>\n",
       "    <tr>\n",
       "      <th>375</th>\n",
       "      <td>2019-02-01</td>\n",
       "      <td>-71.10</td>\n",
       "    </tr>\n",
       "    <tr>\n",
       "      <th>401</th>\n",
       "      <td>2019-01-02</td>\n",
       "      <td>-37.07</td>\n",
       "    </tr>\n",
       "    <tr>\n",
       "      <th>403</th>\n",
       "      <td>2019-01-02</td>\n",
       "      <td>-72.38</td>\n",
       "    </tr>\n",
       "    <tr>\n",
       "      <th>404</th>\n",
       "      <td>2019-01-02</td>\n",
       "      <td>-5.00</td>\n",
       "    </tr>\n",
       "    <tr>\n",
       "      <th>440</th>\n",
       "      <td>2018-12-03</td>\n",
       "      <td>-66.85</td>\n",
       "    </tr>\n",
       "    <tr>\n",
       "      <th>441</th>\n",
       "      <td>2018-12-03</td>\n",
       "      <td>-37.07</td>\n",
       "    </tr>\n",
       "    <tr>\n",
       "      <th>442</th>\n",
       "      <td>2018-12-03</td>\n",
       "      <td>-35.00</td>\n",
       "    </tr>\n",
       "    <tr>\n",
       "      <th>489</th>\n",
       "      <td>2018-11-02</td>\n",
       "      <td>-66.85</td>\n",
       "    </tr>\n",
       "    <tr>\n",
       "      <th>490</th>\n",
       "      <td>2018-11-02</td>\n",
       "      <td>-37.07</td>\n",
       "    </tr>\n",
       "    <tr>\n",
       "      <th>520</th>\n",
       "      <td>2018-10-01</td>\n",
       "      <td>-66.85</td>\n",
       "    </tr>\n",
       "    <tr>\n",
       "      <th>521</th>\n",
       "      <td>2018-10-01</td>\n",
       "      <td>-37.07</td>\n",
       "    </tr>\n",
       "    <tr>\n",
       "      <th>546</th>\n",
       "      <td>2018-09-03</td>\n",
       "      <td>-37.07</td>\n",
       "    </tr>\n",
       "    <tr>\n",
       "      <th>547</th>\n",
       "      <td>2018-09-03</td>\n",
       "      <td>-66.85</td>\n",
       "    </tr>\n",
       "    <tr>\n",
       "      <th>607</th>\n",
       "      <td>2018-08-01</td>\n",
       "      <td>-66.85</td>\n",
       "    </tr>\n",
       "    <tr>\n",
       "      <th>608</th>\n",
       "      <td>2018-08-01</td>\n",
       "      <td>-37.07</td>\n",
       "    </tr>\n",
       "    <tr>\n",
       "      <th>645</th>\n",
       "      <td>2018-07-02</td>\n",
       "      <td>-37.07</td>\n",
       "    </tr>\n",
       "    <tr>\n",
       "      <th>647</th>\n",
       "      <td>2018-07-02</td>\n",
       "      <td>-66.85</td>\n",
       "    </tr>\n",
       "    <tr>\n",
       "      <th>649</th>\n",
       "      <td>2018-07-02</td>\n",
       "      <td>-10.00</td>\n",
       "    </tr>\n",
       "    <tr>\n",
       "      <th>698</th>\n",
       "      <td>2018-06-01</td>\n",
       "      <td>-66.85</td>\n",
       "    </tr>\n",
       "    <tr>\n",
       "      <th>699</th>\n",
       "      <td>2018-06-01</td>\n",
       "      <td>-37.07</td>\n",
       "    </tr>\n",
       "    <tr>\n",
       "      <th>700</th>\n",
       "      <td>2018-06-01</td>\n",
       "      <td>-25.00</td>\n",
       "    </tr>\n",
       "    <tr>\n",
       "      <th>748</th>\n",
       "      <td>2018-05-03</td>\n",
       "      <td>-66.85</td>\n",
       "    </tr>\n",
       "    <tr>\n",
       "      <th>749</th>\n",
       "      <td>2018-05-03</td>\n",
       "      <td>-37.07</td>\n",
       "    </tr>\n",
       "    <tr>\n",
       "      <th>799</th>\n",
       "      <td>2018-04-03</td>\n",
       "      <td>-37.74</td>\n",
       "    </tr>\n",
       "    <tr>\n",
       "      <th>801</th>\n",
       "      <td>2018-04-03</td>\n",
       "      <td>-66.85</td>\n",
       "    </tr>\n",
       "    <tr>\n",
       "      <th>832</th>\n",
       "      <td>2018-03-14</td>\n",
       "      <td>-66.85</td>\n",
       "    </tr>\n",
       "    <tr>\n",
       "      <th>833</th>\n",
       "      <td>2018-03-14</td>\n",
       "      <td>-66.85</td>\n",
       "    </tr>\n",
       "    <tr>\n",
       "      <th>834</th>\n",
       "      <td>2018-03-14</td>\n",
       "      <td>-68.05</td>\n",
       "    </tr>\n",
       "    <tr>\n",
       "      <th>864</th>\n",
       "      <td>2018-03-01</td>\n",
       "      <td>-34.48</td>\n",
       "    </tr>\n",
       "    <tr>\n",
       "      <th>867</th>\n",
       "      <td>2018-03-01</td>\n",
       "      <td>-15.00</td>\n",
       "    </tr>\n",
       "    <tr>\n",
       "      <th>907</th>\n",
       "      <td>2018-02-01</td>\n",
       "      <td>-34.48</td>\n",
       "    </tr>\n",
       "    <tr>\n",
       "      <th>908</th>\n",
       "      <td>2018-02-01</td>\n",
       "      <td>-15.00</td>\n",
       "    </tr>\n",
       "    <tr>\n",
       "      <th>938</th>\n",
       "      <td>2017-12-01</td>\n",
       "      <td>-15.00</td>\n",
       "    </tr>\n",
       "    <tr>\n",
       "      <th>939</th>\n",
       "      <td>2017-12-01</td>\n",
       "      <td>-34.48</td>\n",
       "    </tr>\n",
       "    <tr>\n",
       "      <th>955</th>\n",
       "      <td>2017-11-02</td>\n",
       "      <td>-34.48</td>\n",
       "    </tr>\n",
       "    <tr>\n",
       "      <th>956</th>\n",
       "      <td>2017-11-02</td>\n",
       "      <td>-10.00</td>\n",
       "    </tr>\n",
       "    <tr>\n",
       "      <th>985</th>\n",
       "      <td>2017-10-02</td>\n",
       "      <td>-34.48</td>\n",
       "    </tr>\n",
       "    <tr>\n",
       "      <th>986</th>\n",
       "      <td>2017-10-02</td>\n",
       "      <td>-10.00</td>\n",
       "    </tr>\n",
       "    <tr>\n",
       "      <th>1007</th>\n",
       "      <td>2017-09-01</td>\n",
       "      <td>-34.48</td>\n",
       "    </tr>\n",
       "    <tr>\n",
       "      <th>1009</th>\n",
       "      <td>2017-09-01</td>\n",
       "      <td>-10.00</td>\n",
       "    </tr>\n",
       "    <tr>\n",
       "      <th>1075</th>\n",
       "      <td>2017-08-01</td>\n",
       "      <td>-34.48</td>\n",
       "    </tr>\n",
       "    <tr>\n",
       "      <th>1119</th>\n",
       "      <td>2017-07-03</td>\n",
       "      <td>-10.00</td>\n",
       "    </tr>\n",
       "    <tr>\n",
       "      <th>1120</th>\n",
       "      <td>2017-07-03</td>\n",
       "      <td>-34.48</td>\n",
       "    </tr>\n",
       "    <tr>\n",
       "      <th>1158</th>\n",
       "      <td>2017-06-01</td>\n",
       "      <td>-34.48</td>\n",
       "    </tr>\n",
       "    <tr>\n",
       "      <th>1190</th>\n",
       "      <td>2017-05-03</td>\n",
       "      <td>-34.48</td>\n",
       "    </tr>\n",
       "    <tr>\n",
       "      <th>1212</th>\n",
       "      <td>2017-04-03</td>\n",
       "      <td>-35.10</td>\n",
       "    </tr>\n",
       "    <tr>\n",
       "      <th>1214</th>\n",
       "      <td>2017-04-03</td>\n",
       "      <td>-25.00</td>\n",
       "    </tr>\n",
       "    <tr>\n",
       "      <th>1252</th>\n",
       "      <td>2017-03-01</td>\n",
       "      <td>-32.22</td>\n",
       "    </tr>\n",
       "    <tr>\n",
       "      <th>1288</th>\n",
       "      <td>2017-02-01</td>\n",
       "      <td>-32.22</td>\n",
       "    </tr>\n",
       "    <tr>\n",
       "      <th>1335</th>\n",
       "      <td>2017-01-02</td>\n",
       "      <td>-47.22</td>\n",
       "    </tr>\n",
       "    <tr>\n",
       "      <th>1385</th>\n",
       "      <td>2016-12-01</td>\n",
       "      <td>-32.22</td>\n",
       "    </tr>\n",
       "    <tr>\n",
       "      <th>1431</th>\n",
       "      <td>2016-11-02</td>\n",
       "      <td>-32.22</td>\n",
       "    </tr>\n",
       "    <tr>\n",
       "      <th>1471</th>\n",
       "      <td>2016-10-03</td>\n",
       "      <td>-37.22</td>\n",
       "    </tr>\n",
       "    <tr>\n",
       "      <th>1485</th>\n",
       "      <td>2016-09-01</td>\n",
       "      <td>-32.22</td>\n",
       "    </tr>\n",
       "  </tbody>\n",
       "</table>\n",
       "</div>"
      ],
      "text/plain": [
       "     Fecha transacción  Importe\n",
       "303         2019-04-10    72.38\n",
       "338         2019-03-01   -71.10\n",
       "339         2019-03-01   -37.07\n",
       "352         2019-02-14   -71.10\n",
       "374         2019-02-01   -37.07\n",
       "375         2019-02-01   -71.10\n",
       "401         2019-01-02   -37.07\n",
       "403         2019-01-02   -72.38\n",
       "404         2019-01-02    -5.00\n",
       "440         2018-12-03   -66.85\n",
       "441         2018-12-03   -37.07\n",
       "442         2018-12-03   -35.00\n",
       "489         2018-11-02   -66.85\n",
       "490         2018-11-02   -37.07\n",
       "520         2018-10-01   -66.85\n",
       "521         2018-10-01   -37.07\n",
       "546         2018-09-03   -37.07\n",
       "547         2018-09-03   -66.85\n",
       "607         2018-08-01   -66.85\n",
       "608         2018-08-01   -37.07\n",
       "645         2018-07-02   -37.07\n",
       "647         2018-07-02   -66.85\n",
       "649         2018-07-02   -10.00\n",
       "698         2018-06-01   -66.85\n",
       "699         2018-06-01   -37.07\n",
       "700         2018-06-01   -25.00\n",
       "748         2018-05-03   -66.85\n",
       "749         2018-05-03   -37.07\n",
       "799         2018-04-03   -37.74\n",
       "801         2018-04-03   -66.85\n",
       "832         2018-03-14   -66.85\n",
       "833         2018-03-14   -66.85\n",
       "834         2018-03-14   -68.05\n",
       "864         2018-03-01   -34.48\n",
       "867         2018-03-01   -15.00\n",
       "907         2018-02-01   -34.48\n",
       "908         2018-02-01   -15.00\n",
       "938         2017-12-01   -15.00\n",
       "939         2017-12-01   -34.48\n",
       "955         2017-11-02   -34.48\n",
       "956         2017-11-02   -10.00\n",
       "985         2017-10-02   -34.48\n",
       "986         2017-10-02   -10.00\n",
       "1007        2017-09-01   -34.48\n",
       "1009        2017-09-01   -10.00\n",
       "1075        2017-08-01   -34.48\n",
       "1119        2017-07-03   -10.00\n",
       "1120        2017-07-03   -34.48\n",
       "1158        2017-06-01   -34.48\n",
       "1190        2017-05-03   -34.48\n",
       "1212        2017-04-03   -35.10\n",
       "1214        2017-04-03   -25.00\n",
       "1252        2017-03-01   -32.22\n",
       "1288        2017-02-01   -32.22\n",
       "1335        2017-01-02   -47.22\n",
       "1385        2016-12-01   -32.22\n",
       "1431        2016-11-02   -32.22\n",
       "1471        2016-10-03   -37.22\n",
       "1485        2016-09-01   -32.22"
      ]
     },
     "execution_count": 248,
     "metadata": {},
     "output_type": "execute_result"
    }
   ],
   "source": [
    "# quitamos las columnas de 'ID Categoría' y 'Nombre Categoría' que ya no nos aportan nada\n",
    "transacciones_90_df.drop(columns=['ID Categoría', 'Nombre categoría'], inplace=True)\n",
    "transacciones_90_df"
   ]
  },
  {
   "cell_type": "code",
   "execution_count": 249,
   "id": "8443fe54",
   "metadata": {},
   "outputs": [
    {
     "name": "stderr",
     "output_type": "stream",
     "text": [
      "C:\\ProgramData\\Anaconda3\\lib\\site-packages\\pandas\\core\\frame.py:4441: SettingWithCopyWarning: \n",
      "A value is trying to be set on a copy of a slice from a DataFrame\n",
      "\n",
      "See the caveats in the documentation: https://pandas.pydata.org/pandas-docs/stable/user_guide/indexing.html#returning-a-view-versus-a-copy\n",
      "  return super().rename(\n"
     ]
    },
    {
     "data": {
      "text/html": [
       "<div>\n",
       "<style scoped>\n",
       "    .dataframe tbody tr th:only-of-type {\n",
       "        vertical-align: middle;\n",
       "    }\n",
       "\n",
       "    .dataframe tbody tr th {\n",
       "        vertical-align: top;\n",
       "    }\n",
       "\n",
       "    .dataframe thead th {\n",
       "        text-align: right;\n",
       "    }\n",
       "</style>\n",
       "<table border=\"1\" class=\"dataframe\">\n",
       "  <thead>\n",
       "    <tr style=\"text-align: right;\">\n",
       "      <th></th>\n",
       "      <th>FECHA</th>\n",
       "      <th>IMPORTE</th>\n",
       "    </tr>\n",
       "  </thead>\n",
       "  <tbody>\n",
       "    <tr>\n",
       "      <th>303</th>\n",
       "      <td>2019-04-10</td>\n",
       "      <td>72.38</td>\n",
       "    </tr>\n",
       "    <tr>\n",
       "      <th>338</th>\n",
       "      <td>2019-03-01</td>\n",
       "      <td>-71.10</td>\n",
       "    </tr>\n",
       "    <tr>\n",
       "      <th>339</th>\n",
       "      <td>2019-03-01</td>\n",
       "      <td>-37.07</td>\n",
       "    </tr>\n",
       "    <tr>\n",
       "      <th>352</th>\n",
       "      <td>2019-02-14</td>\n",
       "      <td>-71.10</td>\n",
       "    </tr>\n",
       "    <tr>\n",
       "      <th>374</th>\n",
       "      <td>2019-02-01</td>\n",
       "      <td>-37.07</td>\n",
       "    </tr>\n",
       "    <tr>\n",
       "      <th>375</th>\n",
       "      <td>2019-02-01</td>\n",
       "      <td>-71.10</td>\n",
       "    </tr>\n",
       "    <tr>\n",
       "      <th>401</th>\n",
       "      <td>2019-01-02</td>\n",
       "      <td>-37.07</td>\n",
       "    </tr>\n",
       "    <tr>\n",
       "      <th>403</th>\n",
       "      <td>2019-01-02</td>\n",
       "      <td>-72.38</td>\n",
       "    </tr>\n",
       "    <tr>\n",
       "      <th>404</th>\n",
       "      <td>2019-01-02</td>\n",
       "      <td>-5.00</td>\n",
       "    </tr>\n",
       "    <tr>\n",
       "      <th>440</th>\n",
       "      <td>2018-12-03</td>\n",
       "      <td>-66.85</td>\n",
       "    </tr>\n",
       "    <tr>\n",
       "      <th>441</th>\n",
       "      <td>2018-12-03</td>\n",
       "      <td>-37.07</td>\n",
       "    </tr>\n",
       "    <tr>\n",
       "      <th>442</th>\n",
       "      <td>2018-12-03</td>\n",
       "      <td>-35.00</td>\n",
       "    </tr>\n",
       "    <tr>\n",
       "      <th>489</th>\n",
       "      <td>2018-11-02</td>\n",
       "      <td>-66.85</td>\n",
       "    </tr>\n",
       "    <tr>\n",
       "      <th>490</th>\n",
       "      <td>2018-11-02</td>\n",
       "      <td>-37.07</td>\n",
       "    </tr>\n",
       "    <tr>\n",
       "      <th>520</th>\n",
       "      <td>2018-10-01</td>\n",
       "      <td>-66.85</td>\n",
       "    </tr>\n",
       "    <tr>\n",
       "      <th>521</th>\n",
       "      <td>2018-10-01</td>\n",
       "      <td>-37.07</td>\n",
       "    </tr>\n",
       "    <tr>\n",
       "      <th>546</th>\n",
       "      <td>2018-09-03</td>\n",
       "      <td>-37.07</td>\n",
       "    </tr>\n",
       "    <tr>\n",
       "      <th>547</th>\n",
       "      <td>2018-09-03</td>\n",
       "      <td>-66.85</td>\n",
       "    </tr>\n",
       "    <tr>\n",
       "      <th>607</th>\n",
       "      <td>2018-08-01</td>\n",
       "      <td>-66.85</td>\n",
       "    </tr>\n",
       "    <tr>\n",
       "      <th>608</th>\n",
       "      <td>2018-08-01</td>\n",
       "      <td>-37.07</td>\n",
       "    </tr>\n",
       "    <tr>\n",
       "      <th>645</th>\n",
       "      <td>2018-07-02</td>\n",
       "      <td>-37.07</td>\n",
       "    </tr>\n",
       "    <tr>\n",
       "      <th>647</th>\n",
       "      <td>2018-07-02</td>\n",
       "      <td>-66.85</td>\n",
       "    </tr>\n",
       "    <tr>\n",
       "      <th>649</th>\n",
       "      <td>2018-07-02</td>\n",
       "      <td>-10.00</td>\n",
       "    </tr>\n",
       "    <tr>\n",
       "      <th>698</th>\n",
       "      <td>2018-06-01</td>\n",
       "      <td>-66.85</td>\n",
       "    </tr>\n",
       "    <tr>\n",
       "      <th>699</th>\n",
       "      <td>2018-06-01</td>\n",
       "      <td>-37.07</td>\n",
       "    </tr>\n",
       "    <tr>\n",
       "      <th>700</th>\n",
       "      <td>2018-06-01</td>\n",
       "      <td>-25.00</td>\n",
       "    </tr>\n",
       "    <tr>\n",
       "      <th>748</th>\n",
       "      <td>2018-05-03</td>\n",
       "      <td>-66.85</td>\n",
       "    </tr>\n",
       "    <tr>\n",
       "      <th>749</th>\n",
       "      <td>2018-05-03</td>\n",
       "      <td>-37.07</td>\n",
       "    </tr>\n",
       "    <tr>\n",
       "      <th>799</th>\n",
       "      <td>2018-04-03</td>\n",
       "      <td>-37.74</td>\n",
       "    </tr>\n",
       "    <tr>\n",
       "      <th>801</th>\n",
       "      <td>2018-04-03</td>\n",
       "      <td>-66.85</td>\n",
       "    </tr>\n",
       "    <tr>\n",
       "      <th>832</th>\n",
       "      <td>2018-03-14</td>\n",
       "      <td>-66.85</td>\n",
       "    </tr>\n",
       "    <tr>\n",
       "      <th>833</th>\n",
       "      <td>2018-03-14</td>\n",
       "      <td>-66.85</td>\n",
       "    </tr>\n",
       "    <tr>\n",
       "      <th>834</th>\n",
       "      <td>2018-03-14</td>\n",
       "      <td>-68.05</td>\n",
       "    </tr>\n",
       "    <tr>\n",
       "      <th>864</th>\n",
       "      <td>2018-03-01</td>\n",
       "      <td>-34.48</td>\n",
       "    </tr>\n",
       "    <tr>\n",
       "      <th>867</th>\n",
       "      <td>2018-03-01</td>\n",
       "      <td>-15.00</td>\n",
       "    </tr>\n",
       "    <tr>\n",
       "      <th>907</th>\n",
       "      <td>2018-02-01</td>\n",
       "      <td>-34.48</td>\n",
       "    </tr>\n",
       "    <tr>\n",
       "      <th>908</th>\n",
       "      <td>2018-02-01</td>\n",
       "      <td>-15.00</td>\n",
       "    </tr>\n",
       "    <tr>\n",
       "      <th>938</th>\n",
       "      <td>2017-12-01</td>\n",
       "      <td>-15.00</td>\n",
       "    </tr>\n",
       "    <tr>\n",
       "      <th>939</th>\n",
       "      <td>2017-12-01</td>\n",
       "      <td>-34.48</td>\n",
       "    </tr>\n",
       "    <tr>\n",
       "      <th>955</th>\n",
       "      <td>2017-11-02</td>\n",
       "      <td>-34.48</td>\n",
       "    </tr>\n",
       "    <tr>\n",
       "      <th>956</th>\n",
       "      <td>2017-11-02</td>\n",
       "      <td>-10.00</td>\n",
       "    </tr>\n",
       "    <tr>\n",
       "      <th>985</th>\n",
       "      <td>2017-10-02</td>\n",
       "      <td>-34.48</td>\n",
       "    </tr>\n",
       "    <tr>\n",
       "      <th>986</th>\n",
       "      <td>2017-10-02</td>\n",
       "      <td>-10.00</td>\n",
       "    </tr>\n",
       "    <tr>\n",
       "      <th>1007</th>\n",
       "      <td>2017-09-01</td>\n",
       "      <td>-34.48</td>\n",
       "    </tr>\n",
       "    <tr>\n",
       "      <th>1009</th>\n",
       "      <td>2017-09-01</td>\n",
       "      <td>-10.00</td>\n",
       "    </tr>\n",
       "    <tr>\n",
       "      <th>1075</th>\n",
       "      <td>2017-08-01</td>\n",
       "      <td>-34.48</td>\n",
       "    </tr>\n",
       "    <tr>\n",
       "      <th>1119</th>\n",
       "      <td>2017-07-03</td>\n",
       "      <td>-10.00</td>\n",
       "    </tr>\n",
       "    <tr>\n",
       "      <th>1120</th>\n",
       "      <td>2017-07-03</td>\n",
       "      <td>-34.48</td>\n",
       "    </tr>\n",
       "    <tr>\n",
       "      <th>1158</th>\n",
       "      <td>2017-06-01</td>\n",
       "      <td>-34.48</td>\n",
       "    </tr>\n",
       "    <tr>\n",
       "      <th>1190</th>\n",
       "      <td>2017-05-03</td>\n",
       "      <td>-34.48</td>\n",
       "    </tr>\n",
       "    <tr>\n",
       "      <th>1212</th>\n",
       "      <td>2017-04-03</td>\n",
       "      <td>-35.10</td>\n",
       "    </tr>\n",
       "    <tr>\n",
       "      <th>1214</th>\n",
       "      <td>2017-04-03</td>\n",
       "      <td>-25.00</td>\n",
       "    </tr>\n",
       "    <tr>\n",
       "      <th>1252</th>\n",
       "      <td>2017-03-01</td>\n",
       "      <td>-32.22</td>\n",
       "    </tr>\n",
       "    <tr>\n",
       "      <th>1288</th>\n",
       "      <td>2017-02-01</td>\n",
       "      <td>-32.22</td>\n",
       "    </tr>\n",
       "    <tr>\n",
       "      <th>1335</th>\n",
       "      <td>2017-01-02</td>\n",
       "      <td>-47.22</td>\n",
       "    </tr>\n",
       "    <tr>\n",
       "      <th>1385</th>\n",
       "      <td>2016-12-01</td>\n",
       "      <td>-32.22</td>\n",
       "    </tr>\n",
       "    <tr>\n",
       "      <th>1431</th>\n",
       "      <td>2016-11-02</td>\n",
       "      <td>-32.22</td>\n",
       "    </tr>\n",
       "    <tr>\n",
       "      <th>1471</th>\n",
       "      <td>2016-10-03</td>\n",
       "      <td>-37.22</td>\n",
       "    </tr>\n",
       "    <tr>\n",
       "      <th>1485</th>\n",
       "      <td>2016-09-01</td>\n",
       "      <td>-32.22</td>\n",
       "    </tr>\n",
       "  </tbody>\n",
       "</table>\n",
       "</div>"
      ],
      "text/plain": [
       "          FECHA  IMPORTE\n",
       "303  2019-04-10    72.38\n",
       "338  2019-03-01   -71.10\n",
       "339  2019-03-01   -37.07\n",
       "352  2019-02-14   -71.10\n",
       "374  2019-02-01   -37.07\n",
       "375  2019-02-01   -71.10\n",
       "401  2019-01-02   -37.07\n",
       "403  2019-01-02   -72.38\n",
       "404  2019-01-02    -5.00\n",
       "440  2018-12-03   -66.85\n",
       "441  2018-12-03   -37.07\n",
       "442  2018-12-03   -35.00\n",
       "489  2018-11-02   -66.85\n",
       "490  2018-11-02   -37.07\n",
       "520  2018-10-01   -66.85\n",
       "521  2018-10-01   -37.07\n",
       "546  2018-09-03   -37.07\n",
       "547  2018-09-03   -66.85\n",
       "607  2018-08-01   -66.85\n",
       "608  2018-08-01   -37.07\n",
       "645  2018-07-02   -37.07\n",
       "647  2018-07-02   -66.85\n",
       "649  2018-07-02   -10.00\n",
       "698  2018-06-01   -66.85\n",
       "699  2018-06-01   -37.07\n",
       "700  2018-06-01   -25.00\n",
       "748  2018-05-03   -66.85\n",
       "749  2018-05-03   -37.07\n",
       "799  2018-04-03   -37.74\n",
       "801  2018-04-03   -66.85\n",
       "832  2018-03-14   -66.85\n",
       "833  2018-03-14   -66.85\n",
       "834  2018-03-14   -68.05\n",
       "864  2018-03-01   -34.48\n",
       "867  2018-03-01   -15.00\n",
       "907  2018-02-01   -34.48\n",
       "908  2018-02-01   -15.00\n",
       "938  2017-12-01   -15.00\n",
       "939  2017-12-01   -34.48\n",
       "955  2017-11-02   -34.48\n",
       "956  2017-11-02   -10.00\n",
       "985  2017-10-02   -34.48\n",
       "986  2017-10-02   -10.00\n",
       "1007 2017-09-01   -34.48\n",
       "1009 2017-09-01   -10.00\n",
       "1075 2017-08-01   -34.48\n",
       "1119 2017-07-03   -10.00\n",
       "1120 2017-07-03   -34.48\n",
       "1158 2017-06-01   -34.48\n",
       "1190 2017-05-03   -34.48\n",
       "1212 2017-04-03   -35.10\n",
       "1214 2017-04-03   -25.00\n",
       "1252 2017-03-01   -32.22\n",
       "1288 2017-02-01   -32.22\n",
       "1335 2017-01-02   -47.22\n",
       "1385 2016-12-01   -32.22\n",
       "1431 2016-11-02   -32.22\n",
       "1471 2016-10-03   -37.22\n",
       "1485 2016-09-01   -32.22"
      ]
     },
     "execution_count": 249,
     "metadata": {},
     "output_type": "execute_result"
    }
   ],
   "source": [
    "# renombramos columnas\n",
    "transacciones_90_df.rename(columns={'Fecha transacción': 'FECHA', 'Importe': 'IMPORTE'}, inplace=True)\n",
    "transacciones_90_df"
   ]
  },
  {
   "cell_type": "code",
   "execution_count": 250,
   "id": "2aaebf7b",
   "metadata": {},
   "outputs": [
    {
     "name": "stderr",
     "output_type": "stream",
     "text": [
      "<ipython-input-250-bb25adde342d>:2: SettingWithCopyWarning: \n",
      "A value is trying to be set on a copy of a slice from a DataFrame\n",
      "\n",
      "See the caveats in the documentation: https://pandas.pydata.org/pandas-docs/stable/user_guide/indexing.html#returning-a-view-versus-a-copy\n",
      "  transacciones_90_df.sort_values(by=['FECHA'], ascending=True, inplace=True, ignore_index=True)\n"
     ]
    },
    {
     "data": {
      "text/html": [
       "<div>\n",
       "<style scoped>\n",
       "    .dataframe tbody tr th:only-of-type {\n",
       "        vertical-align: middle;\n",
       "    }\n",
       "\n",
       "    .dataframe tbody tr th {\n",
       "        vertical-align: top;\n",
       "    }\n",
       "\n",
       "    .dataframe thead th {\n",
       "        text-align: right;\n",
       "    }\n",
       "</style>\n",
       "<table border=\"1\" class=\"dataframe\">\n",
       "  <thead>\n",
       "    <tr style=\"text-align: right;\">\n",
       "      <th></th>\n",
       "      <th>FECHA</th>\n",
       "      <th>IMPORTE</th>\n",
       "    </tr>\n",
       "  </thead>\n",
       "  <tbody>\n",
       "    <tr>\n",
       "      <th>0</th>\n",
       "      <td>2016-09-01</td>\n",
       "      <td>-32.22</td>\n",
       "    </tr>\n",
       "    <tr>\n",
       "      <th>1</th>\n",
       "      <td>2016-10-03</td>\n",
       "      <td>-37.22</td>\n",
       "    </tr>\n",
       "    <tr>\n",
       "      <th>2</th>\n",
       "      <td>2016-11-02</td>\n",
       "      <td>-32.22</td>\n",
       "    </tr>\n",
       "    <tr>\n",
       "      <th>3</th>\n",
       "      <td>2016-12-01</td>\n",
       "      <td>-32.22</td>\n",
       "    </tr>\n",
       "    <tr>\n",
       "      <th>4</th>\n",
       "      <td>2017-01-02</td>\n",
       "      <td>-47.22</td>\n",
       "    </tr>\n",
       "    <tr>\n",
       "      <th>5</th>\n",
       "      <td>2017-02-01</td>\n",
       "      <td>-32.22</td>\n",
       "    </tr>\n",
       "    <tr>\n",
       "      <th>6</th>\n",
       "      <td>2017-03-01</td>\n",
       "      <td>-32.22</td>\n",
       "    </tr>\n",
       "    <tr>\n",
       "      <th>7</th>\n",
       "      <td>2017-04-03</td>\n",
       "      <td>-25.00</td>\n",
       "    </tr>\n",
       "    <tr>\n",
       "      <th>8</th>\n",
       "      <td>2017-04-03</td>\n",
       "      <td>-35.10</td>\n",
       "    </tr>\n",
       "    <tr>\n",
       "      <th>9</th>\n",
       "      <td>2017-05-03</td>\n",
       "      <td>-34.48</td>\n",
       "    </tr>\n",
       "    <tr>\n",
       "      <th>10</th>\n",
       "      <td>2017-06-01</td>\n",
       "      <td>-34.48</td>\n",
       "    </tr>\n",
       "    <tr>\n",
       "      <th>11</th>\n",
       "      <td>2017-07-03</td>\n",
       "      <td>-34.48</td>\n",
       "    </tr>\n",
       "    <tr>\n",
       "      <th>12</th>\n",
       "      <td>2017-07-03</td>\n",
       "      <td>-10.00</td>\n",
       "    </tr>\n",
       "    <tr>\n",
       "      <th>13</th>\n",
       "      <td>2017-08-01</td>\n",
       "      <td>-34.48</td>\n",
       "    </tr>\n",
       "    <tr>\n",
       "      <th>14</th>\n",
       "      <td>2017-09-01</td>\n",
       "      <td>-34.48</td>\n",
       "    </tr>\n",
       "    <tr>\n",
       "      <th>15</th>\n",
       "      <td>2017-09-01</td>\n",
       "      <td>-10.00</td>\n",
       "    </tr>\n",
       "    <tr>\n",
       "      <th>16</th>\n",
       "      <td>2017-10-02</td>\n",
       "      <td>-34.48</td>\n",
       "    </tr>\n",
       "    <tr>\n",
       "      <th>17</th>\n",
       "      <td>2017-10-02</td>\n",
       "      <td>-10.00</td>\n",
       "    </tr>\n",
       "    <tr>\n",
       "      <th>18</th>\n",
       "      <td>2017-11-02</td>\n",
       "      <td>-10.00</td>\n",
       "    </tr>\n",
       "    <tr>\n",
       "      <th>19</th>\n",
       "      <td>2017-11-02</td>\n",
       "      <td>-34.48</td>\n",
       "    </tr>\n",
       "    <tr>\n",
       "      <th>20</th>\n",
       "      <td>2017-12-01</td>\n",
       "      <td>-34.48</td>\n",
       "    </tr>\n",
       "    <tr>\n",
       "      <th>21</th>\n",
       "      <td>2017-12-01</td>\n",
       "      <td>-15.00</td>\n",
       "    </tr>\n",
       "    <tr>\n",
       "      <th>22</th>\n",
       "      <td>2018-02-01</td>\n",
       "      <td>-15.00</td>\n",
       "    </tr>\n",
       "    <tr>\n",
       "      <th>23</th>\n",
       "      <td>2018-02-01</td>\n",
       "      <td>-34.48</td>\n",
       "    </tr>\n",
       "    <tr>\n",
       "      <th>24</th>\n",
       "      <td>2018-03-01</td>\n",
       "      <td>-15.00</td>\n",
       "    </tr>\n",
       "    <tr>\n",
       "      <th>25</th>\n",
       "      <td>2018-03-01</td>\n",
       "      <td>-34.48</td>\n",
       "    </tr>\n",
       "    <tr>\n",
       "      <th>26</th>\n",
       "      <td>2018-03-14</td>\n",
       "      <td>-68.05</td>\n",
       "    </tr>\n",
       "    <tr>\n",
       "      <th>27</th>\n",
       "      <td>2018-03-14</td>\n",
       "      <td>-66.85</td>\n",
       "    </tr>\n",
       "    <tr>\n",
       "      <th>28</th>\n",
       "      <td>2018-03-14</td>\n",
       "      <td>-66.85</td>\n",
       "    </tr>\n",
       "    <tr>\n",
       "      <th>29</th>\n",
       "      <td>2018-04-03</td>\n",
       "      <td>-66.85</td>\n",
       "    </tr>\n",
       "    <tr>\n",
       "      <th>30</th>\n",
       "      <td>2018-04-03</td>\n",
       "      <td>-37.74</td>\n",
       "    </tr>\n",
       "    <tr>\n",
       "      <th>31</th>\n",
       "      <td>2018-05-03</td>\n",
       "      <td>-37.07</td>\n",
       "    </tr>\n",
       "    <tr>\n",
       "      <th>32</th>\n",
       "      <td>2018-05-03</td>\n",
       "      <td>-66.85</td>\n",
       "    </tr>\n",
       "    <tr>\n",
       "      <th>33</th>\n",
       "      <td>2018-06-01</td>\n",
       "      <td>-25.00</td>\n",
       "    </tr>\n",
       "    <tr>\n",
       "      <th>34</th>\n",
       "      <td>2018-06-01</td>\n",
       "      <td>-37.07</td>\n",
       "    </tr>\n",
       "    <tr>\n",
       "      <th>35</th>\n",
       "      <td>2018-06-01</td>\n",
       "      <td>-66.85</td>\n",
       "    </tr>\n",
       "    <tr>\n",
       "      <th>36</th>\n",
       "      <td>2018-07-02</td>\n",
       "      <td>-10.00</td>\n",
       "    </tr>\n",
       "    <tr>\n",
       "      <th>37</th>\n",
       "      <td>2018-07-02</td>\n",
       "      <td>-66.85</td>\n",
       "    </tr>\n",
       "    <tr>\n",
       "      <th>38</th>\n",
       "      <td>2018-07-02</td>\n",
       "      <td>-37.07</td>\n",
       "    </tr>\n",
       "    <tr>\n",
       "      <th>39</th>\n",
       "      <td>2018-08-01</td>\n",
       "      <td>-37.07</td>\n",
       "    </tr>\n",
       "    <tr>\n",
       "      <th>40</th>\n",
       "      <td>2018-08-01</td>\n",
       "      <td>-66.85</td>\n",
       "    </tr>\n",
       "    <tr>\n",
       "      <th>41</th>\n",
       "      <td>2018-09-03</td>\n",
       "      <td>-66.85</td>\n",
       "    </tr>\n",
       "    <tr>\n",
       "      <th>42</th>\n",
       "      <td>2018-09-03</td>\n",
       "      <td>-37.07</td>\n",
       "    </tr>\n",
       "    <tr>\n",
       "      <th>43</th>\n",
       "      <td>2018-10-01</td>\n",
       "      <td>-37.07</td>\n",
       "    </tr>\n",
       "    <tr>\n",
       "      <th>44</th>\n",
       "      <td>2018-10-01</td>\n",
       "      <td>-66.85</td>\n",
       "    </tr>\n",
       "    <tr>\n",
       "      <th>45</th>\n",
       "      <td>2018-11-02</td>\n",
       "      <td>-37.07</td>\n",
       "    </tr>\n",
       "    <tr>\n",
       "      <th>46</th>\n",
       "      <td>2018-11-02</td>\n",
       "      <td>-66.85</td>\n",
       "    </tr>\n",
       "    <tr>\n",
       "      <th>47</th>\n",
       "      <td>2018-12-03</td>\n",
       "      <td>-35.00</td>\n",
       "    </tr>\n",
       "    <tr>\n",
       "      <th>48</th>\n",
       "      <td>2018-12-03</td>\n",
       "      <td>-37.07</td>\n",
       "    </tr>\n",
       "    <tr>\n",
       "      <th>49</th>\n",
       "      <td>2018-12-03</td>\n",
       "      <td>-66.85</td>\n",
       "    </tr>\n",
       "    <tr>\n",
       "      <th>50</th>\n",
       "      <td>2019-01-02</td>\n",
       "      <td>-5.00</td>\n",
       "    </tr>\n",
       "    <tr>\n",
       "      <th>51</th>\n",
       "      <td>2019-01-02</td>\n",
       "      <td>-72.38</td>\n",
       "    </tr>\n",
       "    <tr>\n",
       "      <th>52</th>\n",
       "      <td>2019-01-02</td>\n",
       "      <td>-37.07</td>\n",
       "    </tr>\n",
       "    <tr>\n",
       "      <th>53</th>\n",
       "      <td>2019-02-01</td>\n",
       "      <td>-71.10</td>\n",
       "    </tr>\n",
       "    <tr>\n",
       "      <th>54</th>\n",
       "      <td>2019-02-01</td>\n",
       "      <td>-37.07</td>\n",
       "    </tr>\n",
       "    <tr>\n",
       "      <th>55</th>\n",
       "      <td>2019-02-14</td>\n",
       "      <td>-71.10</td>\n",
       "    </tr>\n",
       "    <tr>\n",
       "      <th>56</th>\n",
       "      <td>2019-03-01</td>\n",
       "      <td>-37.07</td>\n",
       "    </tr>\n",
       "    <tr>\n",
       "      <th>57</th>\n",
       "      <td>2019-03-01</td>\n",
       "      <td>-71.10</td>\n",
       "    </tr>\n",
       "    <tr>\n",
       "      <th>58</th>\n",
       "      <td>2019-04-10</td>\n",
       "      <td>72.38</td>\n",
       "    </tr>\n",
       "  </tbody>\n",
       "</table>\n",
       "</div>"
      ],
      "text/plain": [
       "        FECHA  IMPORTE\n",
       "0  2016-09-01   -32.22\n",
       "1  2016-10-03   -37.22\n",
       "2  2016-11-02   -32.22\n",
       "3  2016-12-01   -32.22\n",
       "4  2017-01-02   -47.22\n",
       "5  2017-02-01   -32.22\n",
       "6  2017-03-01   -32.22\n",
       "7  2017-04-03   -25.00\n",
       "8  2017-04-03   -35.10\n",
       "9  2017-05-03   -34.48\n",
       "10 2017-06-01   -34.48\n",
       "11 2017-07-03   -34.48\n",
       "12 2017-07-03   -10.00\n",
       "13 2017-08-01   -34.48\n",
       "14 2017-09-01   -34.48\n",
       "15 2017-09-01   -10.00\n",
       "16 2017-10-02   -34.48\n",
       "17 2017-10-02   -10.00\n",
       "18 2017-11-02   -10.00\n",
       "19 2017-11-02   -34.48\n",
       "20 2017-12-01   -34.48\n",
       "21 2017-12-01   -15.00\n",
       "22 2018-02-01   -15.00\n",
       "23 2018-02-01   -34.48\n",
       "24 2018-03-01   -15.00\n",
       "25 2018-03-01   -34.48\n",
       "26 2018-03-14   -68.05\n",
       "27 2018-03-14   -66.85\n",
       "28 2018-03-14   -66.85\n",
       "29 2018-04-03   -66.85\n",
       "30 2018-04-03   -37.74\n",
       "31 2018-05-03   -37.07\n",
       "32 2018-05-03   -66.85\n",
       "33 2018-06-01   -25.00\n",
       "34 2018-06-01   -37.07\n",
       "35 2018-06-01   -66.85\n",
       "36 2018-07-02   -10.00\n",
       "37 2018-07-02   -66.85\n",
       "38 2018-07-02   -37.07\n",
       "39 2018-08-01   -37.07\n",
       "40 2018-08-01   -66.85\n",
       "41 2018-09-03   -66.85\n",
       "42 2018-09-03   -37.07\n",
       "43 2018-10-01   -37.07\n",
       "44 2018-10-01   -66.85\n",
       "45 2018-11-02   -37.07\n",
       "46 2018-11-02   -66.85\n",
       "47 2018-12-03   -35.00\n",
       "48 2018-12-03   -37.07\n",
       "49 2018-12-03   -66.85\n",
       "50 2019-01-02    -5.00\n",
       "51 2019-01-02   -72.38\n",
       "52 2019-01-02   -37.07\n",
       "53 2019-02-01   -71.10\n",
       "54 2019-02-01   -37.07\n",
       "55 2019-02-14   -71.10\n",
       "56 2019-03-01   -37.07\n",
       "57 2019-03-01   -71.10\n",
       "58 2019-04-10    72.38"
      ]
     },
     "execution_count": 250,
     "metadata": {},
     "output_type": "execute_result"
    }
   ],
   "source": [
    "# ordenamos las fechas por orden ascendente\n",
    "transacciones_90_df.sort_values(by=['FECHA'], ascending=True, inplace=True, ignore_index=True)\n",
    "transacciones_90_df"
   ]
  },
  {
   "cell_type": "code",
   "execution_count": 251,
   "id": "b525905c",
   "metadata": {},
   "outputs": [
    {
     "data": {
      "text/html": [
       "<div>\n",
       "<style scoped>\n",
       "    .dataframe tbody tr th:only-of-type {\n",
       "        vertical-align: middle;\n",
       "    }\n",
       "\n",
       "    .dataframe tbody tr th {\n",
       "        vertical-align: top;\n",
       "    }\n",
       "\n",
       "    .dataframe thead th {\n",
       "        text-align: right;\n",
       "    }\n",
       "</style>\n",
       "<table border=\"1\" class=\"dataframe\">\n",
       "  <thead>\n",
       "    <tr style=\"text-align: right;\">\n",
       "      <th></th>\n",
       "      <th>IMPORTE</th>\n",
       "    </tr>\n",
       "    <tr>\n",
       "      <th>FECHA</th>\n",
       "      <th></th>\n",
       "    </tr>\n",
       "  </thead>\n",
       "  <tbody>\n",
       "    <tr>\n",
       "      <th>2016-09-01</th>\n",
       "      <td>-32.22</td>\n",
       "    </tr>\n",
       "    <tr>\n",
       "      <th>2016-10-03</th>\n",
       "      <td>-37.22</td>\n",
       "    </tr>\n",
       "    <tr>\n",
       "      <th>2016-11-02</th>\n",
       "      <td>-32.22</td>\n",
       "    </tr>\n",
       "    <tr>\n",
       "      <th>2016-12-01</th>\n",
       "      <td>-32.22</td>\n",
       "    </tr>\n",
       "    <tr>\n",
       "      <th>2017-01-02</th>\n",
       "      <td>-47.22</td>\n",
       "    </tr>\n",
       "    <tr>\n",
       "      <th>2017-02-01</th>\n",
       "      <td>-32.22</td>\n",
       "    </tr>\n",
       "    <tr>\n",
       "      <th>2017-03-01</th>\n",
       "      <td>-32.22</td>\n",
       "    </tr>\n",
       "    <tr>\n",
       "      <th>2017-04-03</th>\n",
       "      <td>-60.10</td>\n",
       "    </tr>\n",
       "    <tr>\n",
       "      <th>2017-05-03</th>\n",
       "      <td>-34.48</td>\n",
       "    </tr>\n",
       "    <tr>\n",
       "      <th>2017-06-01</th>\n",
       "      <td>-34.48</td>\n",
       "    </tr>\n",
       "    <tr>\n",
       "      <th>2017-07-03</th>\n",
       "      <td>-44.48</td>\n",
       "    </tr>\n",
       "    <tr>\n",
       "      <th>2017-08-01</th>\n",
       "      <td>-34.48</td>\n",
       "    </tr>\n",
       "    <tr>\n",
       "      <th>2017-09-01</th>\n",
       "      <td>-44.48</td>\n",
       "    </tr>\n",
       "    <tr>\n",
       "      <th>2017-10-02</th>\n",
       "      <td>-44.48</td>\n",
       "    </tr>\n",
       "    <tr>\n",
       "      <th>2017-11-02</th>\n",
       "      <td>-44.48</td>\n",
       "    </tr>\n",
       "    <tr>\n",
       "      <th>2017-12-01</th>\n",
       "      <td>-49.48</td>\n",
       "    </tr>\n",
       "    <tr>\n",
       "      <th>2018-02-01</th>\n",
       "      <td>-49.48</td>\n",
       "    </tr>\n",
       "    <tr>\n",
       "      <th>2018-03-01</th>\n",
       "      <td>-49.48</td>\n",
       "    </tr>\n",
       "    <tr>\n",
       "      <th>2018-03-14</th>\n",
       "      <td>-201.75</td>\n",
       "    </tr>\n",
       "    <tr>\n",
       "      <th>2018-04-03</th>\n",
       "      <td>-104.59</td>\n",
       "    </tr>\n",
       "    <tr>\n",
       "      <th>2018-05-03</th>\n",
       "      <td>-103.92</td>\n",
       "    </tr>\n",
       "    <tr>\n",
       "      <th>2018-06-01</th>\n",
       "      <td>-128.92</td>\n",
       "    </tr>\n",
       "    <tr>\n",
       "      <th>2018-07-02</th>\n",
       "      <td>-113.92</td>\n",
       "    </tr>\n",
       "    <tr>\n",
       "      <th>2018-08-01</th>\n",
       "      <td>-103.92</td>\n",
       "    </tr>\n",
       "    <tr>\n",
       "      <th>2018-09-03</th>\n",
       "      <td>-103.92</td>\n",
       "    </tr>\n",
       "    <tr>\n",
       "      <th>2018-10-01</th>\n",
       "      <td>-103.92</td>\n",
       "    </tr>\n",
       "    <tr>\n",
       "      <th>2018-11-02</th>\n",
       "      <td>-103.92</td>\n",
       "    </tr>\n",
       "    <tr>\n",
       "      <th>2018-12-03</th>\n",
       "      <td>-138.92</td>\n",
       "    </tr>\n",
       "    <tr>\n",
       "      <th>2019-01-02</th>\n",
       "      <td>-114.45</td>\n",
       "    </tr>\n",
       "    <tr>\n",
       "      <th>2019-02-01</th>\n",
       "      <td>-108.17</td>\n",
       "    </tr>\n",
       "    <tr>\n",
       "      <th>2019-02-14</th>\n",
       "      <td>-71.10</td>\n",
       "    </tr>\n",
       "    <tr>\n",
       "      <th>2019-03-01</th>\n",
       "      <td>-108.17</td>\n",
       "    </tr>\n",
       "    <tr>\n",
       "      <th>2019-04-10</th>\n",
       "      <td>72.38</td>\n",
       "    </tr>\n",
       "  </tbody>\n",
       "</table>\n",
       "</div>"
      ],
      "text/plain": [
       "            IMPORTE\n",
       "FECHA              \n",
       "2016-09-01   -32.22\n",
       "2016-10-03   -37.22\n",
       "2016-11-02   -32.22\n",
       "2016-12-01   -32.22\n",
       "2017-01-02   -47.22\n",
       "2017-02-01   -32.22\n",
       "2017-03-01   -32.22\n",
       "2017-04-03   -60.10\n",
       "2017-05-03   -34.48\n",
       "2017-06-01   -34.48\n",
       "2017-07-03   -44.48\n",
       "2017-08-01   -34.48\n",
       "2017-09-01   -44.48\n",
       "2017-10-02   -44.48\n",
       "2017-11-02   -44.48\n",
       "2017-12-01   -49.48\n",
       "2018-02-01   -49.48\n",
       "2018-03-01   -49.48\n",
       "2018-03-14  -201.75\n",
       "2018-04-03  -104.59\n",
       "2018-05-03  -103.92\n",
       "2018-06-01  -128.92\n",
       "2018-07-02  -113.92\n",
       "2018-08-01  -103.92\n",
       "2018-09-03  -103.92\n",
       "2018-10-01  -103.92\n",
       "2018-11-02  -103.92\n",
       "2018-12-03  -138.92\n",
       "2019-01-02  -114.45\n",
       "2019-02-01  -108.17\n",
       "2019-02-14   -71.10\n",
       "2019-03-01  -108.17\n",
       "2019-04-10    72.38"
      ]
     },
     "execution_count": 251,
     "metadata": {},
     "output_type": "execute_result"
    }
   ],
   "source": [
    "# vamos a agrupar los valores y sumarlos por fecha para agrupar cargos distintos realizados el mismo dia\n",
    "transacciones_90_df=transacciones_90_df.groupby(['FECHA']).sum()\n",
    "transacciones_90_df"
   ]
  },
  {
   "cell_type": "code",
   "execution_count": 252,
   "id": "e920040e",
   "metadata": {},
   "outputs": [],
   "source": [
    "# vamos a hacer dos estudios estadisticos:\n",
    "# uno para el dataframe sin rellenar con ceros las fechas que faltan para ver la distribucion estadistica del importe y sus \n",
    "# parametros.\n",
    "# otro para el dataframe poniendo importe 0 en las fechas que faltan para ver la distribucion estadistica del dia de pago\n",
    "# y poder dar avisos (podremos apoyarnos en funcionalidad aviso impago nomina)"
   ]
  },
  {
   "cell_type": "code",
   "execution_count": 253,
   "id": "9096eeff",
   "metadata": {},
   "outputs": [
    {
     "data": {
      "text/plain": [
       "IMPORTE    float64\n",
       "dtype: object"
      ]
     },
     "execution_count": 253,
     "metadata": {},
     "output_type": "execute_result"
    }
   ],
   "source": [
    "transacciones_90_df.dtypes"
   ]
  },
  {
   "cell_type": "code",
   "execution_count": 254,
   "id": "d7092067",
   "metadata": {},
   "outputs": [
    {
     "data": {
      "text/html": [
       "<div>\n",
       "<style scoped>\n",
       "    .dataframe tbody tr th:only-of-type {\n",
       "        vertical-align: middle;\n",
       "    }\n",
       "\n",
       "    .dataframe tbody tr th {\n",
       "        vertical-align: top;\n",
       "    }\n",
       "\n",
       "    .dataframe thead th {\n",
       "        text-align: right;\n",
       "    }\n",
       "</style>\n",
       "<table border=\"1\" class=\"dataframe\">\n",
       "  <thead>\n",
       "    <tr style=\"text-align: right;\">\n",
       "      <th></th>\n",
       "      <th>IMPORTE</th>\n",
       "    </tr>\n",
       "    <tr>\n",
       "      <th>FECHA</th>\n",
       "      <th></th>\n",
       "    </tr>\n",
       "  </thead>\n",
       "  <tbody>\n",
       "    <tr>\n",
       "      <th>2016-09-01</th>\n",
       "      <td>-32.22</td>\n",
       "    </tr>\n",
       "    <tr>\n",
       "      <th>2016-10-03</th>\n",
       "      <td>-37.22</td>\n",
       "    </tr>\n",
       "    <tr>\n",
       "      <th>2016-11-02</th>\n",
       "      <td>-32.22</td>\n",
       "    </tr>\n",
       "    <tr>\n",
       "      <th>2016-12-01</th>\n",
       "      <td>-32.22</td>\n",
       "    </tr>\n",
       "    <tr>\n",
       "      <th>2017-01-02</th>\n",
       "      <td>-47.22</td>\n",
       "    </tr>\n",
       "    <tr>\n",
       "      <th>2017-02-01</th>\n",
       "      <td>-32.22</td>\n",
       "    </tr>\n",
       "    <tr>\n",
       "      <th>2017-03-01</th>\n",
       "      <td>-32.22</td>\n",
       "    </tr>\n",
       "    <tr>\n",
       "      <th>2017-04-03</th>\n",
       "      <td>-60.10</td>\n",
       "    </tr>\n",
       "    <tr>\n",
       "      <th>2017-05-03</th>\n",
       "      <td>-34.48</td>\n",
       "    </tr>\n",
       "    <tr>\n",
       "      <th>2017-06-01</th>\n",
       "      <td>-34.48</td>\n",
       "    </tr>\n",
       "    <tr>\n",
       "      <th>2017-07-03</th>\n",
       "      <td>-44.48</td>\n",
       "    </tr>\n",
       "    <tr>\n",
       "      <th>2017-08-01</th>\n",
       "      <td>-34.48</td>\n",
       "    </tr>\n",
       "    <tr>\n",
       "      <th>2017-09-01</th>\n",
       "      <td>-44.48</td>\n",
       "    </tr>\n",
       "    <tr>\n",
       "      <th>2017-10-02</th>\n",
       "      <td>-44.48</td>\n",
       "    </tr>\n",
       "    <tr>\n",
       "      <th>2017-11-02</th>\n",
       "      <td>-44.48</td>\n",
       "    </tr>\n",
       "    <tr>\n",
       "      <th>2017-12-01</th>\n",
       "      <td>-49.48</td>\n",
       "    </tr>\n",
       "    <tr>\n",
       "      <th>2018-02-01</th>\n",
       "      <td>-49.48</td>\n",
       "    </tr>\n",
       "    <tr>\n",
       "      <th>2018-03-01</th>\n",
       "      <td>-49.48</td>\n",
       "    </tr>\n",
       "    <tr>\n",
       "      <th>2018-03-14</th>\n",
       "      <td>-201.75</td>\n",
       "    </tr>\n",
       "    <tr>\n",
       "      <th>2018-04-03</th>\n",
       "      <td>-104.59</td>\n",
       "    </tr>\n",
       "    <tr>\n",
       "      <th>2018-05-03</th>\n",
       "      <td>-103.92</td>\n",
       "    </tr>\n",
       "    <tr>\n",
       "      <th>2018-06-01</th>\n",
       "      <td>-128.92</td>\n",
       "    </tr>\n",
       "    <tr>\n",
       "      <th>2018-07-02</th>\n",
       "      <td>-113.92</td>\n",
       "    </tr>\n",
       "    <tr>\n",
       "      <th>2018-08-01</th>\n",
       "      <td>-103.92</td>\n",
       "    </tr>\n",
       "    <tr>\n",
       "      <th>2018-09-03</th>\n",
       "      <td>-103.92</td>\n",
       "    </tr>\n",
       "    <tr>\n",
       "      <th>2018-10-01</th>\n",
       "      <td>-103.92</td>\n",
       "    </tr>\n",
       "    <tr>\n",
       "      <th>2018-11-02</th>\n",
       "      <td>-103.92</td>\n",
       "    </tr>\n",
       "    <tr>\n",
       "      <th>2018-12-03</th>\n",
       "      <td>-138.92</td>\n",
       "    </tr>\n",
       "    <tr>\n",
       "      <th>2019-01-02</th>\n",
       "      <td>-114.45</td>\n",
       "    </tr>\n",
       "    <tr>\n",
       "      <th>2019-02-01</th>\n",
       "      <td>-108.17</td>\n",
       "    </tr>\n",
       "    <tr>\n",
       "      <th>2019-02-14</th>\n",
       "      <td>-71.10</td>\n",
       "    </tr>\n",
       "    <tr>\n",
       "      <th>2019-03-01</th>\n",
       "      <td>-108.17</td>\n",
       "    </tr>\n",
       "    <tr>\n",
       "      <th>2019-04-10</th>\n",
       "      <td>72.38</td>\n",
       "    </tr>\n",
       "  </tbody>\n",
       "</table>\n",
       "</div>"
      ],
      "text/plain": [
       "            IMPORTE\n",
       "FECHA              \n",
       "2016-09-01   -32.22\n",
       "2016-10-03   -37.22\n",
       "2016-11-02   -32.22\n",
       "2016-12-01   -32.22\n",
       "2017-01-02   -47.22\n",
       "2017-02-01   -32.22\n",
       "2017-03-01   -32.22\n",
       "2017-04-03   -60.10\n",
       "2017-05-03   -34.48\n",
       "2017-06-01   -34.48\n",
       "2017-07-03   -44.48\n",
       "2017-08-01   -34.48\n",
       "2017-09-01   -44.48\n",
       "2017-10-02   -44.48\n",
       "2017-11-02   -44.48\n",
       "2017-12-01   -49.48\n",
       "2018-02-01   -49.48\n",
       "2018-03-01   -49.48\n",
       "2018-03-14  -201.75\n",
       "2018-04-03  -104.59\n",
       "2018-05-03  -103.92\n",
       "2018-06-01  -128.92\n",
       "2018-07-02  -113.92\n",
       "2018-08-01  -103.92\n",
       "2018-09-03  -103.92\n",
       "2018-10-01  -103.92\n",
       "2018-11-02  -103.92\n",
       "2018-12-03  -138.92\n",
       "2019-01-02  -114.45\n",
       "2019-02-01  -108.17\n",
       "2019-02-14   -71.10\n",
       "2019-03-01  -108.17\n",
       "2019-04-10    72.38"
      ]
     },
     "execution_count": 254,
     "metadata": {},
     "output_type": "execute_result"
    }
   ],
   "source": [
    "# convertimos el indice a formato datetime por si acaso aun no estaba convertido\n",
    "transacciones_90_df.index = to_datetime(transacciones_90_df.index)\n",
    "transacciones_90_df"
   ]
  },
  {
   "cell_type": "code",
   "execution_count": 255,
   "id": "e619d6a9",
   "metadata": {},
   "outputs": [
    {
     "data": {
      "text/plain": [
       "IMPORTE    float64\n",
       "dtype: object"
      ]
     },
     "execution_count": 255,
     "metadata": {},
     "output_type": "execute_result"
    }
   ],
   "source": [
    "transacciones_90_df.dtypes"
   ]
  },
  {
   "cell_type": "code",
   "execution_count": 256,
   "id": "bda5368a",
   "metadata": {},
   "outputs": [],
   "source": [
    "# transacciones_90_df.loc['2019-4-10']['IMPORTE'] = -transacciones_90_df.loc['2019-4-10']['IMPORTE']\n",
    "# transacciones_90_df"
   ]
  },
  {
   "cell_type": "code",
   "execution_count": 257,
   "id": "2efb3215",
   "metadata": {},
   "outputs": [
    {
     "data": {
      "text/html": [
       "<div>\n",
       "<style scoped>\n",
       "    .dataframe tbody tr th:only-of-type {\n",
       "        vertical-align: middle;\n",
       "    }\n",
       "\n",
       "    .dataframe tbody tr th {\n",
       "        vertical-align: top;\n",
       "    }\n",
       "\n",
       "    .dataframe thead th {\n",
       "        text-align: right;\n",
       "    }\n",
       "</style>\n",
       "<table border=\"1\" class=\"dataframe\">\n",
       "  <thead>\n",
       "    <tr style=\"text-align: right;\">\n",
       "      <th></th>\n",
       "      <th>IMPORTE</th>\n",
       "    </tr>\n",
       "    <tr>\n",
       "      <th>FECHA</th>\n",
       "      <th></th>\n",
       "    </tr>\n",
       "  </thead>\n",
       "  <tbody>\n",
       "    <tr>\n",
       "      <th>2016-09-01</th>\n",
       "      <td>32.22</td>\n",
       "    </tr>\n",
       "    <tr>\n",
       "      <th>2016-10-03</th>\n",
       "      <td>37.22</td>\n",
       "    </tr>\n",
       "    <tr>\n",
       "      <th>2016-11-02</th>\n",
       "      <td>32.22</td>\n",
       "    </tr>\n",
       "    <tr>\n",
       "      <th>2016-12-01</th>\n",
       "      <td>32.22</td>\n",
       "    </tr>\n",
       "    <tr>\n",
       "      <th>2017-01-02</th>\n",
       "      <td>47.22</td>\n",
       "    </tr>\n",
       "    <tr>\n",
       "      <th>2017-02-01</th>\n",
       "      <td>32.22</td>\n",
       "    </tr>\n",
       "    <tr>\n",
       "      <th>2017-03-01</th>\n",
       "      <td>32.22</td>\n",
       "    </tr>\n",
       "    <tr>\n",
       "      <th>2017-04-03</th>\n",
       "      <td>60.10</td>\n",
       "    </tr>\n",
       "    <tr>\n",
       "      <th>2017-05-03</th>\n",
       "      <td>34.48</td>\n",
       "    </tr>\n",
       "    <tr>\n",
       "      <th>2017-06-01</th>\n",
       "      <td>34.48</td>\n",
       "    </tr>\n",
       "    <tr>\n",
       "      <th>2017-07-03</th>\n",
       "      <td>44.48</td>\n",
       "    </tr>\n",
       "    <tr>\n",
       "      <th>2017-08-01</th>\n",
       "      <td>34.48</td>\n",
       "    </tr>\n",
       "    <tr>\n",
       "      <th>2017-09-01</th>\n",
       "      <td>44.48</td>\n",
       "    </tr>\n",
       "    <tr>\n",
       "      <th>2017-10-02</th>\n",
       "      <td>44.48</td>\n",
       "    </tr>\n",
       "    <tr>\n",
       "      <th>2017-11-02</th>\n",
       "      <td>44.48</td>\n",
       "    </tr>\n",
       "    <tr>\n",
       "      <th>2017-12-01</th>\n",
       "      <td>49.48</td>\n",
       "    </tr>\n",
       "    <tr>\n",
       "      <th>2018-02-01</th>\n",
       "      <td>49.48</td>\n",
       "    </tr>\n",
       "    <tr>\n",
       "      <th>2018-03-01</th>\n",
       "      <td>49.48</td>\n",
       "    </tr>\n",
       "    <tr>\n",
       "      <th>2018-03-14</th>\n",
       "      <td>201.75</td>\n",
       "    </tr>\n",
       "    <tr>\n",
       "      <th>2018-04-03</th>\n",
       "      <td>104.59</td>\n",
       "    </tr>\n",
       "    <tr>\n",
       "      <th>2018-05-03</th>\n",
       "      <td>103.92</td>\n",
       "    </tr>\n",
       "    <tr>\n",
       "      <th>2018-06-01</th>\n",
       "      <td>128.92</td>\n",
       "    </tr>\n",
       "    <tr>\n",
       "      <th>2018-07-02</th>\n",
       "      <td>113.92</td>\n",
       "    </tr>\n",
       "    <tr>\n",
       "      <th>2018-08-01</th>\n",
       "      <td>103.92</td>\n",
       "    </tr>\n",
       "    <tr>\n",
       "      <th>2018-09-03</th>\n",
       "      <td>103.92</td>\n",
       "    </tr>\n",
       "    <tr>\n",
       "      <th>2018-10-01</th>\n",
       "      <td>103.92</td>\n",
       "    </tr>\n",
       "    <tr>\n",
       "      <th>2018-11-02</th>\n",
       "      <td>103.92</td>\n",
       "    </tr>\n",
       "    <tr>\n",
       "      <th>2018-12-03</th>\n",
       "      <td>138.92</td>\n",
       "    </tr>\n",
       "    <tr>\n",
       "      <th>2019-01-02</th>\n",
       "      <td>114.45</td>\n",
       "    </tr>\n",
       "    <tr>\n",
       "      <th>2019-02-01</th>\n",
       "      <td>108.17</td>\n",
       "    </tr>\n",
       "    <tr>\n",
       "      <th>2019-02-14</th>\n",
       "      <td>71.10</td>\n",
       "    </tr>\n",
       "    <tr>\n",
       "      <th>2019-03-01</th>\n",
       "      <td>108.17</td>\n",
       "    </tr>\n",
       "    <tr>\n",
       "      <th>2019-04-10</th>\n",
       "      <td>-72.38</td>\n",
       "    </tr>\n",
       "  </tbody>\n",
       "</table>\n",
       "</div>"
      ],
      "text/plain": [
       "            IMPORTE\n",
       "FECHA              \n",
       "2016-09-01    32.22\n",
       "2016-10-03    37.22\n",
       "2016-11-02    32.22\n",
       "2016-12-01    32.22\n",
       "2017-01-02    47.22\n",
       "2017-02-01    32.22\n",
       "2017-03-01    32.22\n",
       "2017-04-03    60.10\n",
       "2017-05-03    34.48\n",
       "2017-06-01    34.48\n",
       "2017-07-03    44.48\n",
       "2017-08-01    34.48\n",
       "2017-09-01    44.48\n",
       "2017-10-02    44.48\n",
       "2017-11-02    44.48\n",
       "2017-12-01    49.48\n",
       "2018-02-01    49.48\n",
       "2018-03-01    49.48\n",
       "2018-03-14   201.75\n",
       "2018-04-03   104.59\n",
       "2018-05-03   103.92\n",
       "2018-06-01   128.92\n",
       "2018-07-02   113.92\n",
       "2018-08-01   103.92\n",
       "2018-09-03   103.92\n",
       "2018-10-01   103.92\n",
       "2018-11-02   103.92\n",
       "2018-12-03   138.92\n",
       "2019-01-02   114.45\n",
       "2019-02-01   108.17\n",
       "2019-02-14    71.10\n",
       "2019-03-01   108.17\n",
       "2019-04-10   -72.38"
      ]
     },
     "execution_count": 257,
     "metadata": {},
     "output_type": "execute_result"
    }
   ],
   "source": [
    "# para que los datos sean más fáciles de interpretar vamos a hacerlos todos positivos multiplicandolos por '-1'\n",
    "transacciones_90_df['IMPORTE']=-transacciones_90_df['IMPORTE']\n",
    "transacciones_90_df"
   ]
  },
  {
   "cell_type": "code",
   "execution_count": 258,
   "id": "699f8ffb",
   "metadata": {},
   "outputs": [
    {
     "data": {
      "text/plain": [
       "IMPORTE    float64\n",
       "dtype: object"
      ]
     },
     "execution_count": 258,
     "metadata": {},
     "output_type": "execute_result"
    }
   ],
   "source": [
    "transacciones_90_df.dtypes"
   ]
  },
  {
   "cell_type": "code",
   "execution_count": 259,
   "id": "03b51c11",
   "metadata": {},
   "outputs": [
    {
     "data": {
      "text/plain": [
       "33"
      ]
     },
     "execution_count": 259,
     "metadata": {},
     "output_type": "execute_result"
    }
   ],
   "source": [
    "transacciones_90_df.size"
   ]
  },
  {
   "cell_type": "code",
   "execution_count": 260,
   "id": "deff2003",
   "metadata": {},
   "outputs": [
    {
     "data": {
      "text/plain": [
       "(33, 1)"
      ]
     },
     "execution_count": 260,
     "metadata": {},
     "output_type": "execute_result"
    }
   ],
   "source": [
    "transacciones_90_df.shape"
   ]
  },
  {
   "cell_type": "code",
   "execution_count": 261,
   "id": "32be1a19",
   "metadata": {},
   "outputs": [
    {
     "data": {
      "text/plain": [
       "32.22"
      ]
     },
     "execution_count": 261,
     "metadata": {},
     "output_type": "execute_result"
    }
   ],
   "source": [
    "statistics.mode(transacciones_90_df['IMPORTE'])"
   ]
  },
  {
   "cell_type": "code",
   "execution_count": 262,
   "id": "b37005ad",
   "metadata": {},
   "outputs": [
    {
     "data": {
      "text/html": [
       "<div>\n",
       "<style scoped>\n",
       "    .dataframe tbody tr th:only-of-type {\n",
       "        vertical-align: middle;\n",
       "    }\n",
       "\n",
       "    .dataframe tbody tr th {\n",
       "        vertical-align: top;\n",
       "    }\n",
       "\n",
       "    .dataframe thead th {\n",
       "        text-align: right;\n",
       "    }\n",
       "</style>\n",
       "<table border=\"1\" class=\"dataframe\">\n",
       "  <thead>\n",
       "    <tr style=\"text-align: right;\">\n",
       "      <th></th>\n",
       "      <th>IMPORTE</th>\n",
       "    </tr>\n",
       "  </thead>\n",
       "  <tbody>\n",
       "    <tr>\n",
       "      <th>count</th>\n",
       "      <td>33.000000</td>\n",
       "    </tr>\n",
       "    <tr>\n",
       "      <th>mean</th>\n",
       "      <td>68.868182</td>\n",
       "    </tr>\n",
       "    <tr>\n",
       "      <th>std</th>\n",
       "      <td>48.753197</td>\n",
       "    </tr>\n",
       "    <tr>\n",
       "      <th>min</th>\n",
       "      <td>-72.380000</td>\n",
       "    </tr>\n",
       "    <tr>\n",
       "      <th>25%</th>\n",
       "      <td>34.480000</td>\n",
       "    </tr>\n",
       "    <tr>\n",
       "      <th>50%</th>\n",
       "      <td>49.480000</td>\n",
       "    </tr>\n",
       "    <tr>\n",
       "      <th>75%</th>\n",
       "      <td>103.920000</td>\n",
       "    </tr>\n",
       "    <tr>\n",
       "      <th>max</th>\n",
       "      <td>201.750000</td>\n",
       "    </tr>\n",
       "  </tbody>\n",
       "</table>\n",
       "</div>"
      ],
      "text/plain": [
       "          IMPORTE\n",
       "count   33.000000\n",
       "mean    68.868182\n",
       "std     48.753197\n",
       "min    -72.380000\n",
       "25%     34.480000\n",
       "50%     49.480000\n",
       "75%    103.920000\n",
       "max    201.750000"
      ]
     },
     "execution_count": 262,
     "metadata": {},
     "output_type": "execute_result"
    }
   ],
   "source": [
    "transacciones_90_df.describe()"
   ]
  },
  {
   "cell_type": "code",
   "execution_count": 263,
   "id": "1a6d998c",
   "metadata": {},
   "outputs": [
    {
     "data": {
      "text/plain": [
       "'\\nmean = 68.86 eur lo que indica que probablemente la cuenta tiene 2 titulares (1 seguro medico aprox. 40 eur/mes)\\nq2 = 49.48 eur\\nmoda = 32.22 eur q no es un valor significativo\\n'"
      ]
     },
     "execution_count": 263,
     "metadata": {},
     "output_type": "execute_result"
    }
   ],
   "source": [
    "\"\"\"\n",
    "mean = 68.86 eur lo que indica que probablemente la cuenta tiene 2 titulares (1 seguro medico aprox. 40 eur/mes)\n",
    "q2 = 49.48 eur\n",
    "moda = 32.22 eur q no es un valor significativo\n",
    "\"\"\""
   ]
  },
  {
   "cell_type": "code",
   "execution_count": 264,
   "id": "30a8b59b",
   "metadata": {},
   "outputs": [
    {
     "data": {
      "image/png": "[encoded data removed]",
      "text/plain": [
       "<Figure size 432x288 with 1 Axes>"
      ]
     },
     "metadata": {
      "needs_background": "light"
     },
     "output_type": "display_data"
    }
   ],
   "source": [
    "pyplot.plot(transacciones_90_df)\n",
    "pyplot.show()"
   ]
  },
  {
   "cell_type": "code",
   "execution_count": 265,
   "id": "484fdf57",
   "metadata": {},
   "outputs": [
    {
     "data": {
      "text/plain": [
       "'\\nVemos que en la 1a mitad de la serie habia un asegurado y en la 2a mitad de la serie la cuota se dobla.\\nEl ultimo valor del seguro probablemente sea un reembolso o una cancelacion o una devolucion de un fianza al darse de baja en\\nel seguro lo mimso que en febrero/marzo de 2018 hay un pago de 200 eur que es un outlier que problemente sea una fianza al dar\\nde alta un nuevo titular en el seguro medico\\n'"
      ]
     },
     "execution_count": 265,
     "metadata": {},
     "output_type": "execute_result"
    }
   ],
   "source": [
    "\"\"\"\n",
    "Vemos que en la 1a mitad de la serie habia un asegurado y en la 2a mitad de la serie la cuota se dobla.\n",
    "El ultimo valor del seguro probablemente sea un reembolso o una cancelacion o una devolucion de un fianza al darse de baja en\n",
    "el seguro lo mimso que en febrero/marzo de 2018 hay un pago de 200 eur que es un outlier que problemente sea una fianza al dar\n",
    "de alta un nuevo titular en el seguro medico\n",
    "\"\"\""
   ]
  },
  {
   "cell_type": "code",
   "execution_count": 266,
   "id": "22f6f9fa",
   "metadata": {},
   "outputs": [],
   "source": [
    "# Time Series Data Visualization with Python\n",
    "# https://machinelearningmastery.com/time-series-data-visualization-with-python/"
   ]
  },
  {
   "cell_type": "code",
   "execution_count": 267,
   "id": "01f90dfe",
   "metadata": {},
   "outputs": [],
   "source": [
    "# 1. Time Series Line Plot"
   ]
  },
  {
   "cell_type": "code",
   "execution_count": 268,
   "id": "15da4cc8",
   "metadata": {},
   "outputs": [
    {
     "data": {
      "image/png": "[encoded data removed]",
      "text/plain": [
       "<Figure size 432x288 with 1 Axes>"
      ]
     },
     "metadata": {
      "needs_background": "light"
     },
     "output_type": "display_data"
    }
   ],
   "source": [
    "transacciones_90_df.plot()\n",
    "pyplot.show()"
   ]
  },
  {
   "cell_type": "code",
   "execution_count": 271,
   "id": "92e9ca18",
   "metadata": {},
   "outputs": [
    {
     "data": {
      "text/plain": [
       "'\\nVemos que en la 1a mitad de la serie habia un asegurado y en la 2a mitad de la serie la cuota se dobla.\\nEl ultimo valor del seguro probablemente sea un reembolso o una cancelacion o una devolucion de un fianza al darse de baja en\\nel seguro lo mismo que en febrero/marzo de 2018 hay un pago de 200 eur que es un outlier que problemente sea una fianza al dar\\nde alta un nuevo titular en el seguro medico.\\n'"
      ]
     },
     "execution_count": 271,
     "metadata": {},
     "output_type": "execute_result"
    }
   ],
   "source": [
    "\"\"\"\n",
    "Vemos que en la 1a mitad de la serie habia un asegurado y en la 2a mitad de la serie la cuota se dobla.\n",
    "El ultimo valor del seguro probablemente sea un reembolso o una cancelacion o una devolucion de un fianza al darse de baja en\n",
    "el seguro lo mismo que en febrero/marzo de 2018 hay un pago de 200 eur que es un outlier que problemente sea una fianza al dar\n",
    "de alta un nuevo titular en el seguro medico.\n",
    "\"\"\""
   ]
  },
  {
   "cell_type": "code",
   "execution_count": 272,
   "id": "b8996d40",
   "metadata": {},
   "outputs": [
    {
     "data": {
      "image/png": "[encoded data removed]",
      "text/plain": [
       "<Figure size 432x288 with 1 Axes>"
      ]
     },
     "metadata": {
      "needs_background": "light"
     },
     "output_type": "display_data"
    }
   ],
   "source": [
    "transacciones_90_df.plot(style='.')\n",
    "pyplot.show()"
   ]
  },
  {
   "cell_type": "code",
   "execution_count": 273,
   "id": "00a52942",
   "metadata": {},
   "outputs": [],
   "source": [
    "# TODO:\n",
    "# no hacemos plots por años comparando para 2017, 2018, 2019 que son los años enteros para los que tengo datos de momento\n",
    "# pq no aportarian gran cosa\n",
    "# vemos que la serie temporal tiene una tendencia plana sin estacionalidad que solo se ve alterada en 2018-01 por al adición\n",
    "# de un asegurado o el pago de una franquicia y en 2019-04 cuando hay un reembolso/cancelacion probablemente por la cancelación\n",
    "# del seguro"
   ]
  },
  {
   "cell_type": "code",
   "execution_count": 274,
   "id": "19ca9a18",
   "metadata": {},
   "outputs": [],
   "source": [
    "# 2. Time Series Histogram and Density Plots"
   ]
  },
  {
   "cell_type": "code",
   "execution_count": 275,
   "id": "0d47481a",
   "metadata": {},
   "outputs": [
    {
     "data": {
      "image/png": "[encoded data removed]",
      "text/plain": [
       "<Figure size 432x288 with 1 Axes>"
      ]
     },
     "metadata": {
      "needs_background": "light"
     },
     "output_type": "display_data"
    }
   ],
   "source": [
    "transacciones_90_df.hist()\n",
    "pyplot.show()"
   ]
  },
  {
   "cell_type": "code",
   "execution_count": 276,
   "id": "a6a2e590",
   "metadata": {},
   "outputs": [
    {
     "data": {
      "text/plain": [
       "'\\nEl histograma nos muestra claramente dos distribuciones.\\nuna con una media entre 0 y 50 eur para la 1a mitad de la serie temporal y otra con una media de 100 eur.\\nVemos dos outliers ya comentados anteriormente: uno de 200 eur y otro de -50 eur\\n'"
      ]
     },
     "execution_count": 276,
     "metadata": {},
     "output_type": "execute_result"
    }
   ],
   "source": [
    "\"\"\"\n",
    "El histograma nos muestra claramente dos distribuciones.\n",
    "una con una media entre 0 y 50 eur para la 1a mitad de la serie temporal y otra con una media de 100 eur.\n",
    "Vemos dos outliers ya comentados anteriormente: uno de 200 eur y otro de -50 eur\n",
    "\"\"\""
   ]
  },
  {
   "cell_type": "code",
   "execution_count": 277,
   "id": "2c0898bf",
   "metadata": {},
   "outputs": [
    {
     "data": {
      "text/html": [
       "<div>\n",
       "<style scoped>\n",
       "    .dataframe tbody tr th:only-of-type {\n",
       "        vertical-align: middle;\n",
       "    }\n",
       "\n",
       "    .dataframe tbody tr th {\n",
       "        vertical-align: top;\n",
       "    }\n",
       "\n",
       "    .dataframe thead th {\n",
       "        text-align: right;\n",
       "    }\n",
       "</style>\n",
       "<table border=\"1\" class=\"dataframe\">\n",
       "  <thead>\n",
       "    <tr style=\"text-align: right;\">\n",
       "      <th></th>\n",
       "      <th>IMPORTE</th>\n",
       "    </tr>\n",
       "  </thead>\n",
       "  <tbody>\n",
       "    <tr>\n",
       "      <th>count</th>\n",
       "      <td>33.000000</td>\n",
       "    </tr>\n",
       "    <tr>\n",
       "      <th>mean</th>\n",
       "      <td>68.868182</td>\n",
       "    </tr>\n",
       "    <tr>\n",
       "      <th>std</th>\n",
       "      <td>48.753197</td>\n",
       "    </tr>\n",
       "    <tr>\n",
       "      <th>min</th>\n",
       "      <td>-72.380000</td>\n",
       "    </tr>\n",
       "    <tr>\n",
       "      <th>25%</th>\n",
       "      <td>34.480000</td>\n",
       "    </tr>\n",
       "    <tr>\n",
       "      <th>50%</th>\n",
       "      <td>49.480000</td>\n",
       "    </tr>\n",
       "    <tr>\n",
       "      <th>75%</th>\n",
       "      <td>103.920000</td>\n",
       "    </tr>\n",
       "    <tr>\n",
       "      <th>max</th>\n",
       "      <td>201.750000</td>\n",
       "    </tr>\n",
       "  </tbody>\n",
       "</table>\n",
       "</div>"
      ],
      "text/plain": [
       "          IMPORTE\n",
       "count   33.000000\n",
       "mean    68.868182\n",
       "std     48.753197\n",
       "min    -72.380000\n",
       "25%     34.480000\n",
       "50%     49.480000\n",
       "75%    103.920000\n",
       "max    201.750000"
      ]
     },
     "execution_count": 277,
     "metadata": {},
     "output_type": "execute_result"
    }
   ],
   "source": [
    "transacciones_90_df.describe()"
   ]
  },
  {
   "cell_type": "code",
   "execution_count": 278,
   "id": "e234d299",
   "metadata": {},
   "outputs": [
    {
     "data": {
      "image/png": "[encoded data removed]",
      "text/plain": [
       "<Figure size 432x288 with 1 Axes>"
      ]
     },
     "metadata": {
      "needs_background": "light"
     },
     "output_type": "display_data"
    }
   ],
   "source": [
    "transacciones_90_df.plot(kind='kde')\n",
    "pyplot.show()"
   ]
  },
  {
   "cell_type": "code",
   "execution_count": 279,
   "id": "24781186",
   "metadata": {},
   "outputs": [
    {
     "data": {
      "text/plain": [
       "'\\nEl diagrama de densidad solo confirma, aunque de forma más suave y oculta, las conclusiones que ya hemos comentado al observar \\nel histograma de la distribución:\\n\\nEl histograma nos muestra claramente dos distribuciones.\\nuna con una media entre 0 y 50 eur para la 1a mitad de la serie temporal y otra con una media de 100 eur.\\nVemos dos outliers ya comentados anteriormente: uno de 200 eur y otro de -50 eur\\n'"
      ]
     },
     "execution_count": 279,
     "metadata": {},
     "output_type": "execute_result"
    }
   ],
   "source": [
    "\"\"\"\n",
    "El diagrama de densidad solo confirma, aunque de forma más suave y oculta, las conclusiones que ya hemos comentado al observar \n",
    "el histograma de la distribución:\n",
    "\n",
    "El histograma nos muestra claramente dos distribuciones.\n",
    "una con una media entre 0 y 50 eur para la 1a mitad de la serie temporal y otra con una media de 100 eur.\n",
    "Vemos dos outliers ya comentados anteriormente: uno de 200 eur y otro de -50 eur\n",
    "\"\"\""
   ]
  },
  {
   "cell_type": "code",
   "execution_count": 280,
   "id": "9a88ed73",
   "metadata": {},
   "outputs": [],
   "source": [
    "# 3. Time Series Box and Whisker Plots by Interval"
   ]
  },
  {
   "cell_type": "code",
   "execution_count": 281,
   "id": "f5a50f4e",
   "metadata": {},
   "outputs": [
    {
     "data": {
      "image/png": "[encoded data removed]",
      "text/plain": [
       "<Figure size 432x288 with 1 Axes>"
      ]
     },
     "metadata": {
      "needs_background": "light"
     },
     "output_type": "display_data"
    }
   ],
   "source": [
    "transacciones_90_df.boxplot()\n",
    "pyplot.show()"
   ]
  },
  {
   "cell_type": "code",
   "execution_count": 282,
   "id": "309023a8",
   "metadata": {},
   "outputs": [
    {
     "data": {
      "text/plain": [
       "'\\nEl boxplot confimar que la mediana esta en torno a q2 = 50 eur\\nq1 = 35 eur y q3 = 100 eur\\n\\nVemos que sólo esta considerado como outlier el ultimo valor de la serie de -72 eur\\n'"
      ]
     },
     "execution_count": 282,
     "metadata": {},
     "output_type": "execute_result"
    }
   ],
   "source": [
    "\"\"\"\n",
    "El boxplot confimar que la mediana esta en torno a q2 = 50 eur\n",
    "q1 = 35 eur y q3 = 100 eur\n",
    "\n",
    "Vemos que sólo esta considerado como outlier el ultimo valor de la serie de -72 eur\n",
    "\"\"\""
   ]
  },
  {
   "cell_type": "code",
   "execution_count": 283,
   "id": "54461718",
   "metadata": {},
   "outputs": [
    {
     "data": {
      "text/html": [
       "<div>\n",
       "<style scoped>\n",
       "    .dataframe tbody tr th:only-of-type {\n",
       "        vertical-align: middle;\n",
       "    }\n",
       "\n",
       "    .dataframe tbody tr th {\n",
       "        vertical-align: top;\n",
       "    }\n",
       "\n",
       "    .dataframe thead th {\n",
       "        text-align: right;\n",
       "    }\n",
       "</style>\n",
       "<table border=\"1\" class=\"dataframe\">\n",
       "  <thead>\n",
       "    <tr style=\"text-align: right;\">\n",
       "      <th></th>\n",
       "      <th>IMPORTE</th>\n",
       "    </tr>\n",
       "  </thead>\n",
       "  <tbody>\n",
       "    <tr>\n",
       "      <th>count</th>\n",
       "      <td>33.000000</td>\n",
       "    </tr>\n",
       "    <tr>\n",
       "      <th>mean</th>\n",
       "      <td>68.868182</td>\n",
       "    </tr>\n",
       "    <tr>\n",
       "      <th>std</th>\n",
       "      <td>48.753197</td>\n",
       "    </tr>\n",
       "    <tr>\n",
       "      <th>min</th>\n",
       "      <td>-72.380000</td>\n",
       "    </tr>\n",
       "    <tr>\n",
       "      <th>25%</th>\n",
       "      <td>34.480000</td>\n",
       "    </tr>\n",
       "    <tr>\n",
       "      <th>50%</th>\n",
       "      <td>49.480000</td>\n",
       "    </tr>\n",
       "    <tr>\n",
       "      <th>75%</th>\n",
       "      <td>103.920000</td>\n",
       "    </tr>\n",
       "    <tr>\n",
       "      <th>max</th>\n",
       "      <td>201.750000</td>\n",
       "    </tr>\n",
       "  </tbody>\n",
       "</table>\n",
       "</div>"
      ],
      "text/plain": [
       "          IMPORTE\n",
       "count   33.000000\n",
       "mean    68.868182\n",
       "std     48.753197\n",
       "min    -72.380000\n",
       "25%     34.480000\n",
       "50%     49.480000\n",
       "75%    103.920000\n",
       "max    201.750000"
      ]
     },
     "execution_count": 283,
     "metadata": {},
     "output_type": "execute_result"
    }
   ],
   "source": [
    "transacciones_90_df.describe()"
   ]
  },
  {
   "cell_type": "code",
   "execution_count": 284,
   "id": "d12cf500",
   "metadata": {},
   "outputs": [
    {
     "data": {
      "text/plain": [
       "'\\nserie interesante hacer un boxplot desde 2016-09-01 hasta 2019-03-01 y otro desde 2019-03-02 hasta el final de la serie en\\n2019-04-10\\n'"
      ]
     },
     "execution_count": 284,
     "metadata": {},
     "output_type": "execute_result"
    }
   ],
   "source": [
    "\"\"\"\n",
    "serie interesante hacer un boxplot desde 2016-09-01 hasta 2019-03-01 y otro desde 2019-03-02 hasta el final de la serie en\n",
    "2019-04-10\n",
    "\"\"\""
   ]
  },
  {
   "cell_type": "code",
   "execution_count": 285,
   "id": "2255ed70",
   "metadata": {},
   "outputs": [
    {
     "data": {
      "text/plain": [
       "array([ True,  True,  True,  True,  True,  True,  True,  True,  True,\n",
       "        True,  True,  True,  True,  True,  True,  True,  True,  True,\n",
       "       False, False, False, False, False, False, False, False, False,\n",
       "       False, False, False, False, False, False])"
      ]
     },
     "execution_count": 285,
     "metadata": {},
     "output_type": "execute_result"
    }
   ],
   "source": [
    "transacciones_90_df.index <= '2018-03-01'"
   ]
  },
  {
   "cell_type": "code",
   "execution_count": 286,
   "id": "52335912",
   "metadata": {},
   "outputs": [
    {
     "data": {
      "text/plain": [
       "array([ True,  True,  True,  True,  True,  True,  True,  True,  True,\n",
       "        True,  True,  True,  True,  True,  True,  True,  True,  True,\n",
       "       False, False, False, False, False, False, False, False, False,\n",
       "       False, False, False, False, False, False])"
      ]
     },
     "execution_count": 286,
     "metadata": {},
     "output_type": "execute_result"
    }
   ],
   "source": [
    "mask = transacciones_90_df.index <= '2018-03-01'\n",
    "mask"
   ]
  },
  {
   "cell_type": "code",
   "execution_count": 287,
   "id": "e71ea123",
   "metadata": {},
   "outputs": [
    {
     "data": {
      "text/plain": [
       "array([False, False, False, False, False, False, False, False, False,\n",
       "       False, False, False, False, False, False, False, False, False,\n",
       "        True,  True,  True,  True,  True,  True,  True,  True,  True,\n",
       "        True,  True,  True,  True,  True,  True])"
      ]
     },
     "execution_count": 287,
     "metadata": {},
     "output_type": "execute_result"
    }
   ],
   "source": [
    "logical_not(mask)"
   ]
  },
  {
   "cell_type": "code",
   "execution_count": 288,
   "id": "cd0bf18a",
   "metadata": {},
   "outputs": [],
   "source": [
    "transacciones_90_20180301_df = transacciones_90_df.loc[mask]"
   ]
  },
  {
   "cell_type": "code",
   "execution_count": 289,
   "id": "0dfdb602",
   "metadata": {},
   "outputs": [
    {
     "data": {
      "image/png": "[encoded data removed]",
      "text/plain": [
       "<Figure size 432x288 with 1 Axes>"
      ]
     },
     "metadata": {
      "needs_background": "light"
     },
     "output_type": "display_data"
    }
   ],
   "source": [
    "transacciones_90_20180301_df.boxplot()\n",
    "pyplot.show()"
   ]
  },
  {
   "cell_type": "code",
   "execution_count": 290,
   "id": "a2ab60ae",
   "metadata": {},
   "outputs": [
    {
     "data": {
      "text/html": [
       "<div>\n",
       "<style scoped>\n",
       "    .dataframe tbody tr th:only-of-type {\n",
       "        vertical-align: middle;\n",
       "    }\n",
       "\n",
       "    .dataframe tbody tr th {\n",
       "        vertical-align: top;\n",
       "    }\n",
       "\n",
       "    .dataframe thead th {\n",
       "        text-align: right;\n",
       "    }\n",
       "</style>\n",
       "<table border=\"1\" class=\"dataframe\">\n",
       "  <thead>\n",
       "    <tr style=\"text-align: right;\">\n",
       "      <th></th>\n",
       "      <th>IMPORTE</th>\n",
       "    </tr>\n",
       "  </thead>\n",
       "  <tbody>\n",
       "    <tr>\n",
       "      <th>count</th>\n",
       "      <td>18.000000</td>\n",
       "    </tr>\n",
       "    <tr>\n",
       "      <th>mean</th>\n",
       "      <td>40.857778</td>\n",
       "    </tr>\n",
       "    <tr>\n",
       "      <th>std</th>\n",
       "      <td>8.382646</td>\n",
       "    </tr>\n",
       "    <tr>\n",
       "      <th>min</th>\n",
       "      <td>32.220000</td>\n",
       "    </tr>\n",
       "    <tr>\n",
       "      <th>25%</th>\n",
       "      <td>32.785000</td>\n",
       "    </tr>\n",
       "    <tr>\n",
       "      <th>50%</th>\n",
       "      <td>40.850000</td>\n",
       "    </tr>\n",
       "    <tr>\n",
       "      <th>75%</th>\n",
       "      <td>46.535000</td>\n",
       "    </tr>\n",
       "    <tr>\n",
       "      <th>max</th>\n",
       "      <td>60.100000</td>\n",
       "    </tr>\n",
       "  </tbody>\n",
       "</table>\n",
       "</div>"
      ],
      "text/plain": [
       "         IMPORTE\n",
       "count  18.000000\n",
       "mean   40.857778\n",
       "std     8.382646\n",
       "min    32.220000\n",
       "25%    32.785000\n",
       "50%    40.850000\n",
       "75%    46.535000\n",
       "max    60.100000"
      ]
     },
     "execution_count": 290,
     "metadata": {},
     "output_type": "execute_result"
    }
   ],
   "source": [
    "transacciones_90_20180301_df.describe()"
   ]
  },
  {
   "cell_type": "code",
   "execution_count": 291,
   "id": "df40c364",
   "metadata": {},
   "outputs": [
    {
     "data": {
      "text/plain": [
       "'\\nse ve una diferencia muy clara entre los parametros de las dos distribuciones.\\nVemos que ambas distribuciones estan muy agrupadas y la 2a mas que la primera\\n'"
      ]
     },
     "execution_count": 291,
     "metadata": {},
     "output_type": "execute_result"
    }
   ],
   "source": [
    "\"\"\"\n",
    "se ve una diferencia muy clara entre los parametros de las dos distribuciones.\n",
    "Vemos que ambas distribuciones estan muy agrupadas y la 2a mas que la primera\n",
    "\"\"\""
   ]
  },
  {
   "cell_type": "code",
   "execution_count": 292,
   "id": "6091ca7c",
   "metadata": {},
   "outputs": [],
   "source": [
    "transacciones_90_after20180301_df  = transacciones_90_df.loc[logical_not(mask)]"
   ]
  },
  {
   "cell_type": "code",
   "execution_count": 293,
   "id": "8650f46b",
   "metadata": {},
   "outputs": [
    {
     "data": {
      "image/png": "[encoded data removed]",
      "text/plain": [
       "<Figure size 432x288 with 1 Axes>"
      ]
     },
     "metadata": {
      "needs_background": "light"
     },
     "output_type": "display_data"
    }
   ],
   "source": [
    "transacciones_90_after20180301_df.boxplot()\n",
    "pyplot.show()"
   ]
  },
  {
   "cell_type": "code",
   "execution_count": 294,
   "id": "b8013630",
   "metadata": {},
   "outputs": [
    {
     "data": {
      "text/html": [
       "<div>\n",
       "<style scoped>\n",
       "    .dataframe tbody tr th:only-of-type {\n",
       "        vertical-align: middle;\n",
       "    }\n",
       "\n",
       "    .dataframe tbody tr th {\n",
       "        vertical-align: top;\n",
       "    }\n",
       "\n",
       "    .dataframe thead th {\n",
       "        text-align: right;\n",
       "    }\n",
       "</style>\n",
       "<table border=\"1\" class=\"dataframe\">\n",
       "  <thead>\n",
       "    <tr style=\"text-align: right;\">\n",
       "      <th></th>\n",
       "      <th>IMPORTE</th>\n",
       "    </tr>\n",
       "  </thead>\n",
       "  <tbody>\n",
       "    <tr>\n",
       "      <th>count</th>\n",
       "      <td>15.000000</td>\n",
       "    </tr>\n",
       "    <tr>\n",
       "      <th>mean</th>\n",
       "      <td>102.480667</td>\n",
       "    </tr>\n",
       "    <tr>\n",
       "      <th>std</th>\n",
       "      <td>55.931036</td>\n",
       "    </tr>\n",
       "    <tr>\n",
       "      <th>min</th>\n",
       "      <td>-72.380000</td>\n",
       "    </tr>\n",
       "    <tr>\n",
       "      <th>25%</th>\n",
       "      <td>103.920000</td>\n",
       "    </tr>\n",
       "    <tr>\n",
       "      <th>50%</th>\n",
       "      <td>104.590000</td>\n",
       "    </tr>\n",
       "    <tr>\n",
       "      <th>75%</th>\n",
       "      <td>114.185000</td>\n",
       "    </tr>\n",
       "    <tr>\n",
       "      <th>max</th>\n",
       "      <td>201.750000</td>\n",
       "    </tr>\n",
       "  </tbody>\n",
       "</table>\n",
       "</div>"
      ],
      "text/plain": [
       "          IMPORTE\n",
       "count   15.000000\n",
       "mean   102.480667\n",
       "std     55.931036\n",
       "min    -72.380000\n",
       "25%    103.920000\n",
       "50%    104.590000\n",
       "75%    114.185000\n",
       "max    201.750000"
      ]
     },
     "execution_count": 294,
     "metadata": {},
     "output_type": "execute_result"
    }
   ],
   "source": [
    "transacciones_90_after20180301_df.describe()"
   ]
  },
  {
   "cell_type": "code",
   "execution_count": 295,
   "id": "0f98fe2e",
   "metadata": {},
   "outputs": [],
   "source": [
    "# TODO:\n",
    "# no hacemos plots por años comparando para 2017, 2018, 2019 que son los años enteros (ni por meses dentro de cada año) \n",
    "# para los que tengo datos de momento pq no aportarian gran cosa.\n",
    "# vemos que la serie temporal tiene una tendencia plana sin estacionalidad que solo se ve alterada en 2018-01 por al adición\n",
    "# de un asegurado o el pago de una franquicia y en 2019-04 cuando hay un reembolso/cancelacion probablemente por la cancelación\n",
    "# del seguro"
   ]
  },
  {
   "cell_type": "code",
   "execution_count": 296,
   "id": "12c30cf0",
   "metadata": {},
   "outputs": [],
   "source": [
    "# 4. Time Series Heat Maps"
   ]
  },
  {
   "cell_type": "code",
   "execution_count": 297,
   "id": "1678ae5e",
   "metadata": {},
   "outputs": [
    {
     "data": {
      "image/png": "[encoded data removed]",
      "text/plain": [
       "<Figure size 1152x144 with 1 Axes>"
      ]
     },
     "metadata": {
      "needs_background": "light"
     },
     "output_type": "display_data"
    }
   ],
   "source": [
    "pyplot.matshow(transacciones_90_df.T, interpolation=None, aspect='auto')\n",
    "pyplot.show()"
   ]
  },
  {
   "cell_type": "code",
   "execution_count": 298,
   "id": "05c9607e",
   "metadata": {},
   "outputs": [
    {
     "data": {
      "text/plain": [
       "'\\nEl heatmap nos vuelve a confirmar que hay dos distribuciones.\\nUna hasta el 2018-03-01 y otra despues con un outlier positivo el 2018-03-14 y otro negativo en el ultimo valor de la serie\\n'"
      ]
     },
     "execution_count": 298,
     "metadata": {},
     "output_type": "execute_result"
    }
   ],
   "source": [
    "\"\"\"\n",
    "El heatmap nos vuelve a confirmar que hay dos distribuciones.\n",
    "Una hasta el 2018-03-01 y otra despues con un outlier positivo el 2018-03-14 y otro negativo en el ultimo valor de la serie\n",
    "\"\"\""
   ]
  },
  {
   "cell_type": "code",
   "execution_count": 299,
   "id": "cf7d1030",
   "metadata": {},
   "outputs": [],
   "source": [
    "# 5. Time Series Lag Scatter Plots"
   ]
  },
  {
   "cell_type": "code",
   "execution_count": 300,
   "id": "acd19b0f",
   "metadata": {},
   "outputs": [
    {
     "data": {
      "image/png": "[encoded data removed]",
      "text/plain": [
       "<Figure size 432x288 with 1 Axes>"
      ]
     },
     "metadata": {
      "needs_background": "light"
     },
     "output_type": "display_data"
    }
   ],
   "source": [
    "lag_plot(transacciones_90_df)\n",
    "pyplot.show()"
   ]
  },
  {
   "cell_type": "code",
   "execution_count": 301,
   "id": "72c9ff6c",
   "metadata": {},
   "outputs": [
    {
     "data": {
      "text/plain": [
       "'\\nno hay apenas correlacion entre y(t+1) e y(t)\\n'"
      ]
     },
     "execution_count": 301,
     "metadata": {},
     "output_type": "execute_result"
    }
   ],
   "source": [
    "\"\"\"\n",
    "no hay apenas correlacion entre y(t+1) e y(t)\n",
    "\"\"\""
   ]
  },
  {
   "cell_type": "code",
   "execution_count": 302,
   "id": "02fa1dfd",
   "metadata": {},
   "outputs": [
    {
     "data": {
      "text/plain": [
       "(33, 1)"
      ]
     },
     "execution_count": 302,
     "metadata": {},
     "output_type": "execute_result"
    }
   ],
   "source": [
    "transacciones_90_df.shape"
   ]
  },
  {
   "cell_type": "code",
   "execution_count": 303,
   "id": "0b7395e5",
   "metadata": {},
   "outputs": [
    {
     "data": {
      "text/plain": [
       "33"
      ]
     },
     "execution_count": 303,
     "metadata": {},
     "output_type": "execute_result"
    }
   ],
   "source": [
    "transacciones_90_df.size"
   ]
  },
  {
   "cell_type": "code",
   "execution_count": 304,
   "id": "720f100b",
   "metadata": {},
   "outputs": [],
   "source": [
    "# vemos la correlacion entre y(t+1) y todos sus lags anteriores (33)"
   ]
  },
  {
   "cell_type": "code",
   "execution_count": 306,
   "id": "dfc80c67",
   "metadata": {
    "scrolled": true
   },
   "outputs": [
    {
     "name": "stdout",
     "output_type": "stream",
     "text": [
      "t+1 vs t-1\n"
     ]
    },
    {
     "data": {
      "image/png": "[encoded data removed]",
      "text/plain": [
       "<Figure size 432x288 with 1 Axes>"
      ]
     },
     "metadata": {
      "needs_background": "light"
     },
     "output_type": "display_data"
    },
    {
     "name": "stdout",
     "output_type": "stream",
     "text": [
      "t+1 vs t-2\n"
     ]
    },
    {
     "data": {
      "image/png": "[encoded data removed]",
      "text/plain": [
       "<Figure size 432x288 with 1 Axes>"
      ]
     },
     "metadata": {
      "needs_background": "light"
     },
     "output_type": "display_data"
    },
    {
     "name": "stdout",
     "output_type": "stream",
     "text": [
      "t+1 vs t-3\n"
     ]
    },
    {
     "data": {
      "image/png": "[encoded data removed]",
      "text/plain": [
       "<Figure size 432x288 with 1 Axes>"
      ]
     },
     "metadata": {
      "needs_background": "light"
     },
     "output_type": "display_data"
    },
    {
     "name": "stdout",
     "output_type": "stream",
     "text": [
      "t+1 vs t-4\n"
     ]
    },
    {
     "data": {
      "image/png": "[encoded data removed]",
      "text/plain": [
       "<Figure size 432x288 with 1 Axes>"
      ]
     },
     "metadata": {
      "needs_background": "light"
     },
     "output_type": "display_data"
    },
    {
     "name": "stdout",
     "output_type": "stream",
     "text": [
      "t+1 vs t-5\n"
     ]
    },
    {
     "data": {
      "image/png": "[encoded data removed]",
      "text/plain": [
       "<Figure size 432x288 with 1 Axes>"
      ]
     },
     "metadata": {
      "needs_background": "light"
     },
     "output_type": "display_data"
    },
    {
     "name": "stdout",
     "output_type": "stream",
     "text": [
      "t+1 vs t-6\n"
     ]
    },
    {
     "data": {
      "image/png": "[encoded data removed]",
      "text/plain": [
       "<Figure size 432x288 with 1 Axes>"
      ]
     },
     "metadata": {
      "needs_background": "light"
     },
     "output_type": "display_data"
    },
    {
     "name": "stdout",
     "output_type": "stream",
     "text": [
      "t+1 vs t-7\n"
     ]
    },
    {
     "data": {
      "image/png": "[encoded data removed]",
      "text/plain": [
       "<Figure size 432x288 with 1 Axes>"
      ]
     },
     "metadata": {
      "needs_background": "light"
     },
     "output_type": "display_data"
    },
    {
     "name": "stdout",
     "output_type": "stream",
     "text": [
      "t+1 vs t-8\n"
     ]
    },
    {
     "data": {
      "image/png": "[encoded data removed]",
      "text/plain": [
       "<Figure size 432x288 with 1 Axes>"
      ]
     },
     "metadata": {
      "needs_background": "light"
     },
     "output_type": "display_data"
    },
    {
     "name": "stdout",
     "output_type": "stream",
     "text": [
      "t+1 vs t-9\n"
     ]
    },
    {
     "data": {
      "image/png": "[encoded data removed]",
      "text/plain": [
       "<Figure size 432x288 with 1 Axes>"
      ]
     },
     "metadata": {
      "needs_background": "light"
     },
     "output_type": "display_data"
    },
    {
     "name": "stdout",
     "output_type": "stream",
     "text": [
      "t+1 vs t-10\n"
     ]
    },
    {
     "data": {
      "image/png": "[encoded data removed]",
      "text/plain": [
       "<Figure size 432x288 with 1 Axes>"
      ]
     },
     "metadata": {
      "needs_background": "light"
     },
     "output_type": "display_data"
    },
    {
     "name": "stdout",
     "output_type": "stream",
     "text": [
      "t+1 vs t-11\n"
     ]
    },
    {
     "data": {
      "image/png": "[encoded data removed]",
      "text/plain": [
       "<Figure size 432x288 with 1 Axes>"
      ]
     },
     "metadata": {
      "needs_background": "light"
     },
     "output_type": "display_data"
    },
    {
     "name": "stdout",
     "output_type": "stream",
     "text": [
      "t+1 vs t-12\n"
     ]
    },
    {
     "data": {
      "image/png": "[encoded data removed]",
      "text/plain": [
       "<Figure size 432x288 with 1 Axes>"
      ]
     },
     "metadata": {
      "needs_background": "light"
     },
     "output_type": "display_data"
    },
    {
     "name": "stdout",
     "output_type": "stream",
     "text": [
      "t+1 vs t-13\n"
     ]
    },
    {
     "data": {
      "image/png": "[encoded data removed]",
      "text/plain": [
       "<Figure size 432x288 with 1 Axes>"
      ]
     },
     "metadata": {
      "needs_background": "light"
     },
     "output_type": "display_data"
    },
    {
     "name": "stdout",
     "output_type": "stream",
     "text": [
      "t+1 vs t-14\n"
     ]
    },
    {
     "data": {
      "image/png": "[encoded data removed]",
      "text/plain": [
       "<Figure size 432x288 with 1 Axes>"
      ]
     },
     "metadata": {
      "needs_background": "light"
     },
     "output_type": "display_data"
    },
    {
     "name": "stdout",
     "output_type": "stream",
     "text": [
      "t+1 vs t-15\n"
     ]
    },
    {
     "data": {
      "image/png": "[encoded data removed]",
      "text/plain": [
       "<Figure size 432x288 with 1 Axes>"
      ]
     },
     "metadata": {
      "needs_background": "light"
     },
     "output_type": "display_data"
    },
    {
     "name": "stdout",
     "output_type": "stream",
     "text": [
      "t+1 vs t-16\n"
     ]
    },
    {
     "data": {
      "image/png": "[encoded data removed]",
      "text/plain": [
       "<Figure size 432x288 with 1 Axes>"
      ]
     },
     "metadata": {
      "needs_background": "light"
     },
     "output_type": "display_data"
    },
    {
     "name": "stdout",
     "output_type": "stream",
     "text": [
      "t+1 vs t-17\n"
     ]
    },
    {
     "data": {
      "image/png": "[encoded data removed]",
      "text/plain": [
       "<Figure size 432x288 with 1 Axes>"
      ]
     },
     "metadata": {
      "needs_background": "light"
     },
     "output_type": "display_data"
    },
    {
     "name": "stdout",
     "output_type": "stream",
     "text": [
      "t+1 vs t-18\n"
     ]
    },
    {
     "data": {
      "image/png": "[encoded data removed]",
      "text/plain": [
       "<Figure size 432x288 with 1 Axes>"
      ]
     },
     "metadata": {
      "needs_background": "light"
     },
     "output_type": "display_data"
    },
    {
     "name": "stdout",
     "output_type": "stream",
     "text": [
      "t+1 vs t-19\n"
     ]
    },
    {
     "data": {
      "image/png": "[encoded data removed]",
      "text/plain": [
       "<Figure size 432x288 with 1 Axes>"
      ]
     },
     "metadata": {
      "needs_background": "light"
     },
     "output_type": "display_data"
    },
    {
     "name": "stdout",
     "output_type": "stream",
     "text": [
      "t+1 vs t-20\n"
     ]
    },
    {
     "data": {
      "image/png": "[encoded data removed]",
      "text/plain": [
       "<Figure size 432x288 with 1 Axes>"
      ]
     },
     "metadata": {
      "needs_background": "light"
     },
     "output_type": "display_data"
    },
    {
     "name": "stdout",
     "output_type": "stream",
     "text": [
      "t+1 vs t-21\n"
     ]
    },
    {
     "data": {
      "image/png": "[encoded data removed]",
      "text/plain": [
       "<Figure size 432x288 with 1 Axes>"
      ]
     },
     "metadata": {
      "needs_background": "light"
     },
     "output_type": "display_data"
    },
    {
     "name": "stdout",
     "output_type": "stream",
     "text": [
      "t+1 vs t-22\n"
     ]
    },
    {
     "data": {
      "image/png": "[encoded data removed]",
      "text/plain": [
       "<Figure size 432x288 with 1 Axes>"
      ]
     },
     "metadata": {
      "needs_background": "light"
     },
     "output_type": "display_data"
    },
    {
     "name": "stdout",
     "output_type": "stream",
     "text": [
      "t+1 vs t-23\n"
     ]
    },
    {
     "data": {
      "image/png": "[encoded data removed]",
      "text/plain": [
       "<Figure size 432x288 with 1 Axes>"
      ]
     },
     "metadata": {
      "needs_background": "light"
     },
     "output_type": "display_data"
    },
    {
     "name": "stdout",
     "output_type": "stream",
     "text": [
      "t+1 vs t-24\n"
     ]
    },
    {
     "data": {
      "image/png": "[encoded data removed]",
      "text/plain": [
       "<Figure size 432x288 with 1 Axes>"
      ]
     },
     "metadata": {
      "needs_background": "light"
     },
     "output_type": "display_data"
    },
    {
     "name": "stdout",
     "output_type": "stream",
     "text": [
      "t+1 vs t-25\n"
     ]
    },
    {
     "data": {
      "image/png": "[encoded data removed]",
      "text/plain": [
       "<Figure size 432x288 with 1 Axes>"
      ]
     },
     "metadata": {
      "needs_background": "light"
     },
     "output_type": "display_data"
    },
    {
     "name": "stdout",
     "output_type": "stream",
     "text": [
      "t+1 vs t-26\n"
     ]
    },
    {
     "data": {
      "image/png": "[encoded data removed]",
      "text/plain": [
       "<Figure size 432x288 with 1 Axes>"
      ]
     },
     "metadata": {
      "needs_background": "light"
     },
     "output_type": "display_data"
    },
    {
     "name": "stdout",
     "output_type": "stream",
     "text": [
      "t+1 vs t-27\n"
     ]
    },
    {
     "data": {
      "image/png": "[encoded data removed]",
      "text/plain": [
       "<Figure size 432x288 with 1 Axes>"
      ]
     },
     "metadata": {
      "needs_background": "light"
     },
     "output_type": "display_data"
    },
    {
     "name": "stdout",
     "output_type": "stream",
     "text": [
      "t+1 vs t-28\n"
     ]
    },
    {
     "data": {
      "image/png": "[encoded data removed]",
      "text/plain": [
       "<Figure size 432x288 with 1 Axes>"
      ]
     },
     "metadata": {
      "needs_background": "light"
     },
     "output_type": "display_data"
    },
    {
     "name": "stdout",
     "output_type": "stream",
     "text": [
      "t+1 vs t-29\n"
     ]
    },
    {
     "data": {
      "image/png": "[encoded data removed]",
      "text/plain": [
       "<Figure size 432x288 with 1 Axes>"
      ]
     },
     "metadata": {
      "needs_background": "light"
     },
     "output_type": "display_data"
    },
    {
     "name": "stdout",
     "output_type": "stream",
     "text": [
      "t+1 vs t-30\n"
     ]
    },
    {
     "data": {
      "image/png": "[encoded data removed]",
      "text/plain": [
       "<Figure size 432x288 with 1 Axes>"
      ]
     },
     "metadata": {
      "needs_background": "light"
     },
     "output_type": "display_data"
    },
    {
     "name": "stdout",
     "output_type": "stream",
     "text": [
      "t+1 vs t-31\n"
     ]
    },
    {
     "data": {
      "image/png": "[encoded data removed]",
      "text/plain": [
       "<Figure size 432x288 with 1 Axes>"
      ]
     },
     "metadata": {
      "needs_background": "light"
     },
     "output_type": "display_data"
    },
    {
     "name": "stdout",
     "output_type": "stream",
     "text": [
      "t+1 vs t-32\n"
     ]
    },
    {
     "data": {
      "image/png": "[encoded data removed]",
      "text/plain": [
       "<Figure size 432x288 with 1 Axes>"
      ]
     },
     "metadata": {
      "needs_background": "light"
     },
     "output_type": "display_data"
    },
    {
     "name": "stdout",
     "output_type": "stream",
     "text": [
      "t+1 vs t-33\n"
     ]
    },
    {
     "data": {
      "image/png": "[encoded data removed]",
      "text/plain": [
       "<Figure size 432x288 with 1 Axes>"
      ]
     },
     "metadata": {
      "needs_background": "light"
     },
     "output_type": "display_data"
    }
   ],
   "source": [
    "values = DataFrame(transacciones_90_df.values)\n",
    "lags = transacciones_90_df.size\n",
    "columns = [values]\n",
    "for i in range(1,(lags + 1)):\n",
    "\tcolumns.append(values.shift(i))\n",
    "dataframe = concat(columns, axis=1)\n",
    "columns = ['t+1']\n",
    "for i in range(1,(lags + 1)):\n",
    "\tcolumns.append('t-' + str(i))\n",
    "dataframe.columns = columns\n",
    "for i in range(1,(lags + 1)):\n",
    "\tprint('t+1 vs t-' + str(i))\n",
    "\tpyplot.scatter(x=dataframe['t+1'].values, y=dataframe['t-'+str(i)].values)\n",
    "\tpyplot.show()"
   ]
  },
  {
   "cell_type": "code",
   "execution_count": 307,
   "id": "95c1ccd2",
   "metadata": {},
   "outputs": [
    {
     "data": {
      "text/plain": [
       "'\\nVemos que hay una debil correlacion entre y(t+1) y algunos de sus lags anteriores.\\nHay serias dudas de que esta serie temporal sea modelizable.\\n\\nConfirmemos esta intuicion con el plot de autocorrelacion\\n'"
      ]
     },
     "execution_count": 307,
     "metadata": {},
     "output_type": "execute_result"
    }
   ],
   "source": [
    "\"\"\"\n",
    "Vemos que hay una debil correlacion entre y(t+1) y algunos de sus lags anteriores.\n",
    "Hay serias dudas de que esta serie temporal sea modelizable.\n",
    "\n",
    "Confirmemos esta intuicion con el plot de autocorrelacion\n",
    "\"\"\""
   ]
  },
  {
   "cell_type": "code",
   "execution_count": 308,
   "id": "a92bc344",
   "metadata": {},
   "outputs": [],
   "source": [
    "# 6. Time Series Autocorrelation Plots"
   ]
  },
  {
   "cell_type": "code",
   "execution_count": 309,
   "id": "d4a8b88f",
   "metadata": {},
   "outputs": [
    {
     "data": {
      "image/png": "[encoded data removed]",
      "text/plain": [
       "<Figure size 432x288 with 1 Axes>"
      ]
     },
     "metadata": {
      "needs_background": "light"
     },
     "output_type": "display_data"
    }
   ],
   "source": [
    "autocorrelation_plot(transacciones_90_df)\n",
    "pyplot.show()"
   ]
  },
  {
   "cell_type": "code",
   "execution_count": 310,
   "id": "3fbd25ce",
   "metadata": {},
   "outputs": [
    {
     "data": {
      "text/plain": [
       "'\\nNo hay correlacion estadisticamente significativa (fuera de la linea de puntos) entre y(t+1) y ninguno de sus lags anteriores.\\nEsta serie temporal no es modelizable.\\nQuiza para precedir siguiente valor habría que utlizar la mediana (o mejor la media) de las ultimas 12 observaciones.\\nO la media de los ultimos 2-3 recibos.\\n'"
      ]
     },
     "execution_count": 310,
     "metadata": {},
     "output_type": "execute_result"
    }
   ],
   "source": [
    "\"\"\"\n",
    "No hay correlacion estadisticamente significativa (fuera de la linea de puntos) entre y(t+1) y ninguno de sus lags anteriores.\n",
    "Esta serie temporal no es modelizable.\n",
    "Quiza para precedir siguiente valor habría que utlizar la mediana (o mejor la media) de las ultimas 12 observaciones.\n",
    "O la media de los ultimos 2-3 recibos.\n",
    "\"\"\""
   ]
  },
  {
   "cell_type": "code",
   "execution_count": null,
   "id": "7ffb8279",
   "metadata": {},
   "outputs": [],
   "source": []
  },
  {
   "cell_type": "code",
   "execution_count": null,
   "id": "71ba0398",
   "metadata": {},
   "outputs": [],
   "source": []
  },
  {
   "cell_type": "code",
   "execution_count": null,
   "id": "ac88bf12",
   "metadata": {},
   "outputs": [],
   "source": []
  },
  {
   "cell_type": "code",
   "execution_count": null,
   "id": "51baebf3",
   "metadata": {},
   "outputs": [],
   "source": []
  },
  {
   "cell_type": "code",
   "execution_count": null,
   "id": "2412fd42",
   "metadata": {},
   "outputs": [],
   "source": []
  },
  {
   "cell_type": "code",
   "execution_count": null,
   "id": "6834d1b9",
   "metadata": {},
   "outputs": [],
   "source": []
  },
  {
   "cell_type": "code",
   "execution_count": null,
   "id": "529ab108",
   "metadata": {},
   "outputs": [],
   "source": []
  },
  {
   "cell_type": "code",
   "execution_count": null,
   "id": "ac9ba319",
   "metadata": {},
   "outputs": [],
   "source": []
  },
  {
   "cell_type": "code",
   "execution_count": null,
   "id": "4c6973e2",
   "metadata": {},
   "outputs": [],
   "source": []
  },
  {
   "cell_type": "code",
   "execution_count": null,
   "id": "cc0e6235",
   "metadata": {},
   "outputs": [],
   "source": []
  },
  {
   "cell_type": "code",
   "execution_count": 311,
   "id": "3c6a6ced",
   "metadata": {},
   "outputs": [],
   "source": [
    "# A continuacion vamos a estudiar la distribucion estadistica del dia de pago del seguro medico"
   ]
  },
  {
   "cell_type": "code",
   "execution_count": 312,
   "id": "0c3116f8",
   "metadata": {},
   "outputs": [
    {
     "data": {
      "text/html": [
       "<div>\n",
       "<style scoped>\n",
       "    .dataframe tbody tr th:only-of-type {\n",
       "        vertical-align: middle;\n",
       "    }\n",
       "\n",
       "    .dataframe tbody tr th {\n",
       "        vertical-align: top;\n",
       "    }\n",
       "\n",
       "    .dataframe thead th {\n",
       "        text-align: right;\n",
       "    }\n",
       "</style>\n",
       "<table border=\"1\" class=\"dataframe\">\n",
       "  <thead>\n",
       "    <tr style=\"text-align: right;\">\n",
       "      <th></th>\n",
       "      <th>IMPORTE</th>\n",
       "    </tr>\n",
       "    <tr>\n",
       "      <th>FECHA</th>\n",
       "      <th></th>\n",
       "    </tr>\n",
       "  </thead>\n",
       "  <tbody>\n",
       "    <tr>\n",
       "      <th>2016-09-01</th>\n",
       "      <td>32.22</td>\n",
       "    </tr>\n",
       "    <tr>\n",
       "      <th>2016-10-03</th>\n",
       "      <td>37.22</td>\n",
       "    </tr>\n",
       "    <tr>\n",
       "      <th>2016-11-02</th>\n",
       "      <td>32.22</td>\n",
       "    </tr>\n",
       "    <tr>\n",
       "      <th>2016-12-01</th>\n",
       "      <td>32.22</td>\n",
       "    </tr>\n",
       "    <tr>\n",
       "      <th>2017-01-02</th>\n",
       "      <td>47.22</td>\n",
       "    </tr>\n",
       "    <tr>\n",
       "      <th>2017-02-01</th>\n",
       "      <td>32.22</td>\n",
       "    </tr>\n",
       "    <tr>\n",
       "      <th>2017-03-01</th>\n",
       "      <td>32.22</td>\n",
       "    </tr>\n",
       "    <tr>\n",
       "      <th>2017-04-03</th>\n",
       "      <td>60.10</td>\n",
       "    </tr>\n",
       "    <tr>\n",
       "      <th>2017-05-03</th>\n",
       "      <td>34.48</td>\n",
       "    </tr>\n",
       "    <tr>\n",
       "      <th>2017-06-01</th>\n",
       "      <td>34.48</td>\n",
       "    </tr>\n",
       "    <tr>\n",
       "      <th>2017-07-03</th>\n",
       "      <td>44.48</td>\n",
       "    </tr>\n",
       "    <tr>\n",
       "      <th>2017-08-01</th>\n",
       "      <td>34.48</td>\n",
       "    </tr>\n",
       "    <tr>\n",
       "      <th>2017-09-01</th>\n",
       "      <td>44.48</td>\n",
       "    </tr>\n",
       "    <tr>\n",
       "      <th>2017-10-02</th>\n",
       "      <td>44.48</td>\n",
       "    </tr>\n",
       "    <tr>\n",
       "      <th>2017-11-02</th>\n",
       "      <td>44.48</td>\n",
       "    </tr>\n",
       "    <tr>\n",
       "      <th>2017-12-01</th>\n",
       "      <td>49.48</td>\n",
       "    </tr>\n",
       "    <tr>\n",
       "      <th>2018-02-01</th>\n",
       "      <td>49.48</td>\n",
       "    </tr>\n",
       "    <tr>\n",
       "      <th>2018-03-01</th>\n",
       "      <td>49.48</td>\n",
       "    </tr>\n",
       "    <tr>\n",
       "      <th>2018-03-14</th>\n",
       "      <td>201.75</td>\n",
       "    </tr>\n",
       "    <tr>\n",
       "      <th>2018-04-03</th>\n",
       "      <td>104.59</td>\n",
       "    </tr>\n",
       "    <tr>\n",
       "      <th>2018-05-03</th>\n",
       "      <td>103.92</td>\n",
       "    </tr>\n",
       "    <tr>\n",
       "      <th>2018-06-01</th>\n",
       "      <td>128.92</td>\n",
       "    </tr>\n",
       "    <tr>\n",
       "      <th>2018-07-02</th>\n",
       "      <td>113.92</td>\n",
       "    </tr>\n",
       "    <tr>\n",
       "      <th>2018-08-01</th>\n",
       "      <td>103.92</td>\n",
       "    </tr>\n",
       "    <tr>\n",
       "      <th>2018-09-03</th>\n",
       "      <td>103.92</td>\n",
       "    </tr>\n",
       "    <tr>\n",
       "      <th>2018-10-01</th>\n",
       "      <td>103.92</td>\n",
       "    </tr>\n",
       "    <tr>\n",
       "      <th>2018-11-02</th>\n",
       "      <td>103.92</td>\n",
       "    </tr>\n",
       "    <tr>\n",
       "      <th>2018-12-03</th>\n",
       "      <td>138.92</td>\n",
       "    </tr>\n",
       "    <tr>\n",
       "      <th>2019-01-02</th>\n",
       "      <td>114.45</td>\n",
       "    </tr>\n",
       "    <tr>\n",
       "      <th>2019-02-01</th>\n",
       "      <td>108.17</td>\n",
       "    </tr>\n",
       "    <tr>\n",
       "      <th>2019-02-14</th>\n",
       "      <td>71.10</td>\n",
       "    </tr>\n",
       "    <tr>\n",
       "      <th>2019-03-01</th>\n",
       "      <td>108.17</td>\n",
       "    </tr>\n",
       "    <tr>\n",
       "      <th>2019-04-10</th>\n",
       "      <td>-72.38</td>\n",
       "    </tr>\n",
       "  </tbody>\n",
       "</table>\n",
       "</div>"
      ],
      "text/plain": [
       "            IMPORTE\n",
       "FECHA              \n",
       "2016-09-01    32.22\n",
       "2016-10-03    37.22\n",
       "2016-11-02    32.22\n",
       "2016-12-01    32.22\n",
       "2017-01-02    47.22\n",
       "2017-02-01    32.22\n",
       "2017-03-01    32.22\n",
       "2017-04-03    60.10\n",
       "2017-05-03    34.48\n",
       "2017-06-01    34.48\n",
       "2017-07-03    44.48\n",
       "2017-08-01    34.48\n",
       "2017-09-01    44.48\n",
       "2017-10-02    44.48\n",
       "2017-11-02    44.48\n",
       "2017-12-01    49.48\n",
       "2018-02-01    49.48\n",
       "2018-03-01    49.48\n",
       "2018-03-14   201.75\n",
       "2018-04-03   104.59\n",
       "2018-05-03   103.92\n",
       "2018-06-01   128.92\n",
       "2018-07-02   113.92\n",
       "2018-08-01   103.92\n",
       "2018-09-03   103.92\n",
       "2018-10-01   103.92\n",
       "2018-11-02   103.92\n",
       "2018-12-03   138.92\n",
       "2019-01-02   114.45\n",
       "2019-02-01   108.17\n",
       "2019-02-14    71.10\n",
       "2019-03-01   108.17\n",
       "2019-04-10   -72.38"
      ]
     },
     "execution_count": 312,
     "metadata": {},
     "output_type": "execute_result"
    }
   ],
   "source": [
    "transacciones_90_df"
   ]
  },
  {
   "cell_type": "code",
   "execution_count": 313,
   "id": "611be9ec",
   "metadata": {},
   "outputs": [
    {
     "data": {
      "text/html": [
       "<div>\n",
       "<style scoped>\n",
       "    .dataframe tbody tr th:only-of-type {\n",
       "        vertical-align: middle;\n",
       "    }\n",
       "\n",
       "    .dataframe tbody tr th {\n",
       "        vertical-align: top;\n",
       "    }\n",
       "\n",
       "    .dataframe thead th {\n",
       "        text-align: right;\n",
       "    }\n",
       "</style>\n",
       "<table border=\"1\" class=\"dataframe\">\n",
       "  <thead>\n",
       "    <tr style=\"text-align: right;\">\n",
       "      <th></th>\n",
       "      <th>IMPORTE</th>\n",
       "    </tr>\n",
       "    <tr>\n",
       "      <th>FECHA</th>\n",
       "      <th></th>\n",
       "    </tr>\n",
       "  </thead>\n",
       "  <tbody>\n",
       "    <tr>\n",
       "      <th>2016-09-01</th>\n",
       "      <td>32.22</td>\n",
       "    </tr>\n",
       "    <tr>\n",
       "      <th>2016-10-03</th>\n",
       "      <td>37.22</td>\n",
       "    </tr>\n",
       "    <tr>\n",
       "      <th>2016-11-02</th>\n",
       "      <td>32.22</td>\n",
       "    </tr>\n",
       "    <tr>\n",
       "      <th>2016-12-01</th>\n",
       "      <td>32.22</td>\n",
       "    </tr>\n",
       "    <tr>\n",
       "      <th>2017-01-02</th>\n",
       "      <td>47.22</td>\n",
       "    </tr>\n",
       "    <tr>\n",
       "      <th>2017-02-01</th>\n",
       "      <td>32.22</td>\n",
       "    </tr>\n",
       "    <tr>\n",
       "      <th>2017-03-01</th>\n",
       "      <td>32.22</td>\n",
       "    </tr>\n",
       "    <tr>\n",
       "      <th>2017-04-03</th>\n",
       "      <td>60.10</td>\n",
       "    </tr>\n",
       "    <tr>\n",
       "      <th>2017-05-03</th>\n",
       "      <td>34.48</td>\n",
       "    </tr>\n",
       "    <tr>\n",
       "      <th>2017-06-01</th>\n",
       "      <td>34.48</td>\n",
       "    </tr>\n",
       "    <tr>\n",
       "      <th>2017-07-03</th>\n",
       "      <td>44.48</td>\n",
       "    </tr>\n",
       "    <tr>\n",
       "      <th>2017-08-01</th>\n",
       "      <td>34.48</td>\n",
       "    </tr>\n",
       "    <tr>\n",
       "      <th>2017-09-01</th>\n",
       "      <td>44.48</td>\n",
       "    </tr>\n",
       "    <tr>\n",
       "      <th>2017-10-02</th>\n",
       "      <td>44.48</td>\n",
       "    </tr>\n",
       "    <tr>\n",
       "      <th>2017-11-02</th>\n",
       "      <td>44.48</td>\n",
       "    </tr>\n",
       "    <tr>\n",
       "      <th>2017-12-01</th>\n",
       "      <td>49.48</td>\n",
       "    </tr>\n",
       "    <tr>\n",
       "      <th>2018-02-01</th>\n",
       "      <td>49.48</td>\n",
       "    </tr>\n",
       "    <tr>\n",
       "      <th>2018-03-01</th>\n",
       "      <td>49.48</td>\n",
       "    </tr>\n",
       "    <tr>\n",
       "      <th>2018-03-14</th>\n",
       "      <td>201.75</td>\n",
       "    </tr>\n",
       "    <tr>\n",
       "      <th>2018-04-03</th>\n",
       "      <td>104.59</td>\n",
       "    </tr>\n",
       "    <tr>\n",
       "      <th>2018-05-03</th>\n",
       "      <td>103.92</td>\n",
       "    </tr>\n",
       "    <tr>\n",
       "      <th>2018-06-01</th>\n",
       "      <td>128.92</td>\n",
       "    </tr>\n",
       "    <tr>\n",
       "      <th>2018-07-02</th>\n",
       "      <td>113.92</td>\n",
       "    </tr>\n",
       "    <tr>\n",
       "      <th>2018-08-01</th>\n",
       "      <td>103.92</td>\n",
       "    </tr>\n",
       "    <tr>\n",
       "      <th>2018-09-03</th>\n",
       "      <td>103.92</td>\n",
       "    </tr>\n",
       "    <tr>\n",
       "      <th>2018-10-01</th>\n",
       "      <td>103.92</td>\n",
       "    </tr>\n",
       "    <tr>\n",
       "      <th>2018-11-02</th>\n",
       "      <td>103.92</td>\n",
       "    </tr>\n",
       "    <tr>\n",
       "      <th>2018-12-03</th>\n",
       "      <td>138.92</td>\n",
       "    </tr>\n",
       "    <tr>\n",
       "      <th>2019-01-02</th>\n",
       "      <td>114.45</td>\n",
       "    </tr>\n",
       "    <tr>\n",
       "      <th>2019-02-01</th>\n",
       "      <td>108.17</td>\n",
       "    </tr>\n",
       "    <tr>\n",
       "      <th>2019-02-14</th>\n",
       "      <td>71.10</td>\n",
       "    </tr>\n",
       "    <tr>\n",
       "      <th>2019-03-01</th>\n",
       "      <td>108.17</td>\n",
       "    </tr>\n",
       "    <tr>\n",
       "      <th>2019-04-10</th>\n",
       "      <td>-72.38</td>\n",
       "    </tr>\n",
       "  </tbody>\n",
       "</table>\n",
       "</div>"
      ],
      "text/plain": [
       "            IMPORTE\n",
       "FECHA              \n",
       "2016-09-01    32.22\n",
       "2016-10-03    37.22\n",
       "2016-11-02    32.22\n",
       "2016-12-01    32.22\n",
       "2017-01-02    47.22\n",
       "2017-02-01    32.22\n",
       "2017-03-01    32.22\n",
       "2017-04-03    60.10\n",
       "2017-05-03    34.48\n",
       "2017-06-01    34.48\n",
       "2017-07-03    44.48\n",
       "2017-08-01    34.48\n",
       "2017-09-01    44.48\n",
       "2017-10-02    44.48\n",
       "2017-11-02    44.48\n",
       "2017-12-01    49.48\n",
       "2018-02-01    49.48\n",
       "2018-03-01    49.48\n",
       "2018-03-14   201.75\n",
       "2018-04-03   104.59\n",
       "2018-05-03   103.92\n",
       "2018-06-01   128.92\n",
       "2018-07-02   113.92\n",
       "2018-08-01   103.92\n",
       "2018-09-03   103.92\n",
       "2018-10-01   103.92\n",
       "2018-11-02   103.92\n",
       "2018-12-03   138.92\n",
       "2019-01-02   114.45\n",
       "2019-02-01   108.17\n",
       "2019-02-14    71.10\n",
       "2019-03-01   108.17\n",
       "2019-04-10   -72.38"
      ]
     },
     "execution_count": 313,
     "metadata": {},
     "output_type": "execute_result"
    }
   ],
   "source": [
    "transacciones_90_dia_df=transacciones_90_df.copy()\n",
    "transacciones_90_dia_df"
   ]
  },
  {
   "cell_type": "code",
   "execution_count": 314,
   "id": "56db511e",
   "metadata": {},
   "outputs": [
    {
     "data": {
      "text/html": [
       "<div>\n",
       "<style scoped>\n",
       "    .dataframe tbody tr th:only-of-type {\n",
       "        vertical-align: middle;\n",
       "    }\n",
       "\n",
       "    .dataframe tbody tr th {\n",
       "        vertical-align: top;\n",
       "    }\n",
       "\n",
       "    .dataframe thead th {\n",
       "        text-align: right;\n",
       "    }\n",
       "</style>\n",
       "<table border=\"1\" class=\"dataframe\">\n",
       "  <thead>\n",
       "    <tr style=\"text-align: right;\">\n",
       "      <th></th>\n",
       "      <th>IMPORTE</th>\n",
       "      <th>FECHA</th>\n",
       "    </tr>\n",
       "    <tr>\n",
       "      <th>FECHA</th>\n",
       "      <th></th>\n",
       "      <th></th>\n",
       "    </tr>\n",
       "  </thead>\n",
       "  <tbody>\n",
       "    <tr>\n",
       "      <th>2016-09-01</th>\n",
       "      <td>32.22</td>\n",
       "      <td>2016-09-01</td>\n",
       "    </tr>\n",
       "    <tr>\n",
       "      <th>2016-10-03</th>\n",
       "      <td>37.22</td>\n",
       "      <td>2016-10-03</td>\n",
       "    </tr>\n",
       "    <tr>\n",
       "      <th>2016-11-02</th>\n",
       "      <td>32.22</td>\n",
       "      <td>2016-11-02</td>\n",
       "    </tr>\n",
       "    <tr>\n",
       "      <th>2016-12-01</th>\n",
       "      <td>32.22</td>\n",
       "      <td>2016-12-01</td>\n",
       "    </tr>\n",
       "    <tr>\n",
       "      <th>2017-01-02</th>\n",
       "      <td>47.22</td>\n",
       "      <td>2017-01-02</td>\n",
       "    </tr>\n",
       "    <tr>\n",
       "      <th>2017-02-01</th>\n",
       "      <td>32.22</td>\n",
       "      <td>2017-02-01</td>\n",
       "    </tr>\n",
       "    <tr>\n",
       "      <th>2017-03-01</th>\n",
       "      <td>32.22</td>\n",
       "      <td>2017-03-01</td>\n",
       "    </tr>\n",
       "    <tr>\n",
       "      <th>2017-04-03</th>\n",
       "      <td>60.10</td>\n",
       "      <td>2017-04-03</td>\n",
       "    </tr>\n",
       "    <tr>\n",
       "      <th>2017-05-03</th>\n",
       "      <td>34.48</td>\n",
       "      <td>2017-05-03</td>\n",
       "    </tr>\n",
       "    <tr>\n",
       "      <th>2017-06-01</th>\n",
       "      <td>34.48</td>\n",
       "      <td>2017-06-01</td>\n",
       "    </tr>\n",
       "    <tr>\n",
       "      <th>2017-07-03</th>\n",
       "      <td>44.48</td>\n",
       "      <td>2017-07-03</td>\n",
       "    </tr>\n",
       "    <tr>\n",
       "      <th>2017-08-01</th>\n",
       "      <td>34.48</td>\n",
       "      <td>2017-08-01</td>\n",
       "    </tr>\n",
       "    <tr>\n",
       "      <th>2017-09-01</th>\n",
       "      <td>44.48</td>\n",
       "      <td>2017-09-01</td>\n",
       "    </tr>\n",
       "    <tr>\n",
       "      <th>2017-10-02</th>\n",
       "      <td>44.48</td>\n",
       "      <td>2017-10-02</td>\n",
       "    </tr>\n",
       "    <tr>\n",
       "      <th>2017-11-02</th>\n",
       "      <td>44.48</td>\n",
       "      <td>2017-11-02</td>\n",
       "    </tr>\n",
       "    <tr>\n",
       "      <th>2017-12-01</th>\n",
       "      <td>49.48</td>\n",
       "      <td>2017-12-01</td>\n",
       "    </tr>\n",
       "    <tr>\n",
       "      <th>2018-02-01</th>\n",
       "      <td>49.48</td>\n",
       "      <td>2018-02-01</td>\n",
       "    </tr>\n",
       "    <tr>\n",
       "      <th>2018-03-01</th>\n",
       "      <td>49.48</td>\n",
       "      <td>2018-03-01</td>\n",
       "    </tr>\n",
       "    <tr>\n",
       "      <th>2018-03-14</th>\n",
       "      <td>201.75</td>\n",
       "      <td>2018-03-14</td>\n",
       "    </tr>\n",
       "    <tr>\n",
       "      <th>2018-04-03</th>\n",
       "      <td>104.59</td>\n",
       "      <td>2018-04-03</td>\n",
       "    </tr>\n",
       "    <tr>\n",
       "      <th>2018-05-03</th>\n",
       "      <td>103.92</td>\n",
       "      <td>2018-05-03</td>\n",
       "    </tr>\n",
       "    <tr>\n",
       "      <th>2018-06-01</th>\n",
       "      <td>128.92</td>\n",
       "      <td>2018-06-01</td>\n",
       "    </tr>\n",
       "    <tr>\n",
       "      <th>2018-07-02</th>\n",
       "      <td>113.92</td>\n",
       "      <td>2018-07-02</td>\n",
       "    </tr>\n",
       "    <tr>\n",
       "      <th>2018-08-01</th>\n",
       "      <td>103.92</td>\n",
       "      <td>2018-08-01</td>\n",
       "    </tr>\n",
       "    <tr>\n",
       "      <th>2018-09-03</th>\n",
       "      <td>103.92</td>\n",
       "      <td>2018-09-03</td>\n",
       "    </tr>\n",
       "    <tr>\n",
       "      <th>2018-10-01</th>\n",
       "      <td>103.92</td>\n",
       "      <td>2018-10-01</td>\n",
       "    </tr>\n",
       "    <tr>\n",
       "      <th>2018-11-02</th>\n",
       "      <td>103.92</td>\n",
       "      <td>2018-11-02</td>\n",
       "    </tr>\n",
       "    <tr>\n",
       "      <th>2018-12-03</th>\n",
       "      <td>138.92</td>\n",
       "      <td>2018-12-03</td>\n",
       "    </tr>\n",
       "    <tr>\n",
       "      <th>2019-01-02</th>\n",
       "      <td>114.45</td>\n",
       "      <td>2019-01-02</td>\n",
       "    </tr>\n",
       "    <tr>\n",
       "      <th>2019-02-01</th>\n",
       "      <td>108.17</td>\n",
       "      <td>2019-02-01</td>\n",
       "    </tr>\n",
       "    <tr>\n",
       "      <th>2019-02-14</th>\n",
       "      <td>71.10</td>\n",
       "      <td>2019-02-14</td>\n",
       "    </tr>\n",
       "    <tr>\n",
       "      <th>2019-03-01</th>\n",
       "      <td>108.17</td>\n",
       "      <td>2019-03-01</td>\n",
       "    </tr>\n",
       "    <tr>\n",
       "      <th>2019-04-10</th>\n",
       "      <td>-72.38</td>\n",
       "      <td>2019-04-10</td>\n",
       "    </tr>\n",
       "  </tbody>\n",
       "</table>\n",
       "</div>"
      ],
      "text/plain": [
       "            IMPORTE      FECHA\n",
       "FECHA                         \n",
       "2016-09-01    32.22 2016-09-01\n",
       "2016-10-03    37.22 2016-10-03\n",
       "2016-11-02    32.22 2016-11-02\n",
       "2016-12-01    32.22 2016-12-01\n",
       "2017-01-02    47.22 2017-01-02\n",
       "2017-02-01    32.22 2017-02-01\n",
       "2017-03-01    32.22 2017-03-01\n",
       "2017-04-03    60.10 2017-04-03\n",
       "2017-05-03    34.48 2017-05-03\n",
       "2017-06-01    34.48 2017-06-01\n",
       "2017-07-03    44.48 2017-07-03\n",
       "2017-08-01    34.48 2017-08-01\n",
       "2017-09-01    44.48 2017-09-01\n",
       "2017-10-02    44.48 2017-10-02\n",
       "2017-11-02    44.48 2017-11-02\n",
       "2017-12-01    49.48 2017-12-01\n",
       "2018-02-01    49.48 2018-02-01\n",
       "2018-03-01    49.48 2018-03-01\n",
       "2018-03-14   201.75 2018-03-14\n",
       "2018-04-03   104.59 2018-04-03\n",
       "2018-05-03   103.92 2018-05-03\n",
       "2018-06-01   128.92 2018-06-01\n",
       "2018-07-02   113.92 2018-07-02\n",
       "2018-08-01   103.92 2018-08-01\n",
       "2018-09-03   103.92 2018-09-03\n",
       "2018-10-01   103.92 2018-10-01\n",
       "2018-11-02   103.92 2018-11-02\n",
       "2018-12-03   138.92 2018-12-03\n",
       "2019-01-02   114.45 2019-01-02\n",
       "2019-02-01   108.17 2019-02-01\n",
       "2019-02-14    71.10 2019-02-14\n",
       "2019-03-01   108.17 2019-03-01\n",
       "2019-04-10   -72.38 2019-04-10"
      ]
     },
     "execution_count": 314,
     "metadata": {},
     "output_type": "execute_result"
    }
   ],
   "source": [
    "# hacemos una columna con la fecha a partir del índice\n",
    "transacciones_90_dia_df['FECHA']=transacciones_90_dia_df.index\n",
    "transacciones_90_dia_df"
   ]
  },
  {
   "cell_type": "code",
   "execution_count": 315,
   "id": "7d8d9bb5",
   "metadata": {},
   "outputs": [
    {
     "data": {
      "text/html": [
       "<div>\n",
       "<style scoped>\n",
       "    .dataframe tbody tr th:only-of-type {\n",
       "        vertical-align: middle;\n",
       "    }\n",
       "\n",
       "    .dataframe tbody tr th {\n",
       "        vertical-align: top;\n",
       "    }\n",
       "\n",
       "    .dataframe thead th {\n",
       "        text-align: right;\n",
       "    }\n",
       "</style>\n",
       "<table border=\"1\" class=\"dataframe\">\n",
       "  <thead>\n",
       "    <tr style=\"text-align: right;\">\n",
       "      <th></th>\n",
       "      <th>IMPORTE</th>\n",
       "      <th>FECHA</th>\n",
       "      <th>DIA</th>\n",
       "    </tr>\n",
       "    <tr>\n",
       "      <th>FECHA</th>\n",
       "      <th></th>\n",
       "      <th></th>\n",
       "      <th></th>\n",
       "    </tr>\n",
       "  </thead>\n",
       "  <tbody>\n",
       "    <tr>\n",
       "      <th>2016-09-01</th>\n",
       "      <td>32.22</td>\n",
       "      <td>2016-09-01</td>\n",
       "      <td>1</td>\n",
       "    </tr>\n",
       "    <tr>\n",
       "      <th>2016-10-03</th>\n",
       "      <td>37.22</td>\n",
       "      <td>2016-10-03</td>\n",
       "      <td>3</td>\n",
       "    </tr>\n",
       "    <tr>\n",
       "      <th>2016-11-02</th>\n",
       "      <td>32.22</td>\n",
       "      <td>2016-11-02</td>\n",
       "      <td>2</td>\n",
       "    </tr>\n",
       "    <tr>\n",
       "      <th>2016-12-01</th>\n",
       "      <td>32.22</td>\n",
       "      <td>2016-12-01</td>\n",
       "      <td>1</td>\n",
       "    </tr>\n",
       "    <tr>\n",
       "      <th>2017-01-02</th>\n",
       "      <td>47.22</td>\n",
       "      <td>2017-01-02</td>\n",
       "      <td>2</td>\n",
       "    </tr>\n",
       "    <tr>\n",
       "      <th>2017-02-01</th>\n",
       "      <td>32.22</td>\n",
       "      <td>2017-02-01</td>\n",
       "      <td>1</td>\n",
       "    </tr>\n",
       "    <tr>\n",
       "      <th>2017-03-01</th>\n",
       "      <td>32.22</td>\n",
       "      <td>2017-03-01</td>\n",
       "      <td>1</td>\n",
       "    </tr>\n",
       "    <tr>\n",
       "      <th>2017-04-03</th>\n",
       "      <td>60.10</td>\n",
       "      <td>2017-04-03</td>\n",
       "      <td>3</td>\n",
       "    </tr>\n",
       "    <tr>\n",
       "      <th>2017-05-03</th>\n",
       "      <td>34.48</td>\n",
       "      <td>2017-05-03</td>\n",
       "      <td>3</td>\n",
       "    </tr>\n",
       "    <tr>\n",
       "      <th>2017-06-01</th>\n",
       "      <td>34.48</td>\n",
       "      <td>2017-06-01</td>\n",
       "      <td>1</td>\n",
       "    </tr>\n",
       "    <tr>\n",
       "      <th>2017-07-03</th>\n",
       "      <td>44.48</td>\n",
       "      <td>2017-07-03</td>\n",
       "      <td>3</td>\n",
       "    </tr>\n",
       "    <tr>\n",
       "      <th>2017-08-01</th>\n",
       "      <td>34.48</td>\n",
       "      <td>2017-08-01</td>\n",
       "      <td>1</td>\n",
       "    </tr>\n",
       "    <tr>\n",
       "      <th>2017-09-01</th>\n",
       "      <td>44.48</td>\n",
       "      <td>2017-09-01</td>\n",
       "      <td>1</td>\n",
       "    </tr>\n",
       "    <tr>\n",
       "      <th>2017-10-02</th>\n",
       "      <td>44.48</td>\n",
       "      <td>2017-10-02</td>\n",
       "      <td>2</td>\n",
       "    </tr>\n",
       "    <tr>\n",
       "      <th>2017-11-02</th>\n",
       "      <td>44.48</td>\n",
       "      <td>2017-11-02</td>\n",
       "      <td>2</td>\n",
       "    </tr>\n",
       "    <tr>\n",
       "      <th>2017-12-01</th>\n",
       "      <td>49.48</td>\n",
       "      <td>2017-12-01</td>\n",
       "      <td>1</td>\n",
       "    </tr>\n",
       "    <tr>\n",
       "      <th>2018-02-01</th>\n",
       "      <td>49.48</td>\n",
       "      <td>2018-02-01</td>\n",
       "      <td>1</td>\n",
       "    </tr>\n",
       "    <tr>\n",
       "      <th>2018-03-01</th>\n",
       "      <td>49.48</td>\n",
       "      <td>2018-03-01</td>\n",
       "      <td>1</td>\n",
       "    </tr>\n",
       "    <tr>\n",
       "      <th>2018-03-14</th>\n",
       "      <td>201.75</td>\n",
       "      <td>2018-03-14</td>\n",
       "      <td>14</td>\n",
       "    </tr>\n",
       "    <tr>\n",
       "      <th>2018-04-03</th>\n",
       "      <td>104.59</td>\n",
       "      <td>2018-04-03</td>\n",
       "      <td>3</td>\n",
       "    </tr>\n",
       "    <tr>\n",
       "      <th>2018-05-03</th>\n",
       "      <td>103.92</td>\n",
       "      <td>2018-05-03</td>\n",
       "      <td>3</td>\n",
       "    </tr>\n",
       "    <tr>\n",
       "      <th>2018-06-01</th>\n",
       "      <td>128.92</td>\n",
       "      <td>2018-06-01</td>\n",
       "      <td>1</td>\n",
       "    </tr>\n",
       "    <tr>\n",
       "      <th>2018-07-02</th>\n",
       "      <td>113.92</td>\n",
       "      <td>2018-07-02</td>\n",
       "      <td>2</td>\n",
       "    </tr>\n",
       "    <tr>\n",
       "      <th>2018-08-01</th>\n",
       "      <td>103.92</td>\n",
       "      <td>2018-08-01</td>\n",
       "      <td>1</td>\n",
       "    </tr>\n",
       "    <tr>\n",
       "      <th>2018-09-03</th>\n",
       "      <td>103.92</td>\n",
       "      <td>2018-09-03</td>\n",
       "      <td>3</td>\n",
       "    </tr>\n",
       "    <tr>\n",
       "      <th>2018-10-01</th>\n",
       "      <td>103.92</td>\n",
       "      <td>2018-10-01</td>\n",
       "      <td>1</td>\n",
       "    </tr>\n",
       "    <tr>\n",
       "      <th>2018-11-02</th>\n",
       "      <td>103.92</td>\n",
       "      <td>2018-11-02</td>\n",
       "      <td>2</td>\n",
       "    </tr>\n",
       "    <tr>\n",
       "      <th>2018-12-03</th>\n",
       "      <td>138.92</td>\n",
       "      <td>2018-12-03</td>\n",
       "      <td>3</td>\n",
       "    </tr>\n",
       "    <tr>\n",
       "      <th>2019-01-02</th>\n",
       "      <td>114.45</td>\n",
       "      <td>2019-01-02</td>\n",
       "      <td>2</td>\n",
       "    </tr>\n",
       "    <tr>\n",
       "      <th>2019-02-01</th>\n",
       "      <td>108.17</td>\n",
       "      <td>2019-02-01</td>\n",
       "      <td>1</td>\n",
       "    </tr>\n",
       "    <tr>\n",
       "      <th>2019-02-14</th>\n",
       "      <td>71.10</td>\n",
       "      <td>2019-02-14</td>\n",
       "      <td>14</td>\n",
       "    </tr>\n",
       "    <tr>\n",
       "      <th>2019-03-01</th>\n",
       "      <td>108.17</td>\n",
       "      <td>2019-03-01</td>\n",
       "      <td>1</td>\n",
       "    </tr>\n",
       "    <tr>\n",
       "      <th>2019-04-10</th>\n",
       "      <td>-72.38</td>\n",
       "      <td>2019-04-10</td>\n",
       "      <td>10</td>\n",
       "    </tr>\n",
       "  </tbody>\n",
       "</table>\n",
       "</div>"
      ],
      "text/plain": [
       "            IMPORTE      FECHA  DIA\n",
       "FECHA                              \n",
       "2016-09-01    32.22 2016-09-01    1\n",
       "2016-10-03    37.22 2016-10-03    3\n",
       "2016-11-02    32.22 2016-11-02    2\n",
       "2016-12-01    32.22 2016-12-01    1\n",
       "2017-01-02    47.22 2017-01-02    2\n",
       "2017-02-01    32.22 2017-02-01    1\n",
       "2017-03-01    32.22 2017-03-01    1\n",
       "2017-04-03    60.10 2017-04-03    3\n",
       "2017-05-03    34.48 2017-05-03    3\n",
       "2017-06-01    34.48 2017-06-01    1\n",
       "2017-07-03    44.48 2017-07-03    3\n",
       "2017-08-01    34.48 2017-08-01    1\n",
       "2017-09-01    44.48 2017-09-01    1\n",
       "2017-10-02    44.48 2017-10-02    2\n",
       "2017-11-02    44.48 2017-11-02    2\n",
       "2017-12-01    49.48 2017-12-01    1\n",
       "2018-02-01    49.48 2018-02-01    1\n",
       "2018-03-01    49.48 2018-03-01    1\n",
       "2018-03-14   201.75 2018-03-14   14\n",
       "2018-04-03   104.59 2018-04-03    3\n",
       "2018-05-03   103.92 2018-05-03    3\n",
       "2018-06-01   128.92 2018-06-01    1\n",
       "2018-07-02   113.92 2018-07-02    2\n",
       "2018-08-01   103.92 2018-08-01    1\n",
       "2018-09-03   103.92 2018-09-03    3\n",
       "2018-10-01   103.92 2018-10-01    1\n",
       "2018-11-02   103.92 2018-11-02    2\n",
       "2018-12-03   138.92 2018-12-03    3\n",
       "2019-01-02   114.45 2019-01-02    2\n",
       "2019-02-01   108.17 2019-02-01    1\n",
       "2019-02-14    71.10 2019-02-14   14\n",
       "2019-03-01   108.17 2019-03-01    1\n",
       "2019-04-10   -72.38 2019-04-10   10"
      ]
     },
     "execution_count": 315,
     "metadata": {},
     "output_type": "execute_result"
    }
   ],
   "source": [
    "# hacemos una columna con el dia a partir de la columna de la fecha\n",
    "transacciones_90_dia_df['DIA'] = transacciones_90_dia_df['FECHA'].dt.day\n",
    "transacciones_90_dia_df"
   ]
  },
  {
   "cell_type": "code",
   "execution_count": 316,
   "id": "b2e9ee80",
   "metadata": {},
   "outputs": [
    {
     "data": {
      "text/plain": [
       "IMPORTE           float64\n",
       "FECHA      datetime64[ns]\n",
       "DIA                 int64\n",
       "dtype: object"
      ]
     },
     "execution_count": 316,
     "metadata": {},
     "output_type": "execute_result"
    }
   ],
   "source": [
    "# comprobamos tipos datos columnas\n",
    "transacciones_90_dia_df.dtypes"
   ]
  },
  {
   "cell_type": "code",
   "execution_count": 317,
   "id": "bb9c8f4d",
   "metadata": {},
   "outputs": [
    {
     "data": {
      "text/html": [
       "<div>\n",
       "<style scoped>\n",
       "    .dataframe tbody tr th:only-of-type {\n",
       "        vertical-align: middle;\n",
       "    }\n",
       "\n",
       "    .dataframe tbody tr th {\n",
       "        vertical-align: top;\n",
       "    }\n",
       "\n",
       "    .dataframe thead th {\n",
       "        text-align: right;\n",
       "    }\n",
       "</style>\n",
       "<table border=\"1\" class=\"dataframe\">\n",
       "  <thead>\n",
       "    <tr style=\"text-align: right;\">\n",
       "      <th></th>\n",
       "      <th>IMPORTE</th>\n",
       "      <th>DIA</th>\n",
       "    </tr>\n",
       "  </thead>\n",
       "  <tbody>\n",
       "    <tr>\n",
       "      <th>count</th>\n",
       "      <td>33.000000</td>\n",
       "      <td>33.000000</td>\n",
       "    </tr>\n",
       "    <tr>\n",
       "      <th>mean</th>\n",
       "      <td>68.868182</td>\n",
       "      <td>2.757576</td>\n",
       "    </tr>\n",
       "    <tr>\n",
       "      <th>std</th>\n",
       "      <td>48.753197</td>\n",
       "      <td>3.335700</td>\n",
       "    </tr>\n",
       "    <tr>\n",
       "      <th>min</th>\n",
       "      <td>-72.380000</td>\n",
       "      <td>1.000000</td>\n",
       "    </tr>\n",
       "    <tr>\n",
       "      <th>25%</th>\n",
       "      <td>34.480000</td>\n",
       "      <td>1.000000</td>\n",
       "    </tr>\n",
       "    <tr>\n",
       "      <th>50%</th>\n",
       "      <td>49.480000</td>\n",
       "      <td>2.000000</td>\n",
       "    </tr>\n",
       "    <tr>\n",
       "      <th>75%</th>\n",
       "      <td>103.920000</td>\n",
       "      <td>3.000000</td>\n",
       "    </tr>\n",
       "    <tr>\n",
       "      <th>max</th>\n",
       "      <td>201.750000</td>\n",
       "      <td>14.000000</td>\n",
       "    </tr>\n",
       "  </tbody>\n",
       "</table>\n",
       "</div>"
      ],
      "text/plain": [
       "          IMPORTE        DIA\n",
       "count   33.000000  33.000000\n",
       "mean    68.868182   2.757576\n",
       "std     48.753197   3.335700\n",
       "min    -72.380000   1.000000\n",
       "25%     34.480000   1.000000\n",
       "50%     49.480000   2.000000\n",
       "75%    103.920000   3.000000\n",
       "max    201.750000  14.000000"
      ]
     },
     "execution_count": 317,
     "metadata": {},
     "output_type": "execute_result"
    }
   ],
   "source": [
    "# calculamos los estadisticos de la distribucion\n",
    "transacciones_90_dia_df.describe()"
   ]
  },
  {
   "cell_type": "code",
   "execution_count": 318,
   "id": "fcc39901",
   "metadata": {},
   "outputs": [
    {
     "data": {
      "text/plain": [
       "1"
      ]
     },
     "execution_count": 318,
     "metadata": {},
     "output_type": "execute_result"
    }
   ],
   "source": [
    "# calculamos la moda\n",
    "stat_mode = statistics.mode(transacciones_90_dia_df['DIA'])\n",
    "stat_mode"
   ]
  },
  {
   "cell_type": "code",
   "execution_count": 319,
   "id": "d8a94377",
   "metadata": {},
   "outputs": [
    {
     "data": {
      "text/plain": [
       "'\\nVemos como claramente el dia de pago del seguro medico es el primero de cada mes y como mucho es el dia 2 o 3.\\nYa que mean = 2.75 y std = 3.33.\\nY moda = q1 = 1; y q2 = 2 y q3 = 3.\\n'"
      ]
     },
     "execution_count": 319,
     "metadata": {},
     "output_type": "execute_result"
    }
   ],
   "source": [
    "\"\"\"\n",
    "Vemos como claramente el dia de pago del seguro medico es el primero de cada mes y como mucho es el dia 2 o 3.\n",
    "Ya que mean = 2.75 y std = 3.33.\n",
    "Y moda = q1 = 1; y q2 = 2 y q3 = 3.\n",
    "\"\"\""
   ]
  },
  {
   "cell_type": "code",
   "execution_count": 320,
   "id": "5987af97",
   "metadata": {},
   "outputs": [
    {
     "data": {
      "text/plain": [
       "1"
      ]
     },
     "execution_count": 320,
     "metadata": {},
     "output_type": "execute_result"
    }
   ],
   "source": [
    "# extraemos el 1er cuartil\n",
    "quartil1_dist = int(transacciones_90_dia_df.describe().loc['25%']['DIA'])\n",
    "quartil1_dist"
   ]
  },
  {
   "cell_type": "code",
   "execution_count": 321,
   "id": "c4ccfcde",
   "metadata": {},
   "outputs": [
    {
     "data": {
      "text/plain": [
       "3"
      ]
     },
     "execution_count": 321,
     "metadata": {},
     "output_type": "execute_result"
    }
   ],
   "source": [
    "# extraemos el 3er cuartil\n",
    "quartil3_dist = int(transacciones_90_dia_df.describe().loc['75%']['DIA'])\n",
    "quartil3_dist"
   ]
  },
  {
   "cell_type": "code",
   "execution_count": 322,
   "id": "fa70a8e2",
   "metadata": {},
   "outputs": [
    {
     "data": {
      "text/plain": [
       "2"
      ]
     },
     "execution_count": 322,
     "metadata": {},
     "output_type": "execute_result"
    }
   ],
   "source": [
    "iqr_dist = quartil3_dist - quartil1_dist\n",
    "iqr_dist"
   ]
  },
  {
   "cell_type": "code",
   "execution_count": 323,
   "id": "556a05a9",
   "metadata": {},
   "outputs": [
    {
     "data": {
      "text/plain": [
       "2"
      ]
     },
     "execution_count": 323,
     "metadata": {},
     "output_type": "execute_result"
    }
   ],
   "source": [
    "# si NO pasan recibo a FIN DE MES\n",
    "if stat_mode < 28:    \n",
    "    iqr = iqr_dist\n",
    "# si SÍ cobramos a FIN DE MES\n",
    "else:\n",
    "    # si quartil3_dist - quartil1_dist es mayor a 4 dias\n",
    "    if iqr_dist > 4:\n",
    "        iqr = 4\n",
    "    else:\n",
    "        iqr = iqr_dist\n",
    "iqr"
   ]
  },
  {
   "cell_type": "code",
   "execution_count": 423,
   "id": "5011a8f6",
   "metadata": {},
   "outputs": [
    {
     "name": "stdout",
     "output_type": "stream",
     "text": [
      "year: 2019\n",
      "month: 1\n",
      "day: 1\n"
     ]
    }
   ],
   "source": [
    "# pedimos al usuario la fecha (en produccion tomamos la fecha del sistema)\n",
    "year = input('year: ')\n",
    "month = input('month: ')\n",
    "day = input('day: ')"
   ]
  },
  {
   "cell_type": "code",
   "execution_count": 424,
   "id": "1113f2a8",
   "metadata": {},
   "outputs": [
    {
     "data": {
      "text/plain": [
       "'2019-1-1'"
      ]
     },
     "execution_count": 424,
     "metadata": {},
     "output_type": "execute_result"
    }
   ],
   "source": [
    "# pasamos la fecha a string\n",
    "current_date_str= year + '-' + month + '-' + day\n",
    "current_date_str"
   ]
  },
  {
   "cell_type": "code",
   "execution_count": 425,
   "id": "1c439808",
   "metadata": {},
   "outputs": [
    {
     "data": {
      "text/plain": [
       "datetime.datetime(2019, 1, 1, 0, 0)"
      ]
     },
     "execution_count": 425,
     "metadata": {},
     "output_type": "execute_result"
    }
   ],
   "source": [
    "# pasamos la fecha al formato datetime\n",
    "current_date_obj = datetime.strptime(current_date_str, '%Y-%m-%d')\n",
    "current_date_obj"
   ]
  },
  {
   "cell_type": "code",
   "execution_count": 426,
   "id": "4d083fee",
   "metadata": {},
   "outputs": [
    {
     "data": {
      "text/plain": [
       "datetime.timedelta(days=2)"
      ]
     },
     "execution_count": 426,
     "metadata": {},
     "output_type": "execute_result"
    }
   ],
   "source": [
    "# pasamos iqr a formato datetime\n",
    "iqr_obj = timedelta(days=iqr)\n",
    "iqr_obj"
   ]
  },
  {
   "cell_type": "code",
   "execution_count": 427,
   "id": "aa57b22f",
   "metadata": {},
   "outputs": [
    {
     "data": {
      "text/plain": [
       "'2019-1-3'"
      ]
     },
     "execution_count": 427,
     "metadata": {},
     "output_type": "execute_result"
    }
   ],
   "source": [
    "# calculamos quartil3_obj en funcion de current_date_obj, quartil3_dist y si cobramos a FIN de MES o NO\n",
    "\n",
    "# si SÍ cobramos a FIN de MES\n",
    "if stat_mode >= 28:\n",
    "    # quartil3_obj sera el ultimo dia del mes de current_date_obj\n",
    "    quartil3 = calendar.monthrange(current_date_obj.year, current_date_obj.month)[1]\n",
    "    quartil3_str = str(current_date_obj.year) + '-' + str(current_date_obj.month) + '-' + str(quartil3)\n",
    "# si NO cobramos a FIN de MES    \n",
    "else:\n",
    "    quartil3_str = str(current_date_obj.year) + '-' + str(current_date_obj.month) + '-' + str(quartil3_dist)\n",
    "\n",
    "quartil3_str"
   ]
  },
  {
   "cell_type": "code",
   "execution_count": 428,
   "id": "c8609f4e",
   "metadata": {},
   "outputs": [
    {
     "data": {
      "text/plain": [
       "datetime.datetime(2019, 1, 3, 0, 0)"
      ]
     },
     "execution_count": 428,
     "metadata": {},
     "output_type": "execute_result"
    }
   ],
   "source": [
    "q3_obj = datetime.strptime(quartil3_str, '%Y-%m-%d')\n",
    "q3_obj"
   ]
  },
  {
   "cell_type": "code",
   "execution_count": 429,
   "id": "1c71035d",
   "metadata": {},
   "outputs": [
    {
     "data": {
      "text/plain": [
       "datetime.datetime(2019, 1, 1, 0, 0)"
      ]
     },
     "execution_count": 429,
     "metadata": {},
     "output_type": "execute_result"
    }
   ],
   "source": [
    "q1_obj = q3_obj - iqr_obj\n",
    "q1_obj"
   ]
  },
  {
   "cell_type": "code",
   "execution_count": 430,
   "id": "f1b53136",
   "metadata": {},
   "outputs": [
    {
     "data": {
      "text/plain": [
       "datetime.datetime(2018, 12, 29, 0, 0)"
      ]
     },
     "execution_count": 430,
     "metadata": {},
     "output_type": "execute_result"
    }
   ],
   "source": [
    "limInf_obj = q1_obj - 1.5*iqr_obj\n",
    "# quitamos partes de dias no enteros que haya podido introducir 1.5*iqr_obj\n",
    "limInf_obj=limInf_obj.replace(hour=0, minute=0, second=0, microsecond=0)\n",
    "limInf_obj"
   ]
  },
  {
   "cell_type": "code",
   "execution_count": 443,
   "id": "927e898b",
   "metadata": {},
   "outputs": [
    {
     "data": {
      "text/plain": [
       "datetime.datetime(2019, 1, 2, 0, 0)"
      ]
     },
     "execution_count": 443,
     "metadata": {},
     "output_type": "execute_result"
    }
   ],
   "source": [
    "# calculamos limite superior de barrido segun cobremos a fin de mes o no\n",
    "limSup_obj = q1_obj + timedelta(days=1)\n",
    "limSup_obj"
   ]
  },
  {
   "cell_type": "code",
   "execution_count": 444,
   "id": "0ee7166c",
   "metadata": {},
   "outputs": [],
   "source": [
    "pagado = False"
   ]
  },
  {
   "cell_type": "code",
   "execution_count": 445,
   "id": "f3fa90a4",
   "metadata": {},
   "outputs": [
    {
     "name": "stdout",
     "output_type": "stream",
     "text": [
      "2018-12-29\n",
      "2018-12-30\n",
      "2018-12-31\n",
      "2019-1-1\n",
      "2019-1-1: Al usuario aun no le han pasado el recibo del seguro médico. Hay que avisarle\n"
     ]
    }
   ],
   "source": [
    "for d in  range(int((limSup_obj - limInf_obj).days)):    \n",
    "    # ESTA LINEA NO SE EJECUTA EN PRODUCCION\n",
    "    fecha_str = str((limInf_obj + timedelta(days=d)).year) + '-' + str((limInf_obj + timedelta(days=d)).month) + '-' + \\\n",
    "    str((limInf_obj + timedelta(days=d)).day)\n",
    "    # ESTA LINEA NO SE EJECUTA EN PRODUCCION\n",
    "    print(fecha_str)\n",
    "    if (limInf_obj + timedelta(days=d)) in transacciones_90_dia_df.index:\n",
    "        pagado = True\n",
    "        print ('Al usuario le han pasado el recibo del seguro médico de ' + \\\n",
    "               str(transacciones_90_dia_df['IMPORTE'][str(limInf_obj + timedelta(days=d))[:10]]) + \\\n",
    "               ' eur el día ' + str(limInf_obj + timedelta(d))[:10])\n",
    "if not(pagado):\n",
    "    fecha_obj = limSup_obj - timedelta(days=1)\n",
    "    fecha = str(fecha_obj.year) + '-' + str(fecha_obj.month) + '-' + str(fecha_obj.day)\n",
    "    print(fecha + ': Al usuario aun no le han pasado el recibo del seguro médico. Hay que avisarle') "
   ]
  },
  {
   "cell_type": "code",
   "execution_count": 446,
   "id": "9ab44294",
   "metadata": {},
   "outputs": [
    {
     "data": {
      "text/plain": [
       "1"
      ]
     },
     "execution_count": 446,
     "metadata": {},
     "output_type": "execute_result"
    }
   ],
   "source": [
    "stat_mode"
   ]
  },
  {
   "cell_type": "code",
   "execution_count": 447,
   "id": "99f70349",
   "metadata": {},
   "outputs": [
    {
     "data": {
      "text/plain": [
       "1"
      ]
     },
     "execution_count": 447,
     "metadata": {},
     "output_type": "execute_result"
    }
   ],
   "source": [
    "quartil1_dist"
   ]
  },
  {
   "cell_type": "code",
   "execution_count": 448,
   "id": "1558a275",
   "metadata": {},
   "outputs": [
    {
     "data": {
      "text/plain": [
       "3"
      ]
     },
     "execution_count": 448,
     "metadata": {},
     "output_type": "execute_result"
    }
   ],
   "source": [
    "quartil3_dist"
   ]
  },
  {
   "cell_type": "code",
   "execution_count": 449,
   "id": "f3d80b21",
   "metadata": {},
   "outputs": [
    {
     "data": {
      "text/plain": [
       "datetime.datetime(2019, 1, 3, 0, 0)"
      ]
     },
     "execution_count": 449,
     "metadata": {},
     "output_type": "execute_result"
    }
   ],
   "source": [
    "q3_obj"
   ]
  },
  {
   "cell_type": "code",
   "execution_count": 450,
   "id": "e8bda306",
   "metadata": {},
   "outputs": [
    {
     "data": {
      "text/plain": [
       "datetime.datetime(2019, 1, 1, 0, 0)"
      ]
     },
     "execution_count": 450,
     "metadata": {},
     "output_type": "execute_result"
    }
   ],
   "source": [
    "q1_obj"
   ]
  },
  {
   "cell_type": "code",
   "execution_count": 451,
   "id": "c27f257b",
   "metadata": {},
   "outputs": [
    {
     "name": "stdout",
     "output_type": "stream",
     "text": [
      "la moda esta en el mismo mes y año q quartil3_dist\n",
      "2019-1-1\n"
     ]
    }
   ],
   "source": [
    "if (quartil3_dist - stat_mode) >= 0:\n",
    "    print('la moda esta en el mismo mes y año q quartil3_dist')\n",
    "    stat_mode_str = str(q3_obj.year) + '-' + str(q3_obj.month) + '-' + str(stat_mode)\n",
    "elif (stat_mode - quartil1_dist) >= 0:\n",
    "    print('la moda esta en el mismo mes y año q quartil1_dist')\n",
    "    stat_mode_str = str(q1_obj.year) + '-' + str(q1_obj.month) + '-' + str(stat_mode)\n",
    "else:\n",
    "    print('hay un fallo con el calculo de la moda')\n",
    "print(stat_mode_str)"
   ]
  },
  {
   "cell_type": "code",
   "execution_count": 455,
   "id": "9f3746bf",
   "metadata": {},
   "outputs": [],
   "source": [
    "# pasamos la moda a formato obj\n",
    "stat_mode_obj = datetime.strptime(stat_mode_str, '%Y-%m-%d')"
   ]
  },
  {
   "cell_type": "code",
   "execution_count": 460,
   "id": "6a2e7b40",
   "metadata": {},
   "outputs": [
    {
     "data": {
      "text/plain": [
       "datetime.datetime(2018, 10, 1, 0, 0)"
      ]
     },
     "execution_count": 460,
     "metadata": {},
     "output_type": "execute_result"
    }
   ],
   "source": [
    "limInfRecibo_obj = stat_mode_obj - dateutil.relativedelta.relativedelta(months=3)\n",
    "limInfRecibo_obj"
   ]
  },
  {
   "cell_type": "code",
   "execution_count": 479,
   "id": "ce791251",
   "metadata": {
    "scrolled": true
   },
   "outputs": [
    {
     "name": "stdout",
     "output_type": "stream",
     "text": [
      "2018-10-1\n",
      "2018-10-2\n",
      "2018-10-3\n",
      "2018-10-4\n",
      "2018-10-5\n",
      "2018-10-6\n",
      "2018-10-7\n",
      "2018-10-8\n",
      "2018-10-9\n",
      "2018-10-10\n",
      "2018-10-11\n",
      "2018-10-12\n",
      "2018-10-13\n",
      "2018-10-14\n",
      "2018-10-15\n",
      "2018-10-16\n",
      "2018-10-17\n",
      "2018-10-18\n",
      "2018-10-19\n",
      "2018-10-20\n",
      "2018-10-21\n",
      "2018-10-22\n",
      "2018-10-23\n",
      "2018-10-24\n",
      "2018-10-25\n",
      "2018-10-26\n",
      "2018-10-27\n",
      "2018-10-28\n",
      "2018-10-29\n",
      "2018-10-30\n",
      "2018-10-31\n",
      "2018-11-1\n",
      "2018-11-2\n",
      "2018-11-3\n",
      "2018-11-4\n",
      "2018-11-5\n",
      "2018-11-6\n",
      "2018-11-7\n",
      "2018-11-8\n",
      "2018-11-9\n",
      "2018-11-10\n",
      "2018-11-11\n",
      "2018-11-12\n",
      "2018-11-13\n",
      "2018-11-14\n",
      "2018-11-15\n",
      "2018-11-16\n",
      "2018-11-17\n",
      "2018-11-18\n",
      "2018-11-19\n",
      "2018-11-20\n",
      "2018-11-21\n",
      "2018-11-22\n",
      "2018-11-23\n",
      "2018-11-24\n",
      "2018-11-25\n",
      "2018-11-26\n",
      "2018-11-27\n",
      "2018-11-28\n",
      "2018-11-29\n",
      "2018-11-30\n",
      "2018-12-1\n",
      "2018-12-2\n",
      "2018-12-3\n",
      "2018-12-4\n",
      "2018-12-5\n",
      "2018-12-6\n",
      "2018-12-7\n",
      "2018-12-8\n",
      "2018-12-9\n",
      "2018-12-10\n",
      "2018-12-11\n",
      "2018-12-12\n",
      "2018-12-13\n",
      "2018-12-14\n",
      "2018-12-15\n",
      "2018-12-16\n",
      "2018-12-17\n",
      "2018-12-18\n",
      "2018-12-19\n",
      "2018-12-20\n",
      "2018-12-21\n",
      "2018-12-22\n",
      "2018-12-23\n",
      "2018-12-24\n",
      "2018-12-25\n",
      "2018-12-26\n",
      "2018-12-27\n",
      "2018-12-28\n",
      "2018-12-29\n",
      "2018-12-30\n",
      "2018-12-31\n",
      "num_recibos: 4\n",
      "importe_recibos: 401.89\n",
      "media: 100.4725\n"
     ]
    }
   ],
   "source": [
    "num_recibos = 0\n",
    "importe_recibos = 0\n",
    "\n",
    "for d in  range(int((stat_mode_obj - limInfRecibo_obj).days)):    \n",
    "    # ESTA LINEA NO SE EJECUTA EN PRODUCCION\n",
    "    fecha_str = str((limInfRecibo_obj + timedelta(days=d)).year) + '-' + str((limInfRecibo_obj + timedelta(days=d)).month) + '-' + \\\n",
    "    str((limInfRecibo_obj + timedelta(days=d)).day)\n",
    "    # ESTA LINEA NO SE EJECUTA EN PRODUCCION\n",
    "    print(fecha_str)\n",
    "    if (limInf_obj + timedelta(days=d)) in transacciones_90_dia_df.index:\n",
    "        num_recibos += 1\n",
    "        importe_recibos += transacciones_90_dia_df['IMPORTE'][str(limInf_obj + timedelta(days=d))[:10]]\n",
    "\n",
    "media_recibos = importe_recibos/num_recibos\n",
    "print('num_recibos: ' + str(num_recibos))\n",
    "print('importe_recibos: ' + str(importe_recibos))\n",
    "print('media: ' + str(media_recibos))"
   ]
  },
  {
   "cell_type": "code",
   "execution_count": 480,
   "id": "f72d190d",
   "metadata": {},
   "outputs": [
    {
     "name": "stdout",
     "output_type": "stream",
     "text": [
      "Te van a pasar el recibo del seguro médico aproximadamente el: 2019-1-1\n",
      "El valor medio del recibo los ultimos 3 meses fue de: 100 eur\n",
      "Aviso: True\n"
     ]
    }
   ],
   "source": [
    "# if para decidir si genero aviso\n",
    "\n",
    "base = 5\n",
    "\n",
    "if not(pagado) and current_date_obj == q1_obj:\n",
    "    aviso = True\n",
    "    print(\"Te van a pasar el recibo del seguro médico aproximadamente el: \" + stat_mode_str)\n",
    "    print(\"El valor medio del recibo los ultimos 3 meses fue de: \" + str(base*round(media_recibos/5)) + ' eur')\n",
    "else:\n",
    "    aviso = False\n",
    "\n",
    "print('Aviso: ' + str(aviso))"
   ]
  },
  {
   "cell_type": "code",
   "execution_count": null,
   "id": "84776df9",
   "metadata": {},
   "outputs": [],
   "source": []
  },
  {
   "cell_type": "code",
   "execution_count": null,
   "id": "4296ec0b",
   "metadata": {},
   "outputs": [],
   "source": []
  },
  {
   "cell_type": "code",
   "execution_count": null,
   "id": "1e911568",
   "metadata": {},
   "outputs": [],
   "source": []
  },
  {
   "cell_type": "code",
   "execution_count": null,
   "id": "11513190",
   "metadata": {},
   "outputs": [],
   "source": []
  },
  {
   "cell_type": "code",
   "execution_count": null,
   "id": "a337ad14",
   "metadata": {},
   "outputs": [],
   "source": []
  },
  {
   "cell_type": "code",
   "execution_count": 453,
   "id": "0544af93",
   "metadata": {},
   "outputs": [],
   "source": [
    "# vamos a avisar al usuario en q1 si le han pasado o no el seguro medico\n",
    "# el algoritmo chequea si le han pagado entre limInfObj y q1_obj +1\n",
    "\n",
    "# POR AQUI TE QUEDAS: calcular la media de los ultimos tres recibos haciendo una suma de recibos de los ultimos 3 meses \n",
    "# de la distribucion sumando cantidades y el numero de veces q habia cantidad"
   ]
  },
  {
   "cell_type": "code",
   "execution_count": 481,
   "id": "0fa30011",
   "metadata": {},
   "outputs": [],
   "source": [
    "# otra opcion es calcular la serie temporal de los recibos con prophet --> 1o haces una opcion y luego haces otra opcion\n",
    "\n",
    "# pero para usar prophet los valores con ceros mejor rellenalos con el ulimo valor anterior distinto de cero"
   ]
  },
  {
   "cell_type": "code",
   "execution_count": null,
   "id": "8a1bc63c",
   "metadata": {},
   "outputs": [],
   "source": []
  },
  {
   "cell_type": "code",
   "execution_count": null,
   "id": "297b2791",
   "metadata": {},
   "outputs": [],
   "source": []
  },
  {
   "cell_type": "code",
   "execution_count": null,
   "id": "4950db1f",
   "metadata": {},
   "outputs": [],
   "source": []
  },
  {
   "cell_type": "code",
   "execution_count": null,
   "id": "7f84588b",
   "metadata": {},
   "outputs": [],
   "source": []
  },
  {
   "cell_type": "code",
   "execution_count": null,
   "id": "893af6de",
   "metadata": {},
   "outputs": [],
   "source": []
  }
 ],
 "metadata": {
  "kernelspec": {
   "display_name": "Python 3",
   "language": "python",
   "name": "python3"
  },
  "language_info": {
   "codemirror_mode": {
    "name": "ipython",
    "version": 3
   },
   "file_extension": ".py",
   "mimetype": "text/x-python",
   "name": "python",
   "nbconvert_exporter": "python",
   "pygments_lexer": "ipython3",
   "version": "3.8.10"
  }
 },
 "nbformat": 4,
 "nbformat_minor": 5
}
