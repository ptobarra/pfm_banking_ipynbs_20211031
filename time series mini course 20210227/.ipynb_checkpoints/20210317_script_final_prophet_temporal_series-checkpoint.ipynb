{
 "cells": [
  {
   "cell_type": "code",
   "execution_count": 543,
   "id": "absent-bangkok",
   "metadata": {},
   "outputs": [],
   "source": [
    "import scipy\n",
    "import numpy\n",
    "import matplotlib\n",
    "import pandas\n",
    "import statsmodels\n",
    "import sklearn\n",
    "import fbprophet\n",
    "\n",
    "from pandas import read_csv, read_excel, date_range, RangeIndex, DataFrame, to_datetime, Grouper, concat, DatetimeIndex\n",
    "from pandas import to_numeric, DateOffset\n",
    "from pandas.plotting import lag_plot, scatter_matrix, autocorrelation_plot\n",
    "from datetime import datetime\n",
    "from matplotlib import pyplot\n",
    "from sklearn.metrics import mean_squared_error, mean_absolute_error\n",
    "from math import sqrt\n",
    "from statsmodels.graphics.tsaplots import plot_acf, plot_pacf\n",
    "from fbprophet import Prophet"
   ]
  },
  {
   "cell_type": "code",
   "execution_count": 544,
   "id": "thermal-logistics",
   "metadata": {},
   "outputs": [],
   "source": [
    "# Load data using read_excel\n",
    "transactions_df = read_excel('Cuenta_124075.xlsx', sheet_name='_select_TRANSACTION_DATE_cast_a')"
   ]
  },
  {
   "cell_type": "code",
   "execution_count": 545,
   "id": "recovered-rider",
   "metadata": {},
   "outputs": [],
   "source": [
    "balance_last_day_real = to_numeric(transactions_df.loc[[0],['BALANCE']].squeeze(), downcast='float')"
   ]
  },
  {
   "cell_type": "code",
   "execution_count": 546,
   "id": "czech-think",
   "metadata": {},
   "outputs": [],
   "source": [
    "transactions_df = transactions_df.iloc[:,0:2]"
   ]
  },
  {
   "cell_type": "code",
   "execution_count": 547,
   "id": "awful-vertical",
   "metadata": {},
   "outputs": [],
   "source": [
    "# agregamos las transacciones por dia"
   ]
  },
  {
   "cell_type": "code",
   "execution_count": 548,
   "id": "distributed-facial",
   "metadata": {},
   "outputs": [],
   "source": [
    "transactions_df=transactions_df.groupby(transactions_df.TRANSACTION_DATE).sum()"
   ]
  },
  {
   "cell_type": "code",
   "execution_count": 549,
   "id": "owned-management",
   "metadata": {},
   "outputs": [],
   "source": [
    "transactions_df.reset_index(level=0, inplace=True)"
   ]
  },
  {
   "cell_type": "code",
   "execution_count": 550,
   "id": "decimal-collectible",
   "metadata": {},
   "outputs": [],
   "source": [
    "range_of_dates = date_range(start=transactions_df.TRANSACTION_DATE.min(), end=transactions_df.TRANSACTION_DATE.max())"
   ]
  },
  {
   "cell_type": "code",
   "execution_count": 551,
   "id": "ongoing-butter",
   "metadata": {},
   "outputs": [],
   "source": [
    "# rellenamos los dias sin transacciones con el valor 0.00"
   ]
  },
  {
   "cell_type": "code",
   "execution_count": 552,
   "id": "occasional-programming",
   "metadata": {},
   "outputs": [],
   "source": [
    "transactions_df = \\\n",
    "transactions_df.set_index('TRANSACTION_DATE').reindex(range_of_dates).fillna(0.0).rename_axis('TRANSACTION_DATE').reset_index()"
   ]
  },
  {
   "cell_type": "code",
   "execution_count": 553,
   "id": "special-morgan",
   "metadata": {},
   "outputs": [],
   "source": [
    "transactions_df=transactions_df.set_index(transactions_df.iloc[:,0])"
   ]
  },
  {
   "cell_type": "code",
   "execution_count": 554,
   "id": "median-currency",
   "metadata": {},
   "outputs": [],
   "source": [
    "transactions_df=transactions_df.drop(['TRANSACTION_DATE'], axis = 1)"
   ]
  },
  {
   "cell_type": "code",
   "execution_count": 555,
   "id": "focal-principle",
   "metadata": {},
   "outputs": [],
   "source": [
    "# construimos el dataframe del balance de la cuenta"
   ]
  },
  {
   "cell_type": "code",
   "execution_count": 556,
   "id": "resistant-pitch",
   "metadata": {},
   "outputs": [],
   "source": [
    "balance_df=transactions_df.copy()"
   ]
  },
  {
   "cell_type": "code",
   "execution_count": 557,
   "id": "inside-implementation",
   "metadata": {},
   "outputs": [],
   "source": [
    "balance_df.reset_index(level=0, inplace=True)"
   ]
  },
  {
   "cell_type": "code",
   "execution_count": 558,
   "id": "accurate-luxury",
   "metadata": {},
   "outputs": [],
   "source": [
    "balance_df[\"DATE\"]=balance_df[\"TRANSACTION_DATE\"]"
   ]
  },
  {
   "cell_type": "code",
   "execution_count": 559,
   "id": "intermediate-istanbul",
   "metadata": {},
   "outputs": [],
   "source": [
    "balance_df[\"BALANCE\"]=0"
   ]
  },
  {
   "cell_type": "code",
   "execution_count": 560,
   "id": "sunset-chuck",
   "metadata": {},
   "outputs": [],
   "source": [
    "for i in range(balance_df.index[0],balance_df.index[-1]):\n",
    "    balance_df.loc[i+1,'BALANCE'] = balance_df.loc[i,'BALANCE'] + \\\n",
    "    balance_df.loc[i,'AMOUNT']"
   ]
  },
  {
   "cell_type": "code",
   "execution_count": 561,
   "id": "becoming-talent",
   "metadata": {},
   "outputs": [],
   "source": [
    "balance_df=balance_df.drop(['TRANSACTION_DATE','AMOUNT'], axis = 1)"
   ]
  },
  {
   "cell_type": "code",
   "execution_count": 562,
   "id": "otherwise-elite",
   "metadata": {},
   "outputs": [],
   "source": [
    "balance_df=balance_df.set_index(balance_df.iloc[:,0])"
   ]
  },
  {
   "cell_type": "code",
   "execution_count": 563,
   "id": "blind-wings",
   "metadata": {},
   "outputs": [],
   "source": [
    "balance_df=balance_df.drop(['DATE'], axis = 1)"
   ]
  },
  {
   "cell_type": "code",
   "execution_count": 564,
   "id": "dried-operations",
   "metadata": {},
   "outputs": [],
   "source": [
    "balance_last_day_fake = to_numeric(balance_df.iloc[-1:].squeeze(), downcast='float')"
   ]
  },
  {
   "cell_type": "code",
   "execution_count": 565,
   "id": "interpreted-capitol",
   "metadata": {},
   "outputs": [],
   "source": [
    "bias = balance_last_day_real - balance_last_day_fake"
   ]
  },
  {
   "cell_type": "code",
   "execution_count": 566,
   "id": "catholic-laser",
   "metadata": {},
   "outputs": [],
   "source": [
    "balance_df['BALANCE'] = balance_df['BALANCE'] + bias"
   ]
  },
  {
   "cell_type": "code",
   "execution_count": 567,
   "id": "permanent-beads",
   "metadata": {},
   "outputs": [],
   "source": [
    "# preparamos un dataframe prophet_df para entrenar un modelo"
   ]
  },
  {
   "cell_type": "code",
   "execution_count": 568,
   "id": "funny-preference",
   "metadata": {},
   "outputs": [],
   "source": [
    "prophet_df = balance_df.copy()"
   ]
  },
  {
   "cell_type": "code",
   "execution_count": 569,
   "id": "superb-implement",
   "metadata": {},
   "outputs": [],
   "source": [
    "prophet_df.reset_index(level=0, inplace=True)"
   ]
  },
  {
   "cell_type": "code",
   "execution_count": 570,
   "id": "latter-benjamin",
   "metadata": {},
   "outputs": [],
   "source": [
    "# prepare expected column names\n",
    "prophet_df.columns = ['ds', 'y']"
   ]
  },
  {
   "cell_type": "code",
   "execution_count": 571,
   "id": "otherwise-terry",
   "metadata": {},
   "outputs": [],
   "source": [
    "prophet_df['ds'] = to_datetime(prophet_df['ds'])"
   ]
  },
  {
   "cell_type": "code",
   "execution_count": 572,
   "id": "representative-dominican",
   "metadata": {},
   "outputs": [
    {
     "name": "stderr",
     "output_type": "stream",
     "text": [
      "INFO:fbprophet:Disabling daily seasonality. Run prophet with daily_seasonality=True to override this.\n"
     ]
    },
    {
     "data": {
      "text/plain": [
       "<fbprophet.forecaster.Prophet at 0x127cefef2e0>"
      ]
     },
     "execution_count": 572,
     "metadata": {},
     "output_type": "execute_result"
    }
   ],
   "source": [
    "# define the model\n",
    "model = Prophet()\n",
    "# fit the model\n",
    "model.fit(prophet_df)"
   ]
  },
  {
   "cell_type": "code",
   "execution_count": 573,
   "id": "initial-entity",
   "metadata": {},
   "outputs": [],
   "source": [
    "# HACEMOS UNA PREDICCION A 90 DIAS"
   ]
  },
  {
   "cell_type": "code",
   "execution_count": 574,
   "id": "classical-yacht",
   "metadata": {},
   "outputs": [],
   "source": [
    "# Make an Out-of-Sample Forecast"
   ]
  },
  {
   "cell_type": "code",
   "execution_count": 575,
   "id": "advanced-commander",
   "metadata": {},
   "outputs": [],
   "source": [
    "future_out_sample_df=prophet_df.copy()"
   ]
  },
  {
   "cell_type": "code",
   "execution_count": 576,
   "id": "induced-compound",
   "metadata": {},
   "outputs": [],
   "source": [
    "future_out_sample_df=future_out_sample_df.drop(['y'], axis = 1)"
   ]
  },
  {
   "cell_type": "code",
   "execution_count": 577,
   "id": "shaped-andorra",
   "metadata": {},
   "outputs": [],
   "source": [
    "future_out_sample_df=future_out_sample_df[-90:]"
   ]
  },
  {
   "cell_type": "code",
   "execution_count": 578,
   "id": "solved-antibody",
   "metadata": {},
   "outputs": [],
   "source": [
    "future_out_sample_df.reset_index(level=0, inplace=True)"
   ]
  },
  {
   "cell_type": "code",
   "execution_count": 579,
   "id": "structured-steal",
   "metadata": {},
   "outputs": [],
   "source": [
    "future_out_sample_df=future_out_sample_df.drop(['index'], axis = 1)"
   ]
  },
  {
   "cell_type": "code",
   "execution_count": 580,
   "id": "differential-advertising",
   "metadata": {},
   "outputs": [],
   "source": [
    "future_out_sample_df.iloc[0,0]=future_out_sample_df.iloc[-1,0] + DateOffset(1)"
   ]
  },
  {
   "cell_type": "code",
   "execution_count": 581,
   "id": "configured-occurrence",
   "metadata": {},
   "outputs": [],
   "source": [
    "for i in range(1,len(future_out_sample_df)):\n",
    "    future_out_sample_df.iloc[i,0]=future_out_sample_df.iloc[i-1,0] + DateOffset(1)    "
   ]
  },
  {
   "cell_type": "code",
   "execution_count": 582,
   "id": "valid-performer",
   "metadata": {},
   "outputs": [],
   "source": [
    "# use the model to make a forecast\n",
    "forecast_df = model.predict(future_out_sample_df)"
   ]
  },
  {
   "cell_type": "code",
   "execution_count": 583,
   "id": "worldwide-arkansas",
   "metadata": {},
   "outputs": [],
   "source": [
    "forecast_per_day_df = forecast_df.loc[:,['ds','yhat']]"
   ]
  },
  {
   "cell_type": "code",
   "execution_count": 584,
   "id": "south-company",
   "metadata": {},
   "outputs": [],
   "source": [
    "forecast_per_day_df.columns = ['DATE','BALANCE']"
   ]
  },
  {
   "cell_type": "code",
   "execution_count": 585,
   "id": "personal-messenger",
   "metadata": {},
   "outputs": [],
   "source": [
    "# a continuacion voy a hacer un dataframe con la prediccion del balance medio semanal de la cuenta a 90 dias"
   ]
  },
  {
   "cell_type": "code",
   "execution_count": 586,
   "id": "incorporated-northwest",
   "metadata": {},
   "outputs": [],
   "source": [
    "forecast_per_week_df=forecast_per_day_df.copy()"
   ]
  },
  {
   "cell_type": "code",
   "execution_count": 587,
   "id": "outer-oxford",
   "metadata": {},
   "outputs": [],
   "source": [
    "# Using a lambda function on apply.() to separate the year, month, day components"
   ]
  },
  {
   "cell_type": "code",
   "execution_count": 588,
   "id": "induced-apparatus",
   "metadata": {},
   "outputs": [
    {
     "data": {
      "text/plain": [
       "0    2021-02-10\n",
       "1    2021-02-11\n",
       "2    2021-02-12\n",
       "3    2021-02-13\n",
       "4    2021-02-14\n",
       "        ...    \n",
       "85   2021-05-06\n",
       "86   2021-05-07\n",
       "87   2021-05-08\n",
       "88   2021-05-09\n",
       "89   2021-05-10\n",
       "Name: DATE, Length: 90, dtype: datetime64[ns]"
      ]
     },
     "execution_count": 588,
     "metadata": {},
     "output_type": "execute_result"
    }
   ],
   "source": [
    "forecast_per_week_df['DATE'].apply(lambda forecast_per_week_df: datetime(year=forecast_per_week_df.year, \\\n",
    "                                                                         month=forecast_per_week_df.month, \\\n",
    "                                                                         day=forecast_per_week_df.day))"
   ]
  },
  {
   "cell_type": "code",
   "execution_count": 589,
   "id": "piano-helena",
   "metadata": {},
   "outputs": [],
   "source": [
    "# Set the date as the index"
   ]
  },
  {
   "cell_type": "code",
   "execution_count": 590,
   "id": "unique-mortality",
   "metadata": {},
   "outputs": [],
   "source": [
    "# convert the column (if it's a string) to datetime type\n",
    "datetime_ser = to_datetime(forecast_per_week_df['DATE'])"
   ]
  },
  {
   "cell_type": "code",
   "execution_count": 591,
   "id": "bizarre-prairie",
   "metadata": {},
   "outputs": [],
   "source": [
    "# create datetime index passing the datetime series\n",
    "datetime_index = DatetimeIndex(datetime_ser.values)"
   ]
  },
  {
   "cell_type": "code",
   "execution_count": 592,
   "id": "noted-hepatitis",
   "metadata": {},
   "outputs": [],
   "source": [
    "forecast_per_week_df=forecast_per_week_df.set_index(datetime_index)"
   ]
  },
  {
   "cell_type": "code",
   "execution_count": 593,
   "id": "technical-premises",
   "metadata": {},
   "outputs": [],
   "source": [
    "# we don't need the column DATE anymore\n",
    "forecast_per_week_df.drop('DATE', axis=1, inplace=True)"
   ]
  },
  {
   "cell_type": "code",
   "execution_count": 594,
   "id": "constitutional-graphic",
   "metadata": {},
   "outputs": [],
   "source": [
    "# Using resample() method to aggregate by weeks and add mean() to take the average"
   ]
  },
  {
   "cell_type": "code",
   "execution_count": 595,
   "id": "coordinate-landscape",
   "metadata": {},
   "outputs": [],
   "source": [
    "forecast_per_week_ser = forecast_per_week_df['BALANCE'].resample('W').mean()"
   ]
  },
  {
   "cell_type": "code",
   "execution_count": 599,
   "id": "asian-registrar",
   "metadata": {},
   "outputs": [],
   "source": [
    "# guardamos el resultado final en un fichero .csv"
   ]
  },
  {
   "cell_type": "code",
   "execution_count": 600,
   "id": "established-growth",
   "metadata": {},
   "outputs": [],
   "source": [
    "forecast_per_week_ser.to_csv(path_or_buf='forecast_per_week.csv')"
   ]
  },
  {
   "cell_type": "code",
   "execution_count": 601,
   "id": "academic-michigan",
   "metadata": {},
   "outputs": [],
   "source": [
    "# el script acabaría aqui y el siguiente paso es probar otro script donde se ejecute todo en una misma celda y por ultimo\n",
    "# grabarlo como un .ipynb y como un .py para ya debugearlo en pycharm en windows y en linux con su entorno hasta tenerlo todo\n",
    "# terminado y funcionando"
   ]
  },
  {
   "cell_type": "code",
   "execution_count": null,
   "id": "destroyed-survey",
   "metadata": {},
   "outputs": [],
   "source": []
  },
  {
   "cell_type": "code",
   "execution_count": null,
   "id": "understood-period",
   "metadata": {},
   "outputs": [],
   "source": []
  },
  {
   "cell_type": "code",
   "execution_count": null,
   "id": "intense-glossary",
   "metadata": {},
   "outputs": [],
   "source": []
  },
  {
   "cell_type": "code",
   "execution_count": 477,
   "id": "overhead-witch",
   "metadata": {},
   "outputs": [
    {
     "data": {
      "image/png": "[encoded data removed]",
      "text/plain": [
       "<Figure size 432x288 with 1 Axes>"
      ]
     },
     "metadata": {
      "needs_background": "light"
     },
     "output_type": "display_data"
    }
   ],
   "source": [
    "pyplot.plot(forecast_per_day_df)\n",
    "pyplot.show()"
   ]
  },
  {
   "cell_type": "code",
   "execution_count": 476,
   "id": "anonymous-respect",
   "metadata": {},
   "outputs": [
    {
     "data": {
      "image/png": "[encoded data removed]",
      "text/plain": [
       "<Figure size 432x288 with 1 Axes>"
      ]
     },
     "metadata": {
      "needs_background": "light"
     },
     "output_type": "display_data"
    }
   ],
   "source": [
    "pyplot.plot(forecast_per_week_df)\n",
    "pyplot.show()"
   ]
  },
  {
   "cell_type": "code",
   "execution_count": null,
   "id": "structured-karen",
   "metadata": {},
   "outputs": [],
   "source": []
  },
  {
   "cell_type": "code",
   "execution_count": 464,
   "id": "appreciated-genome",
   "metadata": {},
   "outputs": [
    {
     "data": {
      "text/plain": [
       "DatetimeIndex(['2021-02-10', '2021-02-11', '2021-02-12', '2021-02-13',\n",
       "               '2021-02-14', '2021-02-15', '2021-02-16', '2021-02-17',\n",
       "               '2021-02-18', '2021-02-19', '2021-02-20', '2021-02-21',\n",
       "               '2021-02-22', '2021-02-23', '2021-02-24', '2021-02-25',\n",
       "               '2021-02-26', '2021-02-27', '2021-02-28', '2021-03-01',\n",
       "               '2021-03-02', '2021-03-03', '2021-03-04', '2021-03-05',\n",
       "               '2021-03-06', '2021-03-07', '2021-03-08', '2021-03-09',\n",
       "               '2021-03-10', '2021-03-11', '2021-03-12', '2021-03-13',\n",
       "               '2021-03-14', '2021-03-15', '2021-03-16', '2021-03-17',\n",
       "               '2021-03-18', '2021-03-19', '2021-03-20', '2021-03-21',\n",
       "               '2021-03-22', '2021-03-23', '2021-03-24', '2021-03-25',\n",
       "               '2021-03-26', '2021-03-27', '2021-03-28', '2021-03-29',\n",
       "               '2021-03-30', '2021-03-31', '2021-04-01', '2021-04-02',\n",
       "               '2021-04-03', '2021-04-04', '2021-04-05', '2021-04-06',\n",
       "               '2021-04-07', '2021-04-08', '2021-04-09', '2021-04-10',\n",
       "               '2021-04-11', '2021-04-12', '2021-04-13', '2021-04-14',\n",
       "               '2021-04-15', '2021-04-16', '2021-04-17', '2021-04-18',\n",
       "               '2021-04-19', '2021-04-20', '2021-04-21', '2021-04-22',\n",
       "               '2021-04-23', '2021-04-24', '2021-04-25', '2021-04-26',\n",
       "               '2021-04-27', '2021-04-28', '2021-04-29', '2021-04-30',\n",
       "               '2021-05-01', '2021-05-02', '2021-05-03', '2021-05-04',\n",
       "               '2021-05-05', '2021-05-06', '2021-05-07', '2021-05-08',\n",
       "               '2021-05-09', '2021-05-10'],\n",
       "              dtype='datetime64[ns]', freq=None)"
      ]
     },
     "execution_count": 464,
     "metadata": {},
     "output_type": "execute_result"
    }
   ],
   "source": [
    "datetime_index"
   ]
  },
  {
   "cell_type": "code",
   "execution_count": 461,
   "id": "expected-superintendent",
   "metadata": {},
   "outputs": [
    {
     "data": {
      "text/plain": [
       "0    2021-02-10\n",
       "1    2021-02-11\n",
       "2    2021-02-12\n",
       "3    2021-02-13\n",
       "4    2021-02-14\n",
       "        ...    \n",
       "85   2021-05-06\n",
       "86   2021-05-07\n",
       "87   2021-05-08\n",
       "88   2021-05-09\n",
       "89   2021-05-10\n",
       "Name: DATE, Length: 90, dtype: datetime64[ns]"
      ]
     },
     "execution_count": 461,
     "metadata": {},
     "output_type": "execute_result"
    }
   ],
   "source": [
    "datetime_ser"
   ]
  },
  {
   "cell_type": "code",
   "execution_count": 598,
   "id": "nonprofit-access",
   "metadata": {},
   "outputs": [
    {
     "data": {
      "text/plain": [
       "2021-02-14    14192.072542\n",
       "2021-02-21    17766.959213\n",
       "2021-02-28    18968.671858\n",
       "2021-03-07    17110.340628\n",
       "2021-03-14    13382.246019\n",
       "2021-03-21     9672.042658\n",
       "2021-03-28     7760.011270\n",
       "2021-04-04     7760.273524\n",
       "2021-04-11     7416.942256\n",
       "2021-04-18     3922.865319\n",
       "2021-04-25    -2809.050323\n",
       "2021-05-02    -8879.868581\n",
       "2021-05-09    -9189.386921\n",
       "2021-05-16    -5926.503716\n",
       "Freq: W-SUN, Name: BALANCE, dtype: float64"
      ]
     },
     "execution_count": 598,
     "metadata": {},
     "output_type": "execute_result"
    }
   ],
   "source": [
    "forecast_per_week_ser"
   ]
  },
  {
   "cell_type": "code",
   "execution_count": 596,
   "id": "christian-guess",
   "metadata": {},
   "outputs": [
    {
     "data": {
      "text/html": [
       "<div>\n",
       "<style scoped>\n",
       "    .dataframe tbody tr th:only-of-type {\n",
       "        vertical-align: middle;\n",
       "    }\n",
       "\n",
       "    .dataframe tbody tr th {\n",
       "        vertical-align: top;\n",
       "    }\n",
       "\n",
       "    .dataframe thead th {\n",
       "        text-align: right;\n",
       "    }\n",
       "</style>\n",
       "<table border=\"1\" class=\"dataframe\">\n",
       "  <thead>\n",
       "    <tr style=\"text-align: right;\">\n",
       "      <th></th>\n",
       "      <th>BALANCE</th>\n",
       "    </tr>\n",
       "  </thead>\n",
       "  <tbody>\n",
       "    <tr>\n",
       "      <th>2021-02-10</th>\n",
       "      <td>12289.183748</td>\n",
       "    </tr>\n",
       "    <tr>\n",
       "      <th>2021-02-11</th>\n",
       "      <td>12900.885477</td>\n",
       "    </tr>\n",
       "    <tr>\n",
       "      <th>2021-02-12</th>\n",
       "      <td>14503.528761</td>\n",
       "    </tr>\n",
       "    <tr>\n",
       "      <th>2021-02-13</th>\n",
       "      <td>15275.060359</td>\n",
       "    </tr>\n",
       "    <tr>\n",
       "      <th>2021-02-14</th>\n",
       "      <td>15991.704366</td>\n",
       "    </tr>\n",
       "    <tr>\n",
       "      <th>...</th>\n",
       "      <td>...</td>\n",
       "    </tr>\n",
       "    <tr>\n",
       "      <th>2021-05-06</th>\n",
       "      <td>-10045.794758</td>\n",
       "    </tr>\n",
       "    <tr>\n",
       "      <th>2021-05-07</th>\n",
       "      <td>-8647.722828</td>\n",
       "    </tr>\n",
       "    <tr>\n",
       "      <th>2021-05-08</th>\n",
       "      <td>-7871.022681</td>\n",
       "    </tr>\n",
       "    <tr>\n",
       "      <th>2021-05-09</th>\n",
       "      <td>-6940.728323</td>\n",
       "    </tr>\n",
       "    <tr>\n",
       "      <th>2021-05-10</th>\n",
       "      <td>-5926.503716</td>\n",
       "    </tr>\n",
       "  </tbody>\n",
       "</table>\n",
       "<p>90 rows × 1 columns</p>\n",
       "</div>"
      ],
      "text/plain": [
       "                 BALANCE\n",
       "2021-02-10  12289.183748\n",
       "2021-02-11  12900.885477\n",
       "2021-02-12  14503.528761\n",
       "2021-02-13  15275.060359\n",
       "2021-02-14  15991.704366\n",
       "...                  ...\n",
       "2021-05-06 -10045.794758\n",
       "2021-05-07  -8647.722828\n",
       "2021-05-08  -7871.022681\n",
       "2021-05-09  -6940.728323\n",
       "2021-05-10  -5926.503716\n",
       "\n",
       "[90 rows x 1 columns]"
      ]
     },
     "execution_count": 596,
     "metadata": {},
     "output_type": "execute_result"
    }
   ],
   "source": [
    "forecast_per_week_df"
   ]
  },
  {
   "cell_type": "code",
   "execution_count": 475,
   "id": "novel-discipline",
   "metadata": {},
   "outputs": [
    {
     "data": {
      "text/plain": [
       "(14,)"
      ]
     },
     "execution_count": 475,
     "metadata": {},
     "output_type": "execute_result"
    }
   ],
   "source": [
    "forecast_per_week_df.shape"
   ]
  },
  {
   "cell_type": "code",
   "execution_count": 474,
   "id": "optimum-prize",
   "metadata": {},
   "outputs": [
    {
     "data": {
      "text/plain": [
       "dtype('float64')"
      ]
     },
     "execution_count": 474,
     "metadata": {},
     "output_type": "execute_result"
    }
   ],
   "source": [
    "forecast_per_week_df.dtypes"
   ]
  },
  {
   "cell_type": "code",
   "execution_count": 471,
   "id": "metropolitan-compression",
   "metadata": {},
   "outputs": [
    {
     "data": {
      "text/plain": [
       "DatetimeIndex(['2021-02-10', '2021-02-11', '2021-02-12', '2021-02-13',\n",
       "               '2021-02-14', '2021-02-15', '2021-02-16', '2021-02-17',\n",
       "               '2021-02-18', '2021-02-19', '2021-02-20', '2021-02-21',\n",
       "               '2021-02-22', '2021-02-23', '2021-02-24', '2021-02-25',\n",
       "               '2021-02-26', '2021-02-27', '2021-02-28', '2021-03-01',\n",
       "               '2021-03-02', '2021-03-03', '2021-03-04', '2021-03-05',\n",
       "               '2021-03-06', '2021-03-07', '2021-03-08', '2021-03-09',\n",
       "               '2021-03-10', '2021-03-11', '2021-03-12', '2021-03-13',\n",
       "               '2021-03-14', '2021-03-15', '2021-03-16', '2021-03-17',\n",
       "               '2021-03-18', '2021-03-19', '2021-03-20', '2021-03-21',\n",
       "               '2021-03-22', '2021-03-23', '2021-03-24', '2021-03-25',\n",
       "               '2021-03-26', '2021-03-27', '2021-03-28', '2021-03-29',\n",
       "               '2021-03-30', '2021-03-31', '2021-04-01', '2021-04-02',\n",
       "               '2021-04-03', '2021-04-04', '2021-04-05', '2021-04-06',\n",
       "               '2021-04-07', '2021-04-08', '2021-04-09', '2021-04-10',\n",
       "               '2021-04-11', '2021-04-12', '2021-04-13', '2021-04-14',\n",
       "               '2021-04-15', '2021-04-16', '2021-04-17', '2021-04-18',\n",
       "               '2021-04-19', '2021-04-20', '2021-04-21', '2021-04-22',\n",
       "               '2021-04-23', '2021-04-24', '2021-04-25', '2021-04-26',\n",
       "               '2021-04-27', '2021-04-28', '2021-04-29', '2021-04-30',\n",
       "               '2021-05-01', '2021-05-02', '2021-05-03', '2021-05-04',\n",
       "               '2021-05-05', '2021-05-06', '2021-05-07', '2021-05-08',\n",
       "               '2021-05-09', '2021-05-10'],\n",
       "              dtype='datetime64[ns]', freq=None)"
      ]
     },
     "execution_count": 471,
     "metadata": {},
     "output_type": "execute_result"
    }
   ],
   "source": [
    "forecast_per_week_df.index"
   ]
  },
  {
   "cell_type": "code",
   "execution_count": 446,
   "id": "equipped-jewelry",
   "metadata": {},
   "outputs": [
    {
     "data": {
      "text/html": [
       "<div>\n",
       "<style scoped>\n",
       "    .dataframe tbody tr th:only-of-type {\n",
       "        vertical-align: middle;\n",
       "    }\n",
       "\n",
       "    .dataframe tbody tr th {\n",
       "        vertical-align: top;\n",
       "    }\n",
       "\n",
       "    .dataframe thead th {\n",
       "        text-align: right;\n",
       "    }\n",
       "</style>\n",
       "<table border=\"1\" class=\"dataframe\">\n",
       "  <thead>\n",
       "    <tr style=\"text-align: right;\">\n",
       "      <th></th>\n",
       "      <th>DATE</th>\n",
       "      <th>BALANCE</th>\n",
       "    </tr>\n",
       "  </thead>\n",
       "  <tbody>\n",
       "    <tr>\n",
       "      <th>0</th>\n",
       "      <td>2021-02-10</td>\n",
       "      <td>12289.183748</td>\n",
       "    </tr>\n",
       "    <tr>\n",
       "      <th>1</th>\n",
       "      <td>2021-02-11</td>\n",
       "      <td>12900.885477</td>\n",
       "    </tr>\n",
       "    <tr>\n",
       "      <th>2</th>\n",
       "      <td>2021-02-12</td>\n",
       "      <td>14503.528761</td>\n",
       "    </tr>\n",
       "    <tr>\n",
       "      <th>3</th>\n",
       "      <td>2021-02-13</td>\n",
       "      <td>15275.060359</td>\n",
       "    </tr>\n",
       "    <tr>\n",
       "      <th>4</th>\n",
       "      <td>2021-02-14</td>\n",
       "      <td>15991.704366</td>\n",
       "    </tr>\n",
       "    <tr>\n",
       "      <th>...</th>\n",
       "      <td>...</td>\n",
       "      <td>...</td>\n",
       "    </tr>\n",
       "    <tr>\n",
       "      <th>85</th>\n",
       "      <td>2021-05-06</td>\n",
       "      <td>-10045.794758</td>\n",
       "    </tr>\n",
       "    <tr>\n",
       "      <th>86</th>\n",
       "      <td>2021-05-07</td>\n",
       "      <td>-8647.722828</td>\n",
       "    </tr>\n",
       "    <tr>\n",
       "      <th>87</th>\n",
       "      <td>2021-05-08</td>\n",
       "      <td>-7871.022681</td>\n",
       "    </tr>\n",
       "    <tr>\n",
       "      <th>88</th>\n",
       "      <td>2021-05-09</td>\n",
       "      <td>-6940.728323</td>\n",
       "    </tr>\n",
       "    <tr>\n",
       "      <th>89</th>\n",
       "      <td>2021-05-10</td>\n",
       "      <td>-5926.503716</td>\n",
       "    </tr>\n",
       "  </tbody>\n",
       "</table>\n",
       "<p>90 rows × 2 columns</p>\n",
       "</div>"
      ],
      "text/plain": [
       "         DATE       BALANCE\n",
       "0  2021-02-10  12289.183748\n",
       "1  2021-02-11  12900.885477\n",
       "2  2021-02-12  14503.528761\n",
       "3  2021-02-13  15275.060359\n",
       "4  2021-02-14  15991.704366\n",
       "..        ...           ...\n",
       "85 2021-05-06 -10045.794758\n",
       "86 2021-05-07  -8647.722828\n",
       "87 2021-05-08  -7871.022681\n",
       "88 2021-05-09  -6940.728323\n",
       "89 2021-05-10  -5926.503716\n",
       "\n",
       "[90 rows x 2 columns]"
      ]
     },
     "execution_count": 446,
     "metadata": {},
     "output_type": "execute_result"
    }
   ],
   "source": [
    "forecast_per_day_df"
   ]
  },
  {
   "cell_type": "code",
   "execution_count": null,
   "id": "alien-metropolitan",
   "metadata": {},
   "outputs": [],
   "source": []
  },
  {
   "cell_type": "code",
   "execution_count": null,
   "id": "ranging-sheriff",
   "metadata": {},
   "outputs": [],
   "source": []
  },
  {
   "cell_type": "code",
   "execution_count": null,
   "id": "executive-memorabilia",
   "metadata": {},
   "outputs": [],
   "source": []
  },
  {
   "cell_type": "code",
   "execution_count": null,
   "id": "junior-darwin",
   "metadata": {},
   "outputs": [],
   "source": []
  },
  {
   "cell_type": "code",
   "execution_count": null,
   "id": "informal-registration",
   "metadata": {},
   "outputs": [],
   "source": []
  },
  {
   "cell_type": "code",
   "execution_count": null,
   "id": "spare-haven",
   "metadata": {},
   "outputs": [],
   "source": []
  },
  {
   "cell_type": "code",
   "execution_count": null,
   "id": "pacific-scenario",
   "metadata": {},
   "outputs": [],
   "source": []
  },
  {
   "cell_type": "code",
   "execution_count": 424,
   "id": "criminal-pioneer",
   "metadata": {},
   "outputs": [],
   "source": [
    "future_in_out_sample_df=future_in_sample_df.copy()"
   ]
  },
  {
   "cell_type": "code",
   "execution_count": 431,
   "id": "personalized-turkey",
   "metadata": {},
   "outputs": [],
   "source": [
    "future_in_out_sample_df=future_in_out_sample_df.append(future_out_sample_df)"
   ]
  },
  {
   "cell_type": "code",
   "execution_count": 433,
   "id": "extended-apache",
   "metadata": {},
   "outputs": [],
   "source": [
    "future_in_out_sample_df.reset_index(level=0, inplace=True)"
   ]
  },
  {
   "cell_type": "code",
   "execution_count": 435,
   "id": "familiar-checklist",
   "metadata": {},
   "outputs": [],
   "source": [
    "future_in_out_sample_df=future_in_out_sample_df.drop(['index'], axis = 1)"
   ]
  },
  {
   "cell_type": "code",
   "execution_count": 437,
   "id": "unknown-carnival",
   "metadata": {},
   "outputs": [],
   "source": [
    "# use the model to make a forecast\n",
    "forecast_in_out_sample_df = model.predict(future_in_out_sample_df)"
   ]
  },
  {
   "cell_type": "code",
   "execution_count": 438,
   "id": "burning-penny",
   "metadata": {},
   "outputs": [
    {
     "data": {
      "image/png": "[encoded data removed]",
      "text/plain": [
       "<Figure size 720x432 with 1 Axes>"
      ]
     },
     "metadata": {},
     "output_type": "display_data"
    }
   ],
   "source": [
    "# plot forecast\n",
    "model.plot(forecast_in_out_sample_df)\n",
    "pyplot.show()"
   ]
  },
  {
   "cell_type": "code",
   "execution_count": 436,
   "id": "dated-florida",
   "metadata": {},
   "outputs": [
    {
     "data": {
      "text/html": [
       "<div>\n",
       "<style scoped>\n",
       "    .dataframe tbody tr th:only-of-type {\n",
       "        vertical-align: middle;\n",
       "    }\n",
       "\n",
       "    .dataframe tbody tr th {\n",
       "        vertical-align: top;\n",
       "    }\n",
       "\n",
       "    .dataframe thead th {\n",
       "        text-align: right;\n",
       "    }\n",
       "</style>\n",
       "<table border=\"1\" class=\"dataframe\">\n",
       "  <thead>\n",
       "    <tr style=\"text-align: right;\">\n",
       "      <th></th>\n",
       "      <th>ds</th>\n",
       "    </tr>\n",
       "  </thead>\n",
       "  <tbody>\n",
       "    <tr>\n",
       "      <th>0</th>\n",
       "      <td>2014-03-03</td>\n",
       "    </tr>\n",
       "    <tr>\n",
       "      <th>1</th>\n",
       "      <td>2014-03-04</td>\n",
       "    </tr>\n",
       "    <tr>\n",
       "      <th>2</th>\n",
       "      <td>2014-03-05</td>\n",
       "    </tr>\n",
       "    <tr>\n",
       "      <th>3</th>\n",
       "      <td>2014-03-06</td>\n",
       "    </tr>\n",
       "    <tr>\n",
       "      <th>4</th>\n",
       "      <td>2014-03-07</td>\n",
       "    </tr>\n",
       "    <tr>\n",
       "      <th>...</th>\n",
       "      <td>...</td>\n",
       "    </tr>\n",
       "    <tr>\n",
       "      <th>2621</th>\n",
       "      <td>2021-05-06</td>\n",
       "    </tr>\n",
       "    <tr>\n",
       "      <th>2622</th>\n",
       "      <td>2021-05-07</td>\n",
       "    </tr>\n",
       "    <tr>\n",
       "      <th>2623</th>\n",
       "      <td>2021-05-08</td>\n",
       "    </tr>\n",
       "    <tr>\n",
       "      <th>2624</th>\n",
       "      <td>2021-05-09</td>\n",
       "    </tr>\n",
       "    <tr>\n",
       "      <th>2625</th>\n",
       "      <td>2021-05-10</td>\n",
       "    </tr>\n",
       "  </tbody>\n",
       "</table>\n",
       "<p>2626 rows × 1 columns</p>\n",
       "</div>"
      ],
      "text/plain": [
       "             ds\n",
       "0    2014-03-03\n",
       "1    2014-03-04\n",
       "2    2014-03-05\n",
       "3    2014-03-06\n",
       "4    2014-03-07\n",
       "...         ...\n",
       "2621 2021-05-06\n",
       "2622 2021-05-07\n",
       "2623 2021-05-08\n",
       "2624 2021-05-09\n",
       "2625 2021-05-10\n",
       "\n",
       "[2626 rows x 1 columns]"
      ]
     },
     "execution_count": 436,
     "metadata": {},
     "output_type": "execute_result"
    }
   ],
   "source": [
    "future_in_out_sample_df"
   ]
  },
  {
   "cell_type": "code",
   "execution_count": 440,
   "id": "republican-baking",
   "metadata": {},
   "outputs": [
    {
     "data": {
      "text/html": [
       "<div>\n",
       "<style scoped>\n",
       "    .dataframe tbody tr th:only-of-type {\n",
       "        vertical-align: middle;\n",
       "    }\n",
       "\n",
       "    .dataframe tbody tr th {\n",
       "        vertical-align: top;\n",
       "    }\n",
       "\n",
       "    .dataframe thead th {\n",
       "        text-align: right;\n",
       "    }\n",
       "</style>\n",
       "<table border=\"1\" class=\"dataframe\">\n",
       "  <thead>\n",
       "    <tr style=\"text-align: right;\">\n",
       "      <th></th>\n",
       "      <th>ds</th>\n",
       "      <th>yhat</th>\n",
       "      <th>yhat_lower</th>\n",
       "      <th>yhat_upper</th>\n",
       "    </tr>\n",
       "  </thead>\n",
       "  <tbody>\n",
       "    <tr>\n",
       "      <th>0</th>\n",
       "      <td>2014-03-03</td>\n",
       "      <td>47604.742696</td>\n",
       "      <td>6575.624015</td>\n",
       "      <td>87476.580622</td>\n",
       "    </tr>\n",
       "    <tr>\n",
       "      <th>1</th>\n",
       "      <td>2014-03-04</td>\n",
       "      <td>46843.721980</td>\n",
       "      <td>10632.100871</td>\n",
       "      <td>83832.488457</td>\n",
       "    </tr>\n",
       "    <tr>\n",
       "      <th>2</th>\n",
       "      <td>2014-03-05</td>\n",
       "      <td>46530.989843</td>\n",
       "      <td>8829.593458</td>\n",
       "      <td>85592.995156</td>\n",
       "    </tr>\n",
       "    <tr>\n",
       "      <th>3</th>\n",
       "      <td>2014-03-06</td>\n",
       "      <td>45965.004422</td>\n",
       "      <td>6943.788304</td>\n",
       "      <td>86619.450748</td>\n",
       "    </tr>\n",
       "    <tr>\n",
       "      <th>4</th>\n",
       "      <td>2014-03-07</td>\n",
       "      <td>46398.603801</td>\n",
       "      <td>8897.609025</td>\n",
       "      <td>81617.358910</td>\n",
       "    </tr>\n",
       "    <tr>\n",
       "      <th>...</th>\n",
       "      <td>...</td>\n",
       "      <td>...</td>\n",
       "      <td>...</td>\n",
       "      <td>...</td>\n",
       "    </tr>\n",
       "    <tr>\n",
       "      <th>2621</th>\n",
       "      <td>2021-05-06</td>\n",
       "      <td>-10045.794758</td>\n",
       "      <td>-49696.075753</td>\n",
       "      <td>29193.097140</td>\n",
       "    </tr>\n",
       "    <tr>\n",
       "      <th>2622</th>\n",
       "      <td>2021-05-07</td>\n",
       "      <td>-8647.722828</td>\n",
       "      <td>-45657.929698</td>\n",
       "      <td>30683.603520</td>\n",
       "    </tr>\n",
       "    <tr>\n",
       "      <th>2623</th>\n",
       "      <td>2021-05-08</td>\n",
       "      <td>-7871.022681</td>\n",
       "      <td>-48561.234376</td>\n",
       "      <td>28794.090504</td>\n",
       "    </tr>\n",
       "    <tr>\n",
       "      <th>2624</th>\n",
       "      <td>2021-05-09</td>\n",
       "      <td>-6940.728323</td>\n",
       "      <td>-47182.505650</td>\n",
       "      <td>29872.209482</td>\n",
       "    </tr>\n",
       "    <tr>\n",
       "      <th>2625</th>\n",
       "      <td>2021-05-10</td>\n",
       "      <td>-5926.503716</td>\n",
       "      <td>-41413.629726</td>\n",
       "      <td>31751.537932</td>\n",
       "    </tr>\n",
       "  </tbody>\n",
       "</table>\n",
       "<p>2626 rows × 4 columns</p>\n",
       "</div>"
      ],
      "text/plain": [
       "             ds          yhat    yhat_lower    yhat_upper\n",
       "0    2014-03-03  47604.742696   6575.624015  87476.580622\n",
       "1    2014-03-04  46843.721980  10632.100871  83832.488457\n",
       "2    2014-03-05  46530.989843   8829.593458  85592.995156\n",
       "3    2014-03-06  45965.004422   6943.788304  86619.450748\n",
       "4    2014-03-07  46398.603801   8897.609025  81617.358910\n",
       "...         ...           ...           ...           ...\n",
       "2621 2021-05-06 -10045.794758 -49696.075753  29193.097140\n",
       "2622 2021-05-07  -8647.722828 -45657.929698  30683.603520\n",
       "2623 2021-05-08  -7871.022681 -48561.234376  28794.090504\n",
       "2624 2021-05-09  -6940.728323 -47182.505650  29872.209482\n",
       "2625 2021-05-10  -5926.503716 -41413.629726  31751.537932\n",
       "\n",
       "[2626 rows x 4 columns]"
      ]
     },
     "execution_count": 440,
     "metadata": {},
     "output_type": "execute_result"
    }
   ],
   "source": [
    "forecast_in_out_sample_df[['ds', 'yhat', 'yhat_lower', 'yhat_upper']]"
   ]
  },
  {
   "cell_type": "code",
   "execution_count": null,
   "id": "pressed-search",
   "metadata": {},
   "outputs": [],
   "source": []
  },
  {
   "cell_type": "code",
   "execution_count": null,
   "id": "everyday-coaching",
   "metadata": {},
   "outputs": [],
   "source": []
  },
  {
   "cell_type": "code",
   "execution_count": null,
   "id": "confident-opening",
   "metadata": {},
   "outputs": [],
   "source": []
  },
  {
   "cell_type": "code",
   "execution_count": null,
   "id": "awful-detective",
   "metadata": {},
   "outputs": [],
   "source": []
  },
  {
   "cell_type": "code",
   "execution_count": null,
   "id": "occupational-winter",
   "metadata": {},
   "outputs": [],
   "source": []
  },
  {
   "cell_type": "code",
   "execution_count": 410,
   "id": "defined-aggregate",
   "metadata": {},
   "outputs": [
    {
     "data": {
      "text/html": [
       "<div>\n",
       "<style scoped>\n",
       "    .dataframe tbody tr th:only-of-type {\n",
       "        vertical-align: middle;\n",
       "    }\n",
       "\n",
       "    .dataframe tbody tr th {\n",
       "        vertical-align: top;\n",
       "    }\n",
       "\n",
       "    .dataframe thead th {\n",
       "        text-align: right;\n",
       "    }\n",
       "</style>\n",
       "<table border=\"1\" class=\"dataframe\">\n",
       "  <thead>\n",
       "    <tr style=\"text-align: right;\">\n",
       "      <th></th>\n",
       "      <th>ds</th>\n",
       "    </tr>\n",
       "  </thead>\n",
       "  <tbody>\n",
       "    <tr>\n",
       "      <th>0</th>\n",
       "      <td>2021-02-10</td>\n",
       "    </tr>\n",
       "    <tr>\n",
       "      <th>1</th>\n",
       "      <td>2021-02-11</td>\n",
       "    </tr>\n",
       "    <tr>\n",
       "      <th>2</th>\n",
       "      <td>2021-02-12</td>\n",
       "    </tr>\n",
       "    <tr>\n",
       "      <th>3</th>\n",
       "      <td>2021-02-13</td>\n",
       "    </tr>\n",
       "    <tr>\n",
       "      <th>4</th>\n",
       "      <td>2021-02-14</td>\n",
       "    </tr>\n",
       "    <tr>\n",
       "      <th>...</th>\n",
       "      <td>...</td>\n",
       "    </tr>\n",
       "    <tr>\n",
       "      <th>85</th>\n",
       "      <td>2021-05-06</td>\n",
       "    </tr>\n",
       "    <tr>\n",
       "      <th>86</th>\n",
       "      <td>2021-05-07</td>\n",
       "    </tr>\n",
       "    <tr>\n",
       "      <th>87</th>\n",
       "      <td>2021-05-08</td>\n",
       "    </tr>\n",
       "    <tr>\n",
       "      <th>88</th>\n",
       "      <td>2021-05-09</td>\n",
       "    </tr>\n",
       "    <tr>\n",
       "      <th>89</th>\n",
       "      <td>2021-05-10</td>\n",
       "    </tr>\n",
       "  </tbody>\n",
       "</table>\n",
       "<p>90 rows × 1 columns</p>\n",
       "</div>"
      ],
      "text/plain": [
       "           ds\n",
       "0  2021-02-10\n",
       "1  2021-02-11\n",
       "2  2021-02-12\n",
       "3  2021-02-13\n",
       "4  2021-02-14\n",
       "..        ...\n",
       "85 2021-05-06\n",
       "86 2021-05-07\n",
       "87 2021-05-08\n",
       "88 2021-05-09\n",
       "89 2021-05-10\n",
       "\n",
       "[90 rows x 1 columns]"
      ]
     },
     "execution_count": 410,
     "metadata": {},
     "output_type": "execute_result"
    }
   ],
   "source": [
    "future_out_sample_df"
   ]
  },
  {
   "cell_type": "code",
   "execution_count": 411,
   "id": "hidden-jamaica",
   "metadata": {},
   "outputs": [
    {
     "data": {
      "text/plain": [
       "ds    datetime64[ns]\n",
       "dtype: object"
      ]
     },
     "execution_count": 411,
     "metadata": {},
     "output_type": "execute_result"
    }
   ],
   "source": [
    "future_out_sample_df.dtypes"
   ]
  },
  {
   "cell_type": "code",
   "execution_count": 421,
   "id": "ongoing-crime",
   "metadata": {},
   "outputs": [
    {
     "data": {
      "text/html": [
       "<div>\n",
       "<style scoped>\n",
       "    .dataframe tbody tr th:only-of-type {\n",
       "        vertical-align: middle;\n",
       "    }\n",
       "\n",
       "    .dataframe tbody tr th {\n",
       "        vertical-align: top;\n",
       "    }\n",
       "\n",
       "    .dataframe thead th {\n",
       "        text-align: right;\n",
       "    }\n",
       "</style>\n",
       "<table border=\"1\" class=\"dataframe\">\n",
       "  <thead>\n",
       "    <tr style=\"text-align: right;\">\n",
       "      <th></th>\n",
       "      <th>ds</th>\n",
       "      <th>trend</th>\n",
       "      <th>yhat_lower</th>\n",
       "      <th>yhat_upper</th>\n",
       "      <th>trend_lower</th>\n",
       "      <th>trend_upper</th>\n",
       "      <th>additive_terms</th>\n",
       "      <th>additive_terms_lower</th>\n",
       "      <th>additive_terms_upper</th>\n",
       "      <th>weekly</th>\n",
       "      <th>weekly_lower</th>\n",
       "      <th>weekly_upper</th>\n",
       "      <th>yearly</th>\n",
       "      <th>yearly_lower</th>\n",
       "      <th>yearly_upper</th>\n",
       "      <th>multiplicative_terms</th>\n",
       "      <th>multiplicative_terms_lower</th>\n",
       "      <th>multiplicative_terms_upper</th>\n",
       "      <th>yhat</th>\n",
       "    </tr>\n",
       "  </thead>\n",
       "  <tbody>\n",
       "    <tr>\n",
       "      <th>0</th>\n",
       "      <td>2021-02-10</td>\n",
       "      <td>4370.920982</td>\n",
       "      <td>-25915.528464</td>\n",
       "      <td>50213.218646</td>\n",
       "      <td>4370.920982</td>\n",
       "      <td>4370.920982</td>\n",
       "      <td>7918.262766</td>\n",
       "      <td>7918.262766</td>\n",
       "      <td>7918.262766</td>\n",
       "      <td>-288.577537</td>\n",
       "      <td>-288.577537</td>\n",
       "      <td>-288.577537</td>\n",
       "      <td>8206.840304</td>\n",
       "      <td>8206.840304</td>\n",
       "      <td>8206.840304</td>\n",
       "      <td>0.0</td>\n",
       "      <td>0.0</td>\n",
       "      <td>0.0</td>\n",
       "      <td>12289.183748</td>\n",
       "    </tr>\n",
       "    <tr>\n",
       "      <th>1</th>\n",
       "      <td>2021-02-11</td>\n",
       "      <td>4311.816516</td>\n",
       "      <td>-25960.222552</td>\n",
       "      <td>52011.775155</td>\n",
       "      <td>4311.816516</td>\n",
       "      <td>4311.816516</td>\n",
       "      <td>8589.068961</td>\n",
       "      <td>8589.068961</td>\n",
       "      <td>8589.068961</td>\n",
       "      <td>-524.549801</td>\n",
       "      <td>-524.549801</td>\n",
       "      <td>-524.549801</td>\n",
       "      <td>9113.618763</td>\n",
       "      <td>9113.618763</td>\n",
       "      <td>9113.618763</td>\n",
       "      <td>0.0</td>\n",
       "      <td>0.0</td>\n",
       "      <td>0.0</td>\n",
       "      <td>12900.885477</td>\n",
       "    </tr>\n",
       "    <tr>\n",
       "      <th>2</th>\n",
       "      <td>2021-02-12</td>\n",
       "      <td>4252.712051</td>\n",
       "      <td>-22638.674005</td>\n",
       "      <td>54184.761890</td>\n",
       "      <td>4252.712051</td>\n",
       "      <td>4252.712051</td>\n",
       "      <td>10250.816710</td>\n",
       "      <td>10250.816710</td>\n",
       "      <td>10250.816710</td>\n",
       "      <td>270.434389</td>\n",
       "      <td>270.434389</td>\n",
       "      <td>270.434389</td>\n",
       "      <td>9980.382321</td>\n",
       "      <td>9980.382321</td>\n",
       "      <td>9980.382321</td>\n",
       "      <td>0.0</td>\n",
       "      <td>0.0</td>\n",
       "      <td>0.0</td>\n",
       "      <td>14503.528761</td>\n",
       "    </tr>\n",
       "    <tr>\n",
       "      <th>3</th>\n",
       "      <td>2021-02-13</td>\n",
       "      <td>4193.607585</td>\n",
       "      <td>-22205.465369</td>\n",
       "      <td>53409.831639</td>\n",
       "      <td>4193.607585</td>\n",
       "      <td>4193.607585</td>\n",
       "      <td>11081.452774</td>\n",
       "      <td>11081.452774</td>\n",
       "      <td>11081.452774</td>\n",
       "      <td>281.516297</td>\n",
       "      <td>281.516297</td>\n",
       "      <td>281.516297</td>\n",
       "      <td>10799.936477</td>\n",
       "      <td>10799.936477</td>\n",
       "      <td>10799.936477</td>\n",
       "      <td>0.0</td>\n",
       "      <td>0.0</td>\n",
       "      <td>0.0</td>\n",
       "      <td>15275.060359</td>\n",
       "    </tr>\n",
       "    <tr>\n",
       "      <th>4</th>\n",
       "      <td>2021-02-14</td>\n",
       "      <td>4134.503119</td>\n",
       "      <td>-22010.483348</td>\n",
       "      <td>51581.079090</td>\n",
       "      <td>4134.503119</td>\n",
       "      <td>4134.503119</td>\n",
       "      <td>11857.201247</td>\n",
       "      <td>11857.201247</td>\n",
       "      <td>11857.201247</td>\n",
       "      <td>291.086248</td>\n",
       "      <td>291.086248</td>\n",
       "      <td>291.086248</td>\n",
       "      <td>11566.114999</td>\n",
       "      <td>11566.114999</td>\n",
       "      <td>11566.114999</td>\n",
       "      <td>0.0</td>\n",
       "      <td>0.0</td>\n",
       "      <td>0.0</td>\n",
       "      <td>15991.704366</td>\n",
       "    </tr>\n",
       "    <tr>\n",
       "      <th>...</th>\n",
       "      <td>...</td>\n",
       "      <td>...</td>\n",
       "      <td>...</td>\n",
       "      <td>...</td>\n",
       "      <td>...</td>\n",
       "      <td>...</td>\n",
       "      <td>...</td>\n",
       "      <td>...</td>\n",
       "      <td>...</td>\n",
       "      <td>...</td>\n",
       "      <td>...</td>\n",
       "      <td>...</td>\n",
       "      <td>...</td>\n",
       "      <td>...</td>\n",
       "      <td>...</td>\n",
       "      <td>...</td>\n",
       "      <td>...</td>\n",
       "      <td>...</td>\n",
       "      <td>...</td>\n",
       "    </tr>\n",
       "    <tr>\n",
       "      <th>85</th>\n",
       "      <td>2021-05-06</td>\n",
       "      <td>-652.958590</td>\n",
       "      <td>-46574.720681</td>\n",
       "      <td>25579.930303</td>\n",
       "      <td>-3468.394917</td>\n",
       "      <td>1677.218377</td>\n",
       "      <td>-9392.836168</td>\n",
       "      <td>-9392.836168</td>\n",
       "      <td>-9392.836168</td>\n",
       "      <td>-524.549801</td>\n",
       "      <td>-524.549801</td>\n",
       "      <td>-524.549801</td>\n",
       "      <td>-8868.286367</td>\n",
       "      <td>-8868.286367</td>\n",
       "      <td>-8868.286367</td>\n",
       "      <td>0.0</td>\n",
       "      <td>0.0</td>\n",
       "      <td>0.0</td>\n",
       "      <td>-10045.794758</td>\n",
       "    </tr>\n",
       "    <tr>\n",
       "      <th>86</th>\n",
       "      <td>2021-05-07</td>\n",
       "      <td>-712.063056</td>\n",
       "      <td>-46733.911765</td>\n",
       "      <td>30692.320061</td>\n",
       "      <td>-3597.300477</td>\n",
       "      <td>1647.198142</td>\n",
       "      <td>-7935.659773</td>\n",
       "      <td>-7935.659773</td>\n",
       "      <td>-7935.659773</td>\n",
       "      <td>270.434389</td>\n",
       "      <td>270.434389</td>\n",
       "      <td>270.434389</td>\n",
       "      <td>-8206.094162</td>\n",
       "      <td>-8206.094162</td>\n",
       "      <td>-8206.094162</td>\n",
       "      <td>0.0</td>\n",
       "      <td>0.0</td>\n",
       "      <td>0.0</td>\n",
       "      <td>-8647.722828</td>\n",
       "    </tr>\n",
       "    <tr>\n",
       "      <th>87</th>\n",
       "      <td>2021-05-08</td>\n",
       "      <td>-771.167521</td>\n",
       "      <td>-48543.740171</td>\n",
       "      <td>29949.042770</td>\n",
       "      <td>-3705.632491</td>\n",
       "      <td>1613.013495</td>\n",
       "      <td>-7099.855160</td>\n",
       "      <td>-7099.855160</td>\n",
       "      <td>-7099.855160</td>\n",
       "      <td>281.516297</td>\n",
       "      <td>281.516297</td>\n",
       "      <td>281.516297</td>\n",
       "      <td>-7381.371457</td>\n",
       "      <td>-7381.371457</td>\n",
       "      <td>-7381.371457</td>\n",
       "      <td>0.0</td>\n",
       "      <td>0.0</td>\n",
       "      <td>0.0</td>\n",
       "      <td>-7871.022681</td>\n",
       "    </tr>\n",
       "    <tr>\n",
       "      <th>88</th>\n",
       "      <td>2021-05-09</td>\n",
       "      <td>-830.271987</td>\n",
       "      <td>-45584.871134</td>\n",
       "      <td>31374.809690</td>\n",
       "      <td>-3831.117205</td>\n",
       "      <td>1578.828847</td>\n",
       "      <td>-6110.456336</td>\n",
       "      <td>-6110.456336</td>\n",
       "      <td>-6110.456336</td>\n",
       "      <td>291.086248</td>\n",
       "      <td>291.086248</td>\n",
       "      <td>291.086248</td>\n",
       "      <td>-6401.542584</td>\n",
       "      <td>-6401.542584</td>\n",
       "      <td>-6401.542584</td>\n",
       "      <td>0.0</td>\n",
       "      <td>0.0</td>\n",
       "      <td>0.0</td>\n",
       "      <td>-6940.728323</td>\n",
       "    </tr>\n",
       "    <tr>\n",
       "      <th>89</th>\n",
       "      <td>2021-05-10</td>\n",
       "      <td>-889.376452</td>\n",
       "      <td>-46830.786197</td>\n",
       "      <td>31299.277225</td>\n",
       "      <td>-3962.951469</td>\n",
       "      <td>1544.644199</td>\n",
       "      <td>-5037.127264</td>\n",
       "      <td>-5037.127264</td>\n",
       "      <td>-5037.127264</td>\n",
       "      <td>239.446957</td>\n",
       "      <td>239.446957</td>\n",
       "      <td>239.446957</td>\n",
       "      <td>-5276.574221</td>\n",
       "      <td>-5276.574221</td>\n",
       "      <td>-5276.574221</td>\n",
       "      <td>0.0</td>\n",
       "      <td>0.0</td>\n",
       "      <td>0.0</td>\n",
       "      <td>-5926.503716</td>\n",
       "    </tr>\n",
       "  </tbody>\n",
       "</table>\n",
       "<p>90 rows × 19 columns</p>\n",
       "</div>"
      ],
      "text/plain": [
       "           ds        trend    yhat_lower    yhat_upper  trend_lower  \\\n",
       "0  2021-02-10  4370.920982 -25915.528464  50213.218646  4370.920982   \n",
       "1  2021-02-11  4311.816516 -25960.222552  52011.775155  4311.816516   \n",
       "2  2021-02-12  4252.712051 -22638.674005  54184.761890  4252.712051   \n",
       "3  2021-02-13  4193.607585 -22205.465369  53409.831639  4193.607585   \n",
       "4  2021-02-14  4134.503119 -22010.483348  51581.079090  4134.503119   \n",
       "..        ...          ...           ...           ...          ...   \n",
       "85 2021-05-06  -652.958590 -46574.720681  25579.930303 -3468.394917   \n",
       "86 2021-05-07  -712.063056 -46733.911765  30692.320061 -3597.300477   \n",
       "87 2021-05-08  -771.167521 -48543.740171  29949.042770 -3705.632491   \n",
       "88 2021-05-09  -830.271987 -45584.871134  31374.809690 -3831.117205   \n",
       "89 2021-05-10  -889.376452 -46830.786197  31299.277225 -3962.951469   \n",
       "\n",
       "    trend_upper  additive_terms  additive_terms_lower  additive_terms_upper  \\\n",
       "0   4370.920982     7918.262766           7918.262766           7918.262766   \n",
       "1   4311.816516     8589.068961           8589.068961           8589.068961   \n",
       "2   4252.712051    10250.816710          10250.816710          10250.816710   \n",
       "3   4193.607585    11081.452774          11081.452774          11081.452774   \n",
       "4   4134.503119    11857.201247          11857.201247          11857.201247   \n",
       "..          ...             ...                   ...                   ...   \n",
       "85  1677.218377    -9392.836168          -9392.836168          -9392.836168   \n",
       "86  1647.198142    -7935.659773          -7935.659773          -7935.659773   \n",
       "87  1613.013495    -7099.855160          -7099.855160          -7099.855160   \n",
       "88  1578.828847    -6110.456336          -6110.456336          -6110.456336   \n",
       "89  1544.644199    -5037.127264          -5037.127264          -5037.127264   \n",
       "\n",
       "        weekly  weekly_lower  weekly_upper        yearly  yearly_lower  \\\n",
       "0  -288.577537   -288.577537   -288.577537   8206.840304   8206.840304   \n",
       "1  -524.549801   -524.549801   -524.549801   9113.618763   9113.618763   \n",
       "2   270.434389    270.434389    270.434389   9980.382321   9980.382321   \n",
       "3   281.516297    281.516297    281.516297  10799.936477  10799.936477   \n",
       "4   291.086248    291.086248    291.086248  11566.114999  11566.114999   \n",
       "..         ...           ...           ...           ...           ...   \n",
       "85 -524.549801   -524.549801   -524.549801  -8868.286367  -8868.286367   \n",
       "86  270.434389    270.434389    270.434389  -8206.094162  -8206.094162   \n",
       "87  281.516297    281.516297    281.516297  -7381.371457  -7381.371457   \n",
       "88  291.086248    291.086248    291.086248  -6401.542584  -6401.542584   \n",
       "89  239.446957    239.446957    239.446957  -5276.574221  -5276.574221   \n",
       "\n",
       "    yearly_upper  multiplicative_terms  multiplicative_terms_lower  \\\n",
       "0    8206.840304                   0.0                         0.0   \n",
       "1    9113.618763                   0.0                         0.0   \n",
       "2    9980.382321                   0.0                         0.0   \n",
       "3   10799.936477                   0.0                         0.0   \n",
       "4   11566.114999                   0.0                         0.0   \n",
       "..           ...                   ...                         ...   \n",
       "85  -8868.286367                   0.0                         0.0   \n",
       "86  -8206.094162                   0.0                         0.0   \n",
       "87  -7381.371457                   0.0                         0.0   \n",
       "88  -6401.542584                   0.0                         0.0   \n",
       "89  -5276.574221                   0.0                         0.0   \n",
       "\n",
       "    multiplicative_terms_upper          yhat  \n",
       "0                          0.0  12289.183748  \n",
       "1                          0.0  12900.885477  \n",
       "2                          0.0  14503.528761  \n",
       "3                          0.0  15275.060359  \n",
       "4                          0.0  15991.704366  \n",
       "..                         ...           ...  \n",
       "85                         0.0 -10045.794758  \n",
       "86                         0.0  -8647.722828  \n",
       "87                         0.0  -7871.022681  \n",
       "88                         0.0  -6940.728323  \n",
       "89                         0.0  -5926.503716  \n",
       "\n",
       "[90 rows x 19 columns]"
      ]
     },
     "execution_count": 421,
     "metadata": {},
     "output_type": "execute_result"
    }
   ],
   "source": [
    "forecast_df"
   ]
  },
  {
   "cell_type": "code",
   "execution_count": 422,
   "id": "hidden-howard",
   "metadata": {},
   "outputs": [
    {
     "data": {
      "text/html": [
       "<div>\n",
       "<style scoped>\n",
       "    .dataframe tbody tr th:only-of-type {\n",
       "        vertical-align: middle;\n",
       "    }\n",
       "\n",
       "    .dataframe tbody tr th {\n",
       "        vertical-align: top;\n",
       "    }\n",
       "\n",
       "    .dataframe thead th {\n",
       "        text-align: right;\n",
       "    }\n",
       "</style>\n",
       "<table border=\"1\" class=\"dataframe\">\n",
       "  <thead>\n",
       "    <tr style=\"text-align: right;\">\n",
       "      <th></th>\n",
       "      <th>ds</th>\n",
       "      <th>yhat</th>\n",
       "      <th>yhat_lower</th>\n",
       "      <th>yhat_upper</th>\n",
       "    </tr>\n",
       "  </thead>\n",
       "  <tbody>\n",
       "    <tr>\n",
       "      <th>0</th>\n",
       "      <td>2021-02-10</td>\n",
       "      <td>12289.183748</td>\n",
       "      <td>-25915.528464</td>\n",
       "      <td>50213.218646</td>\n",
       "    </tr>\n",
       "    <tr>\n",
       "      <th>1</th>\n",
       "      <td>2021-02-11</td>\n",
       "      <td>12900.885477</td>\n",
       "      <td>-25960.222552</td>\n",
       "      <td>52011.775155</td>\n",
       "    </tr>\n",
       "    <tr>\n",
       "      <th>2</th>\n",
       "      <td>2021-02-12</td>\n",
       "      <td>14503.528761</td>\n",
       "      <td>-22638.674005</td>\n",
       "      <td>54184.761890</td>\n",
       "    </tr>\n",
       "    <tr>\n",
       "      <th>3</th>\n",
       "      <td>2021-02-13</td>\n",
       "      <td>15275.060359</td>\n",
       "      <td>-22205.465369</td>\n",
       "      <td>53409.831639</td>\n",
       "    </tr>\n",
       "    <tr>\n",
       "      <th>4</th>\n",
       "      <td>2021-02-14</td>\n",
       "      <td>15991.704366</td>\n",
       "      <td>-22010.483348</td>\n",
       "      <td>51581.079090</td>\n",
       "    </tr>\n",
       "    <tr>\n",
       "      <th>...</th>\n",
       "      <td>...</td>\n",
       "      <td>...</td>\n",
       "      <td>...</td>\n",
       "      <td>...</td>\n",
       "    </tr>\n",
       "    <tr>\n",
       "      <th>85</th>\n",
       "      <td>2021-05-06</td>\n",
       "      <td>-10045.794758</td>\n",
       "      <td>-46574.720681</td>\n",
       "      <td>25579.930303</td>\n",
       "    </tr>\n",
       "    <tr>\n",
       "      <th>86</th>\n",
       "      <td>2021-05-07</td>\n",
       "      <td>-8647.722828</td>\n",
       "      <td>-46733.911765</td>\n",
       "      <td>30692.320061</td>\n",
       "    </tr>\n",
       "    <tr>\n",
       "      <th>87</th>\n",
       "      <td>2021-05-08</td>\n",
       "      <td>-7871.022681</td>\n",
       "      <td>-48543.740171</td>\n",
       "      <td>29949.042770</td>\n",
       "    </tr>\n",
       "    <tr>\n",
       "      <th>88</th>\n",
       "      <td>2021-05-09</td>\n",
       "      <td>-6940.728323</td>\n",
       "      <td>-45584.871134</td>\n",
       "      <td>31374.809690</td>\n",
       "    </tr>\n",
       "    <tr>\n",
       "      <th>89</th>\n",
       "      <td>2021-05-10</td>\n",
       "      <td>-5926.503716</td>\n",
       "      <td>-46830.786197</td>\n",
       "      <td>31299.277225</td>\n",
       "    </tr>\n",
       "  </tbody>\n",
       "</table>\n",
       "<p>90 rows × 4 columns</p>\n",
       "</div>"
      ],
      "text/plain": [
       "           ds          yhat    yhat_lower    yhat_upper\n",
       "0  2021-02-10  12289.183748 -25915.528464  50213.218646\n",
       "1  2021-02-11  12900.885477 -25960.222552  52011.775155\n",
       "2  2021-02-12  14503.528761 -22638.674005  54184.761890\n",
       "3  2021-02-13  15275.060359 -22205.465369  53409.831639\n",
       "4  2021-02-14  15991.704366 -22010.483348  51581.079090\n",
       "..        ...           ...           ...           ...\n",
       "85 2021-05-06 -10045.794758 -46574.720681  25579.930303\n",
       "86 2021-05-07  -8647.722828 -46733.911765  30692.320061\n",
       "87 2021-05-08  -7871.022681 -48543.740171  29949.042770\n",
       "88 2021-05-09  -6940.728323 -45584.871134  31374.809690\n",
       "89 2021-05-10  -5926.503716 -46830.786197  31299.277225\n",
       "\n",
       "[90 rows x 4 columns]"
      ]
     },
     "execution_count": 422,
     "metadata": {},
     "output_type": "execute_result"
    }
   ],
   "source": [
    "forecast_df[['ds', 'yhat', 'yhat_lower', 'yhat_upper']]"
   ]
  },
  {
   "cell_type": "code",
   "execution_count": 423,
   "id": "commercial-scanner",
   "metadata": {},
   "outputs": [
    {
     "data": {
      "image/png": "[encoded data removed]",
      "text/plain": [
       "<Figure size 720x432 with 1 Axes>"
      ]
     },
     "metadata": {},
     "output_type": "display_data"
    }
   ],
   "source": [
    "# plot forecast\n",
    "model.plot(forecast_df)\n",
    "pyplot.show()"
   ]
  },
  {
   "cell_type": "code",
   "execution_count": null,
   "id": "circular-camera",
   "metadata": {},
   "outputs": [],
   "source": []
  },
  {
   "cell_type": "code",
   "execution_count": null,
   "id": "strange-audience",
   "metadata": {},
   "outputs": [],
   "source": []
  },
  {
   "cell_type": "code",
   "execution_count": null,
   "id": "renewable-circus",
   "metadata": {},
   "outputs": [],
   "source": []
  },
  {
   "cell_type": "code",
   "execution_count": null,
   "id": "virtual-marble",
   "metadata": {},
   "outputs": [],
   "source": []
  },
  {
   "cell_type": "code",
   "execution_count": null,
   "id": "amber-october",
   "metadata": {},
   "outputs": [],
   "source": []
  },
  {
   "cell_type": "code",
   "execution_count": 362,
   "id": "selected-grass",
   "metadata": {},
   "outputs": [
    {
     "data": {
      "text/html": [
       "<div>\n",
       "<style scoped>\n",
       "    .dataframe tbody tr th:only-of-type {\n",
       "        vertical-align: middle;\n",
       "    }\n",
       "\n",
       "    .dataframe tbody tr th {\n",
       "        vertical-align: top;\n",
       "    }\n",
       "\n",
       "    .dataframe thead th {\n",
       "        text-align: right;\n",
       "    }\n",
       "</style>\n",
       "<table border=\"1\" class=\"dataframe\">\n",
       "  <thead>\n",
       "    <tr style=\"text-align: right;\">\n",
       "      <th></th>\n",
       "      <th>ds</th>\n",
       "      <th>y</th>\n",
       "    </tr>\n",
       "  </thead>\n",
       "  <tbody>\n",
       "    <tr>\n",
       "      <th>0</th>\n",
       "      <td>2014-03-03</td>\n",
       "      <td>24493.44</td>\n",
       "    </tr>\n",
       "    <tr>\n",
       "      <th>1</th>\n",
       "      <td>2014-03-04</td>\n",
       "      <td>56790.85</td>\n",
       "    </tr>\n",
       "    <tr>\n",
       "      <th>2</th>\n",
       "      <td>2014-03-05</td>\n",
       "      <td>56720.85</td>\n",
       "    </tr>\n",
       "    <tr>\n",
       "      <th>3</th>\n",
       "      <td>2014-03-06</td>\n",
       "      <td>56699.85</td>\n",
       "    </tr>\n",
       "    <tr>\n",
       "      <th>4</th>\n",
       "      <td>2014-03-07</td>\n",
       "      <td>56699.85</td>\n",
       "    </tr>\n",
       "    <tr>\n",
       "      <th>...</th>\n",
       "      <td>...</td>\n",
       "      <td>...</td>\n",
       "    </tr>\n",
       "    <tr>\n",
       "      <th>2531</th>\n",
       "      <td>2021-02-05</td>\n",
       "      <td>1407.45</td>\n",
       "    </tr>\n",
       "    <tr>\n",
       "      <th>2532</th>\n",
       "      <td>2021-02-06</td>\n",
       "      <td>956.59</td>\n",
       "    </tr>\n",
       "    <tr>\n",
       "      <th>2533</th>\n",
       "      <td>2021-02-07</td>\n",
       "      <td>956.59</td>\n",
       "    </tr>\n",
       "    <tr>\n",
       "      <th>2534</th>\n",
       "      <td>2021-02-08</td>\n",
       "      <td>956.59</td>\n",
       "    </tr>\n",
       "    <tr>\n",
       "      <th>2535</th>\n",
       "      <td>2021-02-09</td>\n",
       "      <td>650.59</td>\n",
       "    </tr>\n",
       "  </tbody>\n",
       "</table>\n",
       "<p>2536 rows × 2 columns</p>\n",
       "</div>"
      ],
      "text/plain": [
       "             ds         y\n",
       "0    2014-03-03  24493.44\n",
       "1    2014-03-04  56790.85\n",
       "2    2014-03-05  56720.85\n",
       "3    2014-03-06  56699.85\n",
       "4    2014-03-07  56699.85\n",
       "...         ...       ...\n",
       "2531 2021-02-05   1407.45\n",
       "2532 2021-02-06    956.59\n",
       "2533 2021-02-07    956.59\n",
       "2534 2021-02-08    956.59\n",
       "2535 2021-02-09    650.59\n",
       "\n",
       "[2536 rows x 2 columns]"
      ]
     },
     "execution_count": 362,
     "metadata": {},
     "output_type": "execute_result"
    }
   ],
   "source": [
    "prophet_df"
   ]
  },
  {
   "cell_type": "code",
   "execution_count": 363,
   "id": "headed-system",
   "metadata": {},
   "outputs": [
    {
     "data": {
      "text/plain": [
       "ds    datetime64[ns]\n",
       "y            float64\n",
       "dtype: object"
      ]
     },
     "execution_count": 363,
     "metadata": {},
     "output_type": "execute_result"
    }
   ],
   "source": [
    "prophet_df.dtypes"
   ]
  },
  {
   "cell_type": "code",
   "execution_count": 364,
   "id": "distinguished-oxide",
   "metadata": {},
   "outputs": [
    {
     "data": {
      "text/html": [
       "<div>\n",
       "<style scoped>\n",
       "    .dataframe tbody tr th:only-of-type {\n",
       "        vertical-align: middle;\n",
       "    }\n",
       "\n",
       "    .dataframe tbody tr th {\n",
       "        vertical-align: top;\n",
       "    }\n",
       "\n",
       "    .dataframe thead th {\n",
       "        text-align: right;\n",
       "    }\n",
       "</style>\n",
       "<table border=\"1\" class=\"dataframe\">\n",
       "  <thead>\n",
       "    <tr style=\"text-align: right;\">\n",
       "      <th></th>\n",
       "      <th>BALANCE</th>\n",
       "    </tr>\n",
       "    <tr>\n",
       "      <th>DATE</th>\n",
       "      <th></th>\n",
       "    </tr>\n",
       "  </thead>\n",
       "  <tbody>\n",
       "    <tr>\n",
       "      <th>2014-03-03</th>\n",
       "      <td>24493.44</td>\n",
       "    </tr>\n",
       "    <tr>\n",
       "      <th>2014-03-04</th>\n",
       "      <td>56790.85</td>\n",
       "    </tr>\n",
       "    <tr>\n",
       "      <th>2014-03-05</th>\n",
       "      <td>56720.85</td>\n",
       "    </tr>\n",
       "    <tr>\n",
       "      <th>2014-03-06</th>\n",
       "      <td>56699.85</td>\n",
       "    </tr>\n",
       "    <tr>\n",
       "      <th>2014-03-07</th>\n",
       "      <td>56699.85</td>\n",
       "    </tr>\n",
       "    <tr>\n",
       "      <th>...</th>\n",
       "      <td>...</td>\n",
       "    </tr>\n",
       "    <tr>\n",
       "      <th>2021-02-05</th>\n",
       "      <td>1407.45</td>\n",
       "    </tr>\n",
       "    <tr>\n",
       "      <th>2021-02-06</th>\n",
       "      <td>956.59</td>\n",
       "    </tr>\n",
       "    <tr>\n",
       "      <th>2021-02-07</th>\n",
       "      <td>956.59</td>\n",
       "    </tr>\n",
       "    <tr>\n",
       "      <th>2021-02-08</th>\n",
       "      <td>956.59</td>\n",
       "    </tr>\n",
       "    <tr>\n",
       "      <th>2021-02-09</th>\n",
       "      <td>650.59</td>\n",
       "    </tr>\n",
       "  </tbody>\n",
       "</table>\n",
       "<p>2536 rows × 1 columns</p>\n",
       "</div>"
      ],
      "text/plain": [
       "             BALANCE\n",
       "DATE                \n",
       "2014-03-03  24493.44\n",
       "2014-03-04  56790.85\n",
       "2014-03-05  56720.85\n",
       "2014-03-06  56699.85\n",
       "2014-03-07  56699.85\n",
       "...              ...\n",
       "2021-02-05   1407.45\n",
       "2021-02-06    956.59\n",
       "2021-02-07    956.59\n",
       "2021-02-08    956.59\n",
       "2021-02-09    650.59\n",
       "\n",
       "[2536 rows x 1 columns]"
      ]
     },
     "execution_count": 364,
     "metadata": {},
     "output_type": "execute_result"
    }
   ],
   "source": [
    "balance_df"
   ]
  },
  {
   "cell_type": "code",
   "execution_count": 365,
   "id": "handed-undergraduate",
   "metadata": {},
   "outputs": [
    {
     "data": {
      "image/png": "[encoded data removed]",
      "text/plain": [
       "<Figure size 432x288 with 1 Axes>"
      ]
     },
     "metadata": {
      "needs_background": "light"
     },
     "output_type": "display_data"
    }
   ],
   "source": [
    "pyplot.plot(balance_df)\n",
    "pyplot.show()"
   ]
  },
  {
   "cell_type": "code",
   "execution_count": 366,
   "id": "athletic-agency",
   "metadata": {},
   "outputs": [
    {
     "data": {
      "image/png": "[encoded data removed]",
      "text/plain": [
       "<Figure size 432x288 with 1 Axes>"
      ]
     },
     "metadata": {
      "needs_background": "light"
     },
     "output_type": "display_data"
    }
   ],
   "source": [
    "transactions_ser=transactions_df.squeeze()\n",
    "transactions_ser.plot()\n",
    "pyplot.show()"
   ]
  },
  {
   "cell_type": "code",
   "execution_count": 367,
   "id": "varying-incident",
   "metadata": {},
   "outputs": [
    {
     "data": {
      "text/html": [
       "<div>\n",
       "<style scoped>\n",
       "    .dataframe tbody tr th:only-of-type {\n",
       "        vertical-align: middle;\n",
       "    }\n",
       "\n",
       "    .dataframe tbody tr th {\n",
       "        vertical-align: top;\n",
       "    }\n",
       "\n",
       "    .dataframe thead th {\n",
       "        text-align: right;\n",
       "    }\n",
       "</style>\n",
       "<table border=\"1\" class=\"dataframe\">\n",
       "  <thead>\n",
       "    <tr style=\"text-align: right;\">\n",
       "      <th></th>\n",
       "      <th>AMOUNT</th>\n",
       "    </tr>\n",
       "    <tr>\n",
       "      <th>TRANSACTION_DATE</th>\n",
       "      <th></th>\n",
       "    </tr>\n",
       "  </thead>\n",
       "  <tbody>\n",
       "    <tr>\n",
       "      <th>2014-03-03</th>\n",
       "      <td>32297.41</td>\n",
       "    </tr>\n",
       "    <tr>\n",
       "      <th>2014-03-04</th>\n",
       "      <td>-70.00</td>\n",
       "    </tr>\n",
       "    <tr>\n",
       "      <th>2014-03-05</th>\n",
       "      <td>-21.00</td>\n",
       "    </tr>\n",
       "    <tr>\n",
       "      <th>2014-03-06</th>\n",
       "      <td>0.00</td>\n",
       "    </tr>\n",
       "    <tr>\n",
       "      <th>2014-03-07</th>\n",
       "      <td>-40.00</td>\n",
       "    </tr>\n",
       "    <tr>\n",
       "      <th>...</th>\n",
       "      <td>...</td>\n",
       "    </tr>\n",
       "    <tr>\n",
       "      <th>2021-02-05</th>\n",
       "      <td>-450.86</td>\n",
       "    </tr>\n",
       "    <tr>\n",
       "      <th>2021-02-06</th>\n",
       "      <td>0.00</td>\n",
       "    </tr>\n",
       "    <tr>\n",
       "      <th>2021-02-07</th>\n",
       "      <td>0.00</td>\n",
       "    </tr>\n",
       "    <tr>\n",
       "      <th>2021-02-08</th>\n",
       "      <td>-306.00</td>\n",
       "    </tr>\n",
       "    <tr>\n",
       "      <th>2021-02-09</th>\n",
       "      <td>-237.80</td>\n",
       "    </tr>\n",
       "  </tbody>\n",
       "</table>\n",
       "<p>2536 rows × 1 columns</p>\n",
       "</div>"
      ],
      "text/plain": [
       "                    AMOUNT\n",
       "TRANSACTION_DATE          \n",
       "2014-03-03        32297.41\n",
       "2014-03-04          -70.00\n",
       "2014-03-05          -21.00\n",
       "2014-03-06            0.00\n",
       "2014-03-07          -40.00\n",
       "...                    ...\n",
       "2021-02-05         -450.86\n",
       "2021-02-06            0.00\n",
       "2021-02-07            0.00\n",
       "2021-02-08         -306.00\n",
       "2021-02-09         -237.80\n",
       "\n",
       "[2536 rows x 1 columns]"
      ]
     },
     "execution_count": 367,
     "metadata": {},
     "output_type": "execute_result"
    }
   ],
   "source": [
    "transactions_df"
   ]
  },
  {
   "cell_type": "code",
   "execution_count": 368,
   "id": "liked-outside",
   "metadata": {},
   "outputs": [
    {
     "data": {
      "text/plain": [
       "TRANSACTION_DATE\n",
       "2014-03-03    32297.41\n",
       "2014-03-04      -70.00\n",
       "2014-03-05      -21.00\n",
       "2014-03-06        0.00\n",
       "2014-03-07      -40.00\n",
       "                ...   \n",
       "2021-02-05     -450.86\n",
       "2021-02-06        0.00\n",
       "2021-02-07        0.00\n",
       "2021-02-08     -306.00\n",
       "2021-02-09     -237.80\n",
       "Name: AMOUNT, Length: 2536, dtype: float64"
      ]
     },
     "execution_count": 368,
     "metadata": {},
     "output_type": "execute_result"
    }
   ],
   "source": [
    "transactions_ser"
   ]
  },
  {
   "cell_type": "code",
   "execution_count": 369,
   "id": "known-roots",
   "metadata": {},
   "outputs": [
    {
     "data": {
      "text/plain": [
       "DatetimeIndex(['2014-03-03', '2014-03-04', '2014-03-05', '2014-03-06',\n",
       "               '2014-03-07', '2014-03-08', '2014-03-09', '2014-03-10',\n",
       "               '2014-03-11', '2014-03-12',\n",
       "               ...\n",
       "               '2021-01-31', '2021-02-01', '2021-02-02', '2021-02-03',\n",
       "               '2021-02-04', '2021-02-05', '2021-02-06', '2021-02-07',\n",
       "               '2021-02-08', '2021-02-09'],\n",
       "              dtype='datetime64[ns]', length=2536, freq='D')"
      ]
     },
     "execution_count": 369,
     "metadata": {},
     "output_type": "execute_result"
    }
   ],
   "source": [
    "range_of_dates"
   ]
  },
  {
   "cell_type": "code",
   "execution_count": 370,
   "id": "victorian-netscape",
   "metadata": {},
   "outputs": [
    {
     "data": {
      "text/plain": [
       "(650.59, numpy.float64)"
      ]
     },
     "execution_count": 370,
     "metadata": {},
     "output_type": "execute_result"
    }
   ],
   "source": [
    "balance_last_day_real, type(balance_last_day_real)"
   ]
  },
  {
   "cell_type": "code",
   "execution_count": 371,
   "id": "virgin-upgrade",
   "metadata": {},
   "outputs": [
    {
     "data": {
      "text/plain": [
       "(-23842.84999999994, numpy.float64)"
      ]
     },
     "execution_count": 371,
     "metadata": {},
     "output_type": "execute_result"
    }
   ],
   "source": [
    "balance_last_day_fake, type(balance_last_day_fake)"
   ]
  },
  {
   "cell_type": "code",
   "execution_count": 372,
   "id": "young-isolation",
   "metadata": {},
   "outputs": [
    {
     "data": {
      "text/plain": [
       "(24493.43999999994, numpy.float64)"
      ]
     },
     "execution_count": 372,
     "metadata": {},
     "output_type": "execute_result"
    }
   ],
   "source": [
    "bias, type(bias)"
   ]
  },
  {
   "cell_type": "code",
   "execution_count": 373,
   "id": "greek-chassis",
   "metadata": {},
   "outputs": [
    {
     "name": "stdout",
     "output_type": "stream",
     "text": [
      "scipy: 1.6.1\n",
      "numpy: 1.19.2\n",
      "matplotlib: 3.3.4\n",
      "pandas: 1.2.2\n",
      "statsmodels: 0.12.2\n",
      "sklearn: 0.23.2\n",
      "Prophet 0.7.1\n"
     ]
    }
   ],
   "source": [
    "# check the versions of key python libraries\n",
    "\n",
    "# scipy\n",
    "# import scipy\n",
    "print('scipy: %s' % scipy.__version__)\n",
    "\n",
    "# numpy\n",
    "# import numpy\n",
    "print('numpy: %s' % numpy.__version__)\n",
    "\n",
    "# matplotlib\n",
    "# import matplotlib\n",
    "print('matplotlib: %s' % matplotlib.__version__)\n",
    "\n",
    "# pandas\n",
    "# import pandas\n",
    "print('pandas: %s' % pandas.__version__)\n",
    "\n",
    "# statsmodels\n",
    "# import statsmodels\n",
    "print('statsmodels: %s' % statsmodels.__version__)\n",
    "\n",
    "# scikit-learn\n",
    "# import sklearn\n",
    "print('sklearn: %s' % sklearn.__version__)\n",
    "\n",
    "# import fbprophet\n",
    "# print version number\n",
    "print('Prophet %s' % fbprophet.__version__)"
   ]
  },
  {
   "cell_type": "code",
   "execution_count": null,
   "id": "capable-facial",
   "metadata": {},
   "outputs": [],
   "source": []
  },
  {
   "cell_type": "code",
   "execution_count": null,
   "id": "balanced-attachment",
   "metadata": {},
   "outputs": [],
   "source": []
  },
  {
   "cell_type": "code",
   "execution_count": null,
   "id": "exotic-assault",
   "metadata": {},
   "outputs": [],
   "source": []
  },
  {
   "cell_type": "code",
   "execution_count": null,
   "id": "substantial-cliff",
   "metadata": {},
   "outputs": [],
   "source": []
  },
  {
   "cell_type": "code",
   "execution_count": null,
   "id": "joined-mailman",
   "metadata": {},
   "outputs": [],
   "source": []
  },
  {
   "cell_type": "code",
   "execution_count": 412,
   "id": "swiss-november",
   "metadata": {},
   "outputs": [],
   "source": [
    "future_in_sample_df=prophet_df.copy()"
   ]
  },
  {
   "cell_type": "code",
   "execution_count": 413,
   "id": "hundred-stable",
   "metadata": {},
   "outputs": [],
   "source": [
    "future_in_sample_df=future_in_sample_df.drop(['y'], axis = 1)"
   ]
  },
  {
   "cell_type": "code",
   "execution_count": 414,
   "id": "peripheral-mumbai",
   "metadata": {},
   "outputs": [],
   "source": [
    "# use the model to make a forecast\n",
    "forecast_in_sample_df = model.predict(future_in_sample_df)"
   ]
  },
  {
   "cell_type": "code",
   "execution_count": 415,
   "id": "several-fossil",
   "metadata": {},
   "outputs": [
    {
     "data": {
      "text/html": [
       "<div>\n",
       "<style scoped>\n",
       "    .dataframe tbody tr th:only-of-type {\n",
       "        vertical-align: middle;\n",
       "    }\n",
       "\n",
       "    .dataframe tbody tr th {\n",
       "        vertical-align: top;\n",
       "    }\n",
       "\n",
       "    .dataframe thead th {\n",
       "        text-align: right;\n",
       "    }\n",
       "</style>\n",
       "<table border=\"1\" class=\"dataframe\">\n",
       "  <thead>\n",
       "    <tr style=\"text-align: right;\">\n",
       "      <th></th>\n",
       "      <th>ds</th>\n",
       "    </tr>\n",
       "  </thead>\n",
       "  <tbody>\n",
       "    <tr>\n",
       "      <th>0</th>\n",
       "      <td>2014-03-03</td>\n",
       "    </tr>\n",
       "    <tr>\n",
       "      <th>1</th>\n",
       "      <td>2014-03-04</td>\n",
       "    </tr>\n",
       "    <tr>\n",
       "      <th>2</th>\n",
       "      <td>2014-03-05</td>\n",
       "    </tr>\n",
       "    <tr>\n",
       "      <th>3</th>\n",
       "      <td>2014-03-06</td>\n",
       "    </tr>\n",
       "    <tr>\n",
       "      <th>4</th>\n",
       "      <td>2014-03-07</td>\n",
       "    </tr>\n",
       "    <tr>\n",
       "      <th>...</th>\n",
       "      <td>...</td>\n",
       "    </tr>\n",
       "    <tr>\n",
       "      <th>2531</th>\n",
       "      <td>2021-02-05</td>\n",
       "    </tr>\n",
       "    <tr>\n",
       "      <th>2532</th>\n",
       "      <td>2021-02-06</td>\n",
       "    </tr>\n",
       "    <tr>\n",
       "      <th>2533</th>\n",
       "      <td>2021-02-07</td>\n",
       "    </tr>\n",
       "    <tr>\n",
       "      <th>2534</th>\n",
       "      <td>2021-02-08</td>\n",
       "    </tr>\n",
       "    <tr>\n",
       "      <th>2535</th>\n",
       "      <td>2021-02-09</td>\n",
       "    </tr>\n",
       "  </tbody>\n",
       "</table>\n",
       "<p>2536 rows × 1 columns</p>\n",
       "</div>"
      ],
      "text/plain": [
       "             ds\n",
       "0    2014-03-03\n",
       "1    2014-03-04\n",
       "2    2014-03-05\n",
       "3    2014-03-06\n",
       "4    2014-03-07\n",
       "...         ...\n",
       "2531 2021-02-05\n",
       "2532 2021-02-06\n",
       "2533 2021-02-07\n",
       "2534 2021-02-08\n",
       "2535 2021-02-09\n",
       "\n",
       "[2536 rows x 1 columns]"
      ]
     },
     "execution_count": 415,
     "metadata": {},
     "output_type": "execute_result"
    }
   ],
   "source": [
    "future_in_sample_df"
   ]
  },
  {
   "cell_type": "code",
   "execution_count": 416,
   "id": "compatible-authentication",
   "metadata": {},
   "outputs": [
    {
     "data": {
      "text/plain": [
       "ds    datetime64[ns]\n",
       "dtype: object"
      ]
     },
     "execution_count": 416,
     "metadata": {},
     "output_type": "execute_result"
    }
   ],
   "source": [
    "future_in_sample_df.dtypes"
   ]
  },
  {
   "cell_type": "code",
   "execution_count": 417,
   "id": "optical-freight",
   "metadata": {},
   "outputs": [
    {
     "data": {
      "text/html": [
       "<div>\n",
       "<style scoped>\n",
       "    .dataframe tbody tr th:only-of-type {\n",
       "        vertical-align: middle;\n",
       "    }\n",
       "\n",
       "    .dataframe tbody tr th {\n",
       "        vertical-align: top;\n",
       "    }\n",
       "\n",
       "    .dataframe thead th {\n",
       "        text-align: right;\n",
       "    }\n",
       "</style>\n",
       "<table border=\"1\" class=\"dataframe\">\n",
       "  <thead>\n",
       "    <tr style=\"text-align: right;\">\n",
       "      <th></th>\n",
       "      <th>ds</th>\n",
       "      <th>trend</th>\n",
       "      <th>yhat_lower</th>\n",
       "      <th>yhat_upper</th>\n",
       "      <th>trend_lower</th>\n",
       "      <th>trend_upper</th>\n",
       "      <th>additive_terms</th>\n",
       "      <th>additive_terms_lower</th>\n",
       "      <th>additive_terms_upper</th>\n",
       "      <th>weekly</th>\n",
       "      <th>weekly_lower</th>\n",
       "      <th>weekly_upper</th>\n",
       "      <th>yearly</th>\n",
       "      <th>yearly_lower</th>\n",
       "      <th>yearly_upper</th>\n",
       "      <th>multiplicative_terms</th>\n",
       "      <th>multiplicative_terms_lower</th>\n",
       "      <th>multiplicative_terms_upper</th>\n",
       "      <th>yhat</th>\n",
       "    </tr>\n",
       "  </thead>\n",
       "  <tbody>\n",
       "    <tr>\n",
       "      <th>0</th>\n",
       "      <td>2014-03-03</td>\n",
       "      <td>32794.146683</td>\n",
       "      <td>8220.311376</td>\n",
       "      <td>84075.899899</td>\n",
       "      <td>32794.146683</td>\n",
       "      <td>32794.146683</td>\n",
       "      <td>14810.596014</td>\n",
       "      <td>14810.596014</td>\n",
       "      <td>14810.596014</td>\n",
       "      <td>239.446957</td>\n",
       "      <td>239.446957</td>\n",
       "      <td>239.446957</td>\n",
       "      <td>14571.149057</td>\n",
       "      <td>14571.149057</td>\n",
       "      <td>14571.149057</td>\n",
       "      <td>0.0</td>\n",
       "      <td>0.0</td>\n",
       "      <td>0.0</td>\n",
       "      <td>47604.742696</td>\n",
       "    </tr>\n",
       "    <tr>\n",
       "      <th>1</th>\n",
       "      <td>2014-03-04</td>\n",
       "      <td>32897.835987</td>\n",
       "      <td>10642.891848</td>\n",
       "      <td>84125.787230</td>\n",
       "      <td>32897.835987</td>\n",
       "      <td>32897.835987</td>\n",
       "      <td>13945.885993</td>\n",
       "      <td>13945.885993</td>\n",
       "      <td>13945.885993</td>\n",
       "      <td>-269.356552</td>\n",
       "      <td>-269.356552</td>\n",
       "      <td>-269.356552</td>\n",
       "      <td>14215.242545</td>\n",
       "      <td>14215.242545</td>\n",
       "      <td>14215.242545</td>\n",
       "      <td>0.0</td>\n",
       "      <td>0.0</td>\n",
       "      <td>0.0</td>\n",
       "      <td>46843.721980</td>\n",
       "    </tr>\n",
       "    <tr>\n",
       "      <th>2</th>\n",
       "      <td>2014-03-05</td>\n",
       "      <td>33001.525292</td>\n",
       "      <td>5586.420348</td>\n",
       "      <td>83546.621523</td>\n",
       "      <td>33001.525292</td>\n",
       "      <td>33001.525292</td>\n",
       "      <td>13529.464552</td>\n",
       "      <td>13529.464552</td>\n",
       "      <td>13529.464552</td>\n",
       "      <td>-288.577537</td>\n",
       "      <td>-288.577537</td>\n",
       "      <td>-288.577537</td>\n",
       "      <td>13818.042089</td>\n",
       "      <td>13818.042089</td>\n",
       "      <td>13818.042089</td>\n",
       "      <td>0.0</td>\n",
       "      <td>0.0</td>\n",
       "      <td>0.0</td>\n",
       "      <td>46530.989843</td>\n",
       "    </tr>\n",
       "    <tr>\n",
       "      <th>3</th>\n",
       "      <td>2014-03-06</td>\n",
       "      <td>33105.214596</td>\n",
       "      <td>5638.461604</td>\n",
       "      <td>85137.396837</td>\n",
       "      <td>33105.214596</td>\n",
       "      <td>33105.214596</td>\n",
       "      <td>12859.789826</td>\n",
       "      <td>12859.789826</td>\n",
       "      <td>12859.789826</td>\n",
       "      <td>-524.549801</td>\n",
       "      <td>-524.549801</td>\n",
       "      <td>-524.549801</td>\n",
       "      <td>13384.339628</td>\n",
       "      <td>13384.339628</td>\n",
       "      <td>13384.339628</td>\n",
       "      <td>0.0</td>\n",
       "      <td>0.0</td>\n",
       "      <td>0.0</td>\n",
       "      <td>45965.004422</td>\n",
       "    </tr>\n",
       "    <tr>\n",
       "      <th>4</th>\n",
       "      <td>2014-03-07</td>\n",
       "      <td>33208.903900</td>\n",
       "      <td>6794.888465</td>\n",
       "      <td>82768.454990</td>\n",
       "      <td>33208.903900</td>\n",
       "      <td>33208.903900</td>\n",
       "      <td>13189.699901</td>\n",
       "      <td>13189.699901</td>\n",
       "      <td>13189.699901</td>\n",
       "      <td>270.434389</td>\n",
       "      <td>270.434389</td>\n",
       "      <td>270.434389</td>\n",
       "      <td>12919.265512</td>\n",
       "      <td>12919.265512</td>\n",
       "      <td>12919.265512</td>\n",
       "      <td>0.0</td>\n",
       "      <td>0.0</td>\n",
       "      <td>0.0</td>\n",
       "      <td>46398.603801</td>\n",
       "    </tr>\n",
       "    <tr>\n",
       "      <th>...</th>\n",
       "      <td>...</td>\n",
       "      <td>...</td>\n",
       "      <td>...</td>\n",
       "      <td>...</td>\n",
       "      <td>...</td>\n",
       "      <td>...</td>\n",
       "      <td>...</td>\n",
       "      <td>...</td>\n",
       "      <td>...</td>\n",
       "      <td>...</td>\n",
       "      <td>...</td>\n",
       "      <td>...</td>\n",
       "      <td>...</td>\n",
       "      <td>...</td>\n",
       "      <td>...</td>\n",
       "      <td>...</td>\n",
       "      <td>...</td>\n",
       "      <td>...</td>\n",
       "      <td>...</td>\n",
       "    </tr>\n",
       "    <tr>\n",
       "      <th>2531</th>\n",
       "      <td>2021-02-05</td>\n",
       "      <td>4666.443309</td>\n",
       "      <td>-30497.420719</td>\n",
       "      <td>48981.843947</td>\n",
       "      <td>4666.443309</td>\n",
       "      <td>4666.443309</td>\n",
       "      <td>3664.704373</td>\n",
       "      <td>3664.704373</td>\n",
       "      <td>3664.704373</td>\n",
       "      <td>270.434389</td>\n",
       "      <td>270.434389</td>\n",
       "      <td>270.434389</td>\n",
       "      <td>3394.269984</td>\n",
       "      <td>3394.269984</td>\n",
       "      <td>3394.269984</td>\n",
       "      <td>0.0</td>\n",
       "      <td>0.0</td>\n",
       "      <td>0.0</td>\n",
       "      <td>8331.147682</td>\n",
       "    </tr>\n",
       "    <tr>\n",
       "      <th>2532</th>\n",
       "      <td>2021-02-06</td>\n",
       "      <td>4607.338844</td>\n",
       "      <td>-29726.634314</td>\n",
       "      <td>47710.603978</td>\n",
       "      <td>4607.338844</td>\n",
       "      <td>4607.338844</td>\n",
       "      <td>4640.217178</td>\n",
       "      <td>4640.217178</td>\n",
       "      <td>4640.217178</td>\n",
       "      <td>281.516297</td>\n",
       "      <td>281.516297</td>\n",
       "      <td>281.516297</td>\n",
       "      <td>4358.700881</td>\n",
       "      <td>4358.700881</td>\n",
       "      <td>4358.700881</td>\n",
       "      <td>0.0</td>\n",
       "      <td>0.0</td>\n",
       "      <td>0.0</td>\n",
       "      <td>9247.556022</td>\n",
       "    </tr>\n",
       "    <tr>\n",
       "      <th>2533</th>\n",
       "      <td>2021-02-07</td>\n",
       "      <td>4548.234378</td>\n",
       "      <td>-27640.405720</td>\n",
       "      <td>52261.888694</td>\n",
       "      <td>4548.234378</td>\n",
       "      <td>4548.234378</td>\n",
       "      <td>5624.675393</td>\n",
       "      <td>5624.675393</td>\n",
       "      <td>5624.675393</td>\n",
       "      <td>291.086248</td>\n",
       "      <td>291.086248</td>\n",
       "      <td>291.086248</td>\n",
       "      <td>5333.589144</td>\n",
       "      <td>5333.589144</td>\n",
       "      <td>5333.589144</td>\n",
       "      <td>0.0</td>\n",
       "      <td>0.0</td>\n",
       "      <td>0.0</td>\n",
       "      <td>10172.909771</td>\n",
       "    </tr>\n",
       "    <tr>\n",
       "      <th>2534</th>\n",
       "      <td>2021-02-08</td>\n",
       "      <td>4489.129913</td>\n",
       "      <td>-30992.291679</td>\n",
       "      <td>48742.427968</td>\n",
       "      <td>4489.129913</td>\n",
       "      <td>4489.129913</td>\n",
       "      <td>6546.573705</td>\n",
       "      <td>6546.573705</td>\n",
       "      <td>6546.573705</td>\n",
       "      <td>239.446957</td>\n",
       "      <td>239.446957</td>\n",
       "      <td>239.446957</td>\n",
       "      <td>6307.126748</td>\n",
       "      <td>6307.126748</td>\n",
       "      <td>6307.126748</td>\n",
       "      <td>0.0</td>\n",
       "      <td>0.0</td>\n",
       "      <td>0.0</td>\n",
       "      <td>11035.703618</td>\n",
       "    </tr>\n",
       "    <tr>\n",
       "      <th>2535</th>\n",
       "      <td>2021-02-09</td>\n",
       "      <td>4430.025447</td>\n",
       "      <td>-27855.482062</td>\n",
       "      <td>48543.456392</td>\n",
       "      <td>4430.025447</td>\n",
       "      <td>4430.025447</td>\n",
       "      <td>6998.911926</td>\n",
       "      <td>6998.911926</td>\n",
       "      <td>6998.911926</td>\n",
       "      <td>-269.356552</td>\n",
       "      <td>-269.356552</td>\n",
       "      <td>-269.356552</td>\n",
       "      <td>7268.268477</td>\n",
       "      <td>7268.268477</td>\n",
       "      <td>7268.268477</td>\n",
       "      <td>0.0</td>\n",
       "      <td>0.0</td>\n",
       "      <td>0.0</td>\n",
       "      <td>11428.937373</td>\n",
       "    </tr>\n",
       "  </tbody>\n",
       "</table>\n",
       "<p>2536 rows × 19 columns</p>\n",
       "</div>"
      ],
      "text/plain": [
       "             ds         trend    yhat_lower    yhat_upper   trend_lower  \\\n",
       "0    2014-03-03  32794.146683   8220.311376  84075.899899  32794.146683   \n",
       "1    2014-03-04  32897.835987  10642.891848  84125.787230  32897.835987   \n",
       "2    2014-03-05  33001.525292   5586.420348  83546.621523  33001.525292   \n",
       "3    2014-03-06  33105.214596   5638.461604  85137.396837  33105.214596   \n",
       "4    2014-03-07  33208.903900   6794.888465  82768.454990  33208.903900   \n",
       "...         ...           ...           ...           ...           ...   \n",
       "2531 2021-02-05   4666.443309 -30497.420719  48981.843947   4666.443309   \n",
       "2532 2021-02-06   4607.338844 -29726.634314  47710.603978   4607.338844   \n",
       "2533 2021-02-07   4548.234378 -27640.405720  52261.888694   4548.234378   \n",
       "2534 2021-02-08   4489.129913 -30992.291679  48742.427968   4489.129913   \n",
       "2535 2021-02-09   4430.025447 -27855.482062  48543.456392   4430.025447   \n",
       "\n",
       "       trend_upper  additive_terms  additive_terms_lower  \\\n",
       "0     32794.146683    14810.596014          14810.596014   \n",
       "1     32897.835987    13945.885993          13945.885993   \n",
       "2     33001.525292    13529.464552          13529.464552   \n",
       "3     33105.214596    12859.789826          12859.789826   \n",
       "4     33208.903900    13189.699901          13189.699901   \n",
       "...            ...             ...                   ...   \n",
       "2531   4666.443309     3664.704373           3664.704373   \n",
       "2532   4607.338844     4640.217178           4640.217178   \n",
       "2533   4548.234378     5624.675393           5624.675393   \n",
       "2534   4489.129913     6546.573705           6546.573705   \n",
       "2535   4430.025447     6998.911926           6998.911926   \n",
       "\n",
       "      additive_terms_upper      weekly  weekly_lower  weekly_upper  \\\n",
       "0             14810.596014  239.446957    239.446957    239.446957   \n",
       "1             13945.885993 -269.356552   -269.356552   -269.356552   \n",
       "2             13529.464552 -288.577537   -288.577537   -288.577537   \n",
       "3             12859.789826 -524.549801   -524.549801   -524.549801   \n",
       "4             13189.699901  270.434389    270.434389    270.434389   \n",
       "...                    ...         ...           ...           ...   \n",
       "2531           3664.704373  270.434389    270.434389    270.434389   \n",
       "2532           4640.217178  281.516297    281.516297    281.516297   \n",
       "2533           5624.675393  291.086248    291.086248    291.086248   \n",
       "2534           6546.573705  239.446957    239.446957    239.446957   \n",
       "2535           6998.911926 -269.356552   -269.356552   -269.356552   \n",
       "\n",
       "            yearly  yearly_lower  yearly_upper  multiplicative_terms  \\\n",
       "0     14571.149057  14571.149057  14571.149057                   0.0   \n",
       "1     14215.242545  14215.242545  14215.242545                   0.0   \n",
       "2     13818.042089  13818.042089  13818.042089                   0.0   \n",
       "3     13384.339628  13384.339628  13384.339628                   0.0   \n",
       "4     12919.265512  12919.265512  12919.265512                   0.0   \n",
       "...            ...           ...           ...                   ...   \n",
       "2531   3394.269984   3394.269984   3394.269984                   0.0   \n",
       "2532   4358.700881   4358.700881   4358.700881                   0.0   \n",
       "2533   5333.589144   5333.589144   5333.589144                   0.0   \n",
       "2534   6307.126748   6307.126748   6307.126748                   0.0   \n",
       "2535   7268.268477   7268.268477   7268.268477                   0.0   \n",
       "\n",
       "      multiplicative_terms_lower  multiplicative_terms_upper          yhat  \n",
       "0                            0.0                         0.0  47604.742696  \n",
       "1                            0.0                         0.0  46843.721980  \n",
       "2                            0.0                         0.0  46530.989843  \n",
       "3                            0.0                         0.0  45965.004422  \n",
       "4                            0.0                         0.0  46398.603801  \n",
       "...                          ...                         ...           ...  \n",
       "2531                         0.0                         0.0   8331.147682  \n",
       "2532                         0.0                         0.0   9247.556022  \n",
       "2533                         0.0                         0.0  10172.909771  \n",
       "2534                         0.0                         0.0  11035.703618  \n",
       "2535                         0.0                         0.0  11428.937373  \n",
       "\n",
       "[2536 rows x 19 columns]"
      ]
     },
     "execution_count": 417,
     "metadata": {},
     "output_type": "execute_result"
    }
   ],
   "source": [
    "forecast_in_sample_df"
   ]
  },
  {
   "cell_type": "code",
   "execution_count": 418,
   "id": "stopped-kansas",
   "metadata": {},
   "outputs": [
    {
     "data": {
      "text/html": [
       "<div>\n",
       "<style scoped>\n",
       "    .dataframe tbody tr th:only-of-type {\n",
       "        vertical-align: middle;\n",
       "    }\n",
       "\n",
       "    .dataframe tbody tr th {\n",
       "        vertical-align: top;\n",
       "    }\n",
       "\n",
       "    .dataframe thead th {\n",
       "        text-align: right;\n",
       "    }\n",
       "</style>\n",
       "<table border=\"1\" class=\"dataframe\">\n",
       "  <thead>\n",
       "    <tr style=\"text-align: right;\">\n",
       "      <th></th>\n",
       "      <th>ds</th>\n",
       "      <th>yhat</th>\n",
       "      <th>yhat_lower</th>\n",
       "      <th>yhat_upper</th>\n",
       "    </tr>\n",
       "  </thead>\n",
       "  <tbody>\n",
       "    <tr>\n",
       "      <th>0</th>\n",
       "      <td>2014-03-03</td>\n",
       "      <td>47604.742696</td>\n",
       "      <td>8220.311376</td>\n",
       "      <td>84075.899899</td>\n",
       "    </tr>\n",
       "    <tr>\n",
       "      <th>1</th>\n",
       "      <td>2014-03-04</td>\n",
       "      <td>46843.721980</td>\n",
       "      <td>10642.891848</td>\n",
       "      <td>84125.787230</td>\n",
       "    </tr>\n",
       "    <tr>\n",
       "      <th>2</th>\n",
       "      <td>2014-03-05</td>\n",
       "      <td>46530.989843</td>\n",
       "      <td>5586.420348</td>\n",
       "      <td>83546.621523</td>\n",
       "    </tr>\n",
       "    <tr>\n",
       "      <th>3</th>\n",
       "      <td>2014-03-06</td>\n",
       "      <td>45965.004422</td>\n",
       "      <td>5638.461604</td>\n",
       "      <td>85137.396837</td>\n",
       "    </tr>\n",
       "    <tr>\n",
       "      <th>4</th>\n",
       "      <td>2014-03-07</td>\n",
       "      <td>46398.603801</td>\n",
       "      <td>6794.888465</td>\n",
       "      <td>82768.454990</td>\n",
       "    </tr>\n",
       "    <tr>\n",
       "      <th>...</th>\n",
       "      <td>...</td>\n",
       "      <td>...</td>\n",
       "      <td>...</td>\n",
       "      <td>...</td>\n",
       "    </tr>\n",
       "    <tr>\n",
       "      <th>2531</th>\n",
       "      <td>2021-02-05</td>\n",
       "      <td>8331.147682</td>\n",
       "      <td>-30497.420719</td>\n",
       "      <td>48981.843947</td>\n",
       "    </tr>\n",
       "    <tr>\n",
       "      <th>2532</th>\n",
       "      <td>2021-02-06</td>\n",
       "      <td>9247.556022</td>\n",
       "      <td>-29726.634314</td>\n",
       "      <td>47710.603978</td>\n",
       "    </tr>\n",
       "    <tr>\n",
       "      <th>2533</th>\n",
       "      <td>2021-02-07</td>\n",
       "      <td>10172.909771</td>\n",
       "      <td>-27640.405720</td>\n",
       "      <td>52261.888694</td>\n",
       "    </tr>\n",
       "    <tr>\n",
       "      <th>2534</th>\n",
       "      <td>2021-02-08</td>\n",
       "      <td>11035.703618</td>\n",
       "      <td>-30992.291679</td>\n",
       "      <td>48742.427968</td>\n",
       "    </tr>\n",
       "    <tr>\n",
       "      <th>2535</th>\n",
       "      <td>2021-02-09</td>\n",
       "      <td>11428.937373</td>\n",
       "      <td>-27855.482062</td>\n",
       "      <td>48543.456392</td>\n",
       "    </tr>\n",
       "  </tbody>\n",
       "</table>\n",
       "<p>2536 rows × 4 columns</p>\n",
       "</div>"
      ],
      "text/plain": [
       "             ds          yhat    yhat_lower    yhat_upper\n",
       "0    2014-03-03  47604.742696   8220.311376  84075.899899\n",
       "1    2014-03-04  46843.721980  10642.891848  84125.787230\n",
       "2    2014-03-05  46530.989843   5586.420348  83546.621523\n",
       "3    2014-03-06  45965.004422   5638.461604  85137.396837\n",
       "4    2014-03-07  46398.603801   6794.888465  82768.454990\n",
       "...         ...           ...           ...           ...\n",
       "2531 2021-02-05   8331.147682 -30497.420719  48981.843947\n",
       "2532 2021-02-06   9247.556022 -29726.634314  47710.603978\n",
       "2533 2021-02-07  10172.909771 -27640.405720  52261.888694\n",
       "2534 2021-02-08  11035.703618 -30992.291679  48742.427968\n",
       "2535 2021-02-09  11428.937373 -27855.482062  48543.456392\n",
       "\n",
       "[2536 rows x 4 columns]"
      ]
     },
     "execution_count": 418,
     "metadata": {},
     "output_type": "execute_result"
    }
   ],
   "source": [
    "forecast_in_sample_df[['ds', 'yhat', 'yhat_lower', 'yhat_upper']]"
   ]
  },
  {
   "cell_type": "code",
   "execution_count": 419,
   "id": "fewer-color",
   "metadata": {},
   "outputs": [
    {
     "data": {
      "image/png": "[encoded data removed]",
      "text/plain": [
       "<Figure size 720x432 with 1 Axes>"
      ]
     },
     "metadata": {},
     "output_type": "display_data"
    }
   ],
   "source": [
    "# plot forecast\n",
    "model.plot(forecast_in_sample_df)\n",
    "pyplot.show()"
   ]
  },
  {
   "cell_type": "code",
   "execution_count": null,
   "id": "complimentary-defeat",
   "metadata": {},
   "outputs": [],
   "source": []
  }
 ],
 "metadata": {
  "kernelspec": {
   "display_name": "Python 3 (ipykernel)",
   "language": "python",
   "name": "python3"
  },
  "language_info": {
   "codemirror_mode": {
    "name": "ipython",
    "version": 3
   },
   "file_extension": ".py",
   "mimetype": "text/x-python",
   "name": "python",
   "nbconvert_exporter": "python",
   "pygments_lexer": "ipython3",
   "version": "3.8.11"
  }
 },
 "nbformat": 4,
 "nbformat_minor": 5
}
